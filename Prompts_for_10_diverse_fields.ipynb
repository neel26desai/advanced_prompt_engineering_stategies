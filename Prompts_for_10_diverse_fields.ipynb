{
  "nbformat": 4,
  "nbformat_minor": 0,
  "metadata": {
    "colab": {
      "provenance": [],
      "toc_visible": true,
      "authorship_tag": "ABX9TyMnosGSkxHeAvdmU8yhymBB",
      "include_colab_link": true
    },
    "kernelspec": {
      "name": "python3",
      "display_name": "Python 3"
    },
    "language_info": {
      "name": "python"
    }
  },
  "cells": [
    {
      "cell_type": "markdown",
      "metadata": {
        "id": "view-in-github",
        "colab_type": "text"
      },
      "source": [
        "<a href=\"https://colab.research.google.com/github/neel26desai/advanced_prompt_engineering_stategies/blob/main/Prompts_for_10_diverse_fields.ipynb\" target=\"_parent\"><img src=\"https://colab.research.google.com/assets/colab-badge.svg\" alt=\"Open In Colab\"/></a>"
      ]
    },
    {
      "cell_type": "code",
      "source": [
        "!pip install openai\n",
        "!pip install langchain langchain-community\n",
        "!pip install -qU langchain-openai\n",
        "!pip install langchain-core"
      ],
      "metadata": {
        "colab": {
          "base_uri": "https://localhost:8080/"
        },
        "id": "xuroUyvS75XH",
        "outputId": "8ff13802-1647-451c-f87f-8c69e45c610a"
      },
      "execution_count": 1,
      "outputs": [
        {
          "output_type": "stream",
          "name": "stdout",
          "text": [
            "Requirement already satisfied: openai in /usr/local/lib/python3.10/dist-packages (1.54.4)\n",
            "Requirement already satisfied: anyio<5,>=3.5.0 in /usr/local/lib/python3.10/dist-packages (from openai) (3.7.1)\n",
            "Requirement already satisfied: distro<2,>=1.7.0 in /usr/local/lib/python3.10/dist-packages (from openai) (1.9.0)\n",
            "Requirement already satisfied: httpx<1,>=0.23.0 in /usr/local/lib/python3.10/dist-packages (from openai) (0.27.2)\n",
            "Requirement already satisfied: jiter<1,>=0.4.0 in /usr/local/lib/python3.10/dist-packages (from openai) (0.7.1)\n",
            "Requirement already satisfied: pydantic<3,>=1.9.0 in /usr/local/lib/python3.10/dist-packages (from openai) (2.9.2)\n",
            "Requirement already satisfied: sniffio in /usr/local/lib/python3.10/dist-packages (from openai) (1.3.1)\n",
            "Requirement already satisfied: tqdm>4 in /usr/local/lib/python3.10/dist-packages (from openai) (4.66.6)\n",
            "Requirement already satisfied: typing-extensions<5,>=4.11 in /usr/local/lib/python3.10/dist-packages (from openai) (4.12.2)\n",
            "Requirement already satisfied: idna>=2.8 in /usr/local/lib/python3.10/dist-packages (from anyio<5,>=3.5.0->openai) (3.10)\n",
            "Requirement already satisfied: exceptiongroup in /usr/local/lib/python3.10/dist-packages (from anyio<5,>=3.5.0->openai) (1.2.2)\n",
            "Requirement already satisfied: certifi in /usr/local/lib/python3.10/dist-packages (from httpx<1,>=0.23.0->openai) (2024.8.30)\n",
            "Requirement already satisfied: httpcore==1.* in /usr/local/lib/python3.10/dist-packages (from httpx<1,>=0.23.0->openai) (1.0.7)\n",
            "Requirement already satisfied: h11<0.15,>=0.13 in /usr/local/lib/python3.10/dist-packages (from httpcore==1.*->httpx<1,>=0.23.0->openai) (0.14.0)\n",
            "Requirement already satisfied: annotated-types>=0.6.0 in /usr/local/lib/python3.10/dist-packages (from pydantic<3,>=1.9.0->openai) (0.7.0)\n",
            "Requirement already satisfied: pydantic-core==2.23.4 in /usr/local/lib/python3.10/dist-packages (from pydantic<3,>=1.9.0->openai) (2.23.4)\n",
            "Requirement already satisfied: langchain in /usr/local/lib/python3.10/dist-packages (0.3.7)\n",
            "Collecting langchain-community\n",
            "  Downloading langchain_community-0.3.8-py3-none-any.whl.metadata (2.9 kB)\n",
            "Requirement already satisfied: PyYAML>=5.3 in /usr/local/lib/python3.10/dist-packages (from langchain) (6.0.2)\n",
            "Requirement already satisfied: SQLAlchemy<3,>=1.4 in /usr/local/lib/python3.10/dist-packages (from langchain) (2.0.36)\n",
            "Requirement already satisfied: aiohttp<4.0.0,>=3.8.3 in /usr/local/lib/python3.10/dist-packages (from langchain) (3.11.2)\n",
            "Requirement already satisfied: async-timeout<5.0.0,>=4.0.0 in /usr/local/lib/python3.10/dist-packages (from langchain) (4.0.3)\n",
            "Requirement already satisfied: langchain-core<0.4.0,>=0.3.15 in /usr/local/lib/python3.10/dist-packages (from langchain) (0.3.19)\n",
            "Requirement already satisfied: langchain-text-splitters<0.4.0,>=0.3.0 in /usr/local/lib/python3.10/dist-packages (from langchain) (0.3.2)\n",
            "Requirement already satisfied: langsmith<0.2.0,>=0.1.17 in /usr/local/lib/python3.10/dist-packages (from langchain) (0.1.143)\n",
            "Requirement already satisfied: numpy<2,>=1 in /usr/local/lib/python3.10/dist-packages (from langchain) (1.26.4)\n",
            "Requirement already satisfied: pydantic<3.0.0,>=2.7.4 in /usr/local/lib/python3.10/dist-packages (from langchain) (2.9.2)\n",
            "Requirement already satisfied: requests<3,>=2 in /usr/local/lib/python3.10/dist-packages (from langchain) (2.32.3)\n",
            "Requirement already satisfied: tenacity!=8.4.0,<10,>=8.1.0 in /usr/local/lib/python3.10/dist-packages (from langchain) (9.0.0)\n",
            "Collecting SQLAlchemy<3,>=1.4 (from langchain)\n",
            "  Downloading SQLAlchemy-2.0.35-cp310-cp310-manylinux_2_17_x86_64.manylinux2014_x86_64.whl.metadata (9.6 kB)\n",
            "Collecting dataclasses-json<0.7,>=0.5.7 (from langchain-community)\n",
            "  Downloading dataclasses_json-0.6.7-py3-none-any.whl.metadata (25 kB)\n",
            "Collecting httpx-sse<0.5.0,>=0.4.0 (from langchain-community)\n",
            "  Downloading httpx_sse-0.4.0-py3-none-any.whl.metadata (9.0 kB)\n",
            "Collecting langchain\n",
            "  Downloading langchain-0.3.9-py3-none-any.whl.metadata (7.1 kB)\n",
            "Collecting langchain-core<0.4.0,>=0.3.15 (from langchain)\n",
            "  Downloading langchain_core-0.3.21-py3-none-any.whl.metadata (6.3 kB)\n",
            "Collecting pydantic-settings<3.0.0,>=2.4.0 (from langchain-community)\n",
            "  Downloading pydantic_settings-2.6.1-py3-none-any.whl.metadata (3.5 kB)\n",
            "Requirement already satisfied: aiohappyeyeballs>=2.3.0 in /usr/local/lib/python3.10/dist-packages (from aiohttp<4.0.0,>=3.8.3->langchain) (2.4.3)\n",
            "Requirement already satisfied: aiosignal>=1.1.2 in /usr/local/lib/python3.10/dist-packages (from aiohttp<4.0.0,>=3.8.3->langchain) (1.3.1)\n",
            "Requirement already satisfied: attrs>=17.3.0 in /usr/local/lib/python3.10/dist-packages (from aiohttp<4.0.0,>=3.8.3->langchain) (24.2.0)\n",
            "Requirement already satisfied: frozenlist>=1.1.1 in /usr/local/lib/python3.10/dist-packages (from aiohttp<4.0.0,>=3.8.3->langchain) (1.5.0)\n",
            "Requirement already satisfied: multidict<7.0,>=4.5 in /usr/local/lib/python3.10/dist-packages (from aiohttp<4.0.0,>=3.8.3->langchain) (6.1.0)\n",
            "Requirement already satisfied: propcache>=0.2.0 in /usr/local/lib/python3.10/dist-packages (from aiohttp<4.0.0,>=3.8.3->langchain) (0.2.0)\n",
            "Requirement already satisfied: yarl<2.0,>=1.17.0 in /usr/local/lib/python3.10/dist-packages (from aiohttp<4.0.0,>=3.8.3->langchain) (1.17.2)\n",
            "Collecting marshmallow<4.0.0,>=3.18.0 (from dataclasses-json<0.7,>=0.5.7->langchain-community)\n",
            "  Downloading marshmallow-3.23.1-py3-none-any.whl.metadata (7.5 kB)\n",
            "Collecting typing-inspect<1,>=0.4.0 (from dataclasses-json<0.7,>=0.5.7->langchain-community)\n",
            "  Downloading typing_inspect-0.9.0-py3-none-any.whl.metadata (1.5 kB)\n",
            "Requirement already satisfied: jsonpatch<2.0,>=1.33 in /usr/local/lib/python3.10/dist-packages (from langchain-core<0.4.0,>=0.3.15->langchain) (1.33)\n",
            "Requirement already satisfied: packaging<25,>=23.2 in /usr/local/lib/python3.10/dist-packages (from langchain-core<0.4.0,>=0.3.15->langchain) (24.2)\n",
            "Requirement already satisfied: typing-extensions>=4.7 in /usr/local/lib/python3.10/dist-packages (from langchain-core<0.4.0,>=0.3.15->langchain) (4.12.2)\n",
            "Requirement already satisfied: httpx<1,>=0.23.0 in /usr/local/lib/python3.10/dist-packages (from langsmith<0.2.0,>=0.1.17->langchain) (0.27.2)\n",
            "Requirement already satisfied: orjson<4.0.0,>=3.9.14 in /usr/local/lib/python3.10/dist-packages (from langsmith<0.2.0,>=0.1.17->langchain) (3.10.11)\n",
            "Requirement already satisfied: requests-toolbelt<2.0.0,>=1.0.0 in /usr/local/lib/python3.10/dist-packages (from langsmith<0.2.0,>=0.1.17->langchain) (1.0.0)\n",
            "Requirement already satisfied: annotated-types>=0.6.0 in /usr/local/lib/python3.10/dist-packages (from pydantic<3.0.0,>=2.7.4->langchain) (0.7.0)\n",
            "Requirement already satisfied: pydantic-core==2.23.4 in /usr/local/lib/python3.10/dist-packages (from pydantic<3.0.0,>=2.7.4->langchain) (2.23.4)\n",
            "Collecting python-dotenv>=0.21.0 (from pydantic-settings<3.0.0,>=2.4.0->langchain-community)\n",
            "  Downloading python_dotenv-1.0.1-py3-none-any.whl.metadata (23 kB)\n",
            "Requirement already satisfied: charset-normalizer<4,>=2 in /usr/local/lib/python3.10/dist-packages (from requests<3,>=2->langchain) (3.4.0)\n",
            "Requirement already satisfied: idna<4,>=2.5 in /usr/local/lib/python3.10/dist-packages (from requests<3,>=2->langchain) (3.10)\n",
            "Requirement already satisfied: urllib3<3,>=1.21.1 in /usr/local/lib/python3.10/dist-packages (from requests<3,>=2->langchain) (2.2.3)\n",
            "Requirement already satisfied: certifi>=2017.4.17 in /usr/local/lib/python3.10/dist-packages (from requests<3,>=2->langchain) (2024.8.30)\n",
            "Requirement already satisfied: greenlet!=0.4.17 in /usr/local/lib/python3.10/dist-packages (from SQLAlchemy<3,>=1.4->langchain) (3.1.1)\n",
            "Requirement already satisfied: anyio in /usr/local/lib/python3.10/dist-packages (from httpx<1,>=0.23.0->langsmith<0.2.0,>=0.1.17->langchain) (3.7.1)\n",
            "Requirement already satisfied: httpcore==1.* in /usr/local/lib/python3.10/dist-packages (from httpx<1,>=0.23.0->langsmith<0.2.0,>=0.1.17->langchain) (1.0.7)\n",
            "Requirement already satisfied: sniffio in /usr/local/lib/python3.10/dist-packages (from httpx<1,>=0.23.0->langsmith<0.2.0,>=0.1.17->langchain) (1.3.1)\n",
            "Requirement already satisfied: h11<0.15,>=0.13 in /usr/local/lib/python3.10/dist-packages (from httpcore==1.*->httpx<1,>=0.23.0->langsmith<0.2.0,>=0.1.17->langchain) (0.14.0)\n",
            "Requirement already satisfied: jsonpointer>=1.9 in /usr/local/lib/python3.10/dist-packages (from jsonpatch<2.0,>=1.33->langchain-core<0.4.0,>=0.3.15->langchain) (3.0.0)\n",
            "Collecting mypy-extensions>=0.3.0 (from typing-inspect<1,>=0.4.0->dataclasses-json<0.7,>=0.5.7->langchain-community)\n",
            "  Downloading mypy_extensions-1.0.0-py3-none-any.whl.metadata (1.1 kB)\n",
            "Requirement already satisfied: exceptiongroup in /usr/local/lib/python3.10/dist-packages (from anyio->httpx<1,>=0.23.0->langsmith<0.2.0,>=0.1.17->langchain) (1.2.2)\n",
            "Downloading langchain_community-0.3.8-py3-none-any.whl (2.4 MB)\n",
            "\u001b[2K   \u001b[90m━━━━━━━━━━━━━━━━━━━━━━━━━━━━━━━━━━━━━━━━\u001b[0m \u001b[32m2.4/2.4 MB\u001b[0m \u001b[31m20.5 MB/s\u001b[0m eta \u001b[36m0:00:00\u001b[0m\n",
            "\u001b[?25hDownloading langchain-0.3.9-py3-none-any.whl (1.0 MB)\n",
            "\u001b[2K   \u001b[90m━━━━━━━━━━━━━━━━━━━━━━━━━━━━━━━━━━━━━━━━\u001b[0m \u001b[32m1.0/1.0 MB\u001b[0m \u001b[31m39.1 MB/s\u001b[0m eta \u001b[36m0:00:00\u001b[0m\n",
            "\u001b[?25hDownloading dataclasses_json-0.6.7-py3-none-any.whl (28 kB)\n",
            "Downloading httpx_sse-0.4.0-py3-none-any.whl (7.8 kB)\n",
            "Downloading langchain_core-0.3.21-py3-none-any.whl (409 kB)\n",
            "\u001b[2K   \u001b[90m━━━━━━━━━━━━━━━━━━━━━━━━━━━━━━━━━━━━━━━━\u001b[0m \u001b[32m409.5/409.5 kB\u001b[0m \u001b[31m17.8 MB/s\u001b[0m eta \u001b[36m0:00:00\u001b[0m\n",
            "\u001b[?25hDownloading pydantic_settings-2.6.1-py3-none-any.whl (28 kB)\n",
            "Downloading SQLAlchemy-2.0.35-cp310-cp310-manylinux_2_17_x86_64.manylinux2014_x86_64.whl (3.1 MB)\n",
            "\u001b[2K   \u001b[90m━━━━━━━━━━━━━━━━━━━━━━━━━━━━━━━━━━━━━━━━\u001b[0m \u001b[32m3.1/3.1 MB\u001b[0m \u001b[31m17.4 MB/s\u001b[0m eta \u001b[36m0:00:00\u001b[0m\n",
            "\u001b[?25hDownloading marshmallow-3.23.1-py3-none-any.whl (49 kB)\n",
            "\u001b[2K   \u001b[90m━━━━━━━━━━━━━━━━━━━━━━━━━━━━━━━━━━━━━━━━\u001b[0m \u001b[32m49.5/49.5 kB\u001b[0m \u001b[31m2.1 MB/s\u001b[0m eta \u001b[36m0:00:00\u001b[0m\n",
            "\u001b[?25hDownloading python_dotenv-1.0.1-py3-none-any.whl (19 kB)\n",
            "Downloading typing_inspect-0.9.0-py3-none-any.whl (8.8 kB)\n",
            "Downloading mypy_extensions-1.0.0-py3-none-any.whl (4.7 kB)\n",
            "Installing collected packages: SQLAlchemy, python-dotenv, mypy-extensions, marshmallow, httpx-sse, typing-inspect, pydantic-settings, dataclasses-json, langchain-core, langchain, langchain-community\n",
            "  Attempting uninstall: SQLAlchemy\n",
            "    Found existing installation: SQLAlchemy 2.0.36\n",
            "    Uninstalling SQLAlchemy-2.0.36:\n",
            "      Successfully uninstalled SQLAlchemy-2.0.36\n",
            "  Attempting uninstall: langchain-core\n",
            "    Found existing installation: langchain-core 0.3.19\n",
            "    Uninstalling langchain-core-0.3.19:\n",
            "      Successfully uninstalled langchain-core-0.3.19\n",
            "  Attempting uninstall: langchain\n",
            "    Found existing installation: langchain 0.3.7\n",
            "    Uninstalling langchain-0.3.7:\n",
            "      Successfully uninstalled langchain-0.3.7\n",
            "Successfully installed SQLAlchemy-2.0.35 dataclasses-json-0.6.7 httpx-sse-0.4.0 langchain-0.3.9 langchain-community-0.3.8 langchain-core-0.3.21 marshmallow-3.23.1 mypy-extensions-1.0.0 pydantic-settings-2.6.1 python-dotenv-1.0.1 typing-inspect-0.9.0\n",
            "\u001b[2K   \u001b[90m━━━━━━━━━━━━━━━━━━━━━━━━━━━━━━━━━━━━━━━━\u001b[0m \u001b[32m50.6/50.6 kB\u001b[0m \u001b[31m2.0 MB/s\u001b[0m eta \u001b[36m0:00:00\u001b[0m\n",
            "\u001b[2K   \u001b[90m━━━━━━━━━━━━━━━━━━━━━━━━━━━━━━━━━━━━━━━━\u001b[0m \u001b[32m1.2/1.2 MB\u001b[0m \u001b[31m16.2 MB/s\u001b[0m eta \u001b[36m0:00:00\u001b[0m\n",
            "\u001b[?25hRequirement already satisfied: langchain-core in /usr/local/lib/python3.10/dist-packages (0.3.21)\n",
            "Requirement already satisfied: PyYAML>=5.3 in /usr/local/lib/python3.10/dist-packages (from langchain-core) (6.0.2)\n",
            "Requirement already satisfied: jsonpatch<2.0,>=1.33 in /usr/local/lib/python3.10/dist-packages (from langchain-core) (1.33)\n",
            "Requirement already satisfied: langsmith<0.2.0,>=0.1.125 in /usr/local/lib/python3.10/dist-packages (from langchain-core) (0.1.143)\n",
            "Requirement already satisfied: packaging<25,>=23.2 in /usr/local/lib/python3.10/dist-packages (from langchain-core) (24.2)\n",
            "Requirement already satisfied: pydantic<3.0.0,>=2.5.2 in /usr/local/lib/python3.10/dist-packages (from langchain-core) (2.9.2)\n",
            "Requirement already satisfied: tenacity!=8.4.0,<10.0.0,>=8.1.0 in /usr/local/lib/python3.10/dist-packages (from langchain-core) (9.0.0)\n",
            "Requirement already satisfied: typing-extensions>=4.7 in /usr/local/lib/python3.10/dist-packages (from langchain-core) (4.12.2)\n",
            "Requirement already satisfied: jsonpointer>=1.9 in /usr/local/lib/python3.10/dist-packages (from jsonpatch<2.0,>=1.33->langchain-core) (3.0.0)\n",
            "Requirement already satisfied: httpx<1,>=0.23.0 in /usr/local/lib/python3.10/dist-packages (from langsmith<0.2.0,>=0.1.125->langchain-core) (0.27.2)\n",
            "Requirement already satisfied: orjson<4.0.0,>=3.9.14 in /usr/local/lib/python3.10/dist-packages (from langsmith<0.2.0,>=0.1.125->langchain-core) (3.10.11)\n",
            "Requirement already satisfied: requests<3,>=2 in /usr/local/lib/python3.10/dist-packages (from langsmith<0.2.0,>=0.1.125->langchain-core) (2.32.3)\n",
            "Requirement already satisfied: requests-toolbelt<2.0.0,>=1.0.0 in /usr/local/lib/python3.10/dist-packages (from langsmith<0.2.0,>=0.1.125->langchain-core) (1.0.0)\n",
            "Requirement already satisfied: annotated-types>=0.6.0 in /usr/local/lib/python3.10/dist-packages (from pydantic<3.0.0,>=2.5.2->langchain-core) (0.7.0)\n",
            "Requirement already satisfied: pydantic-core==2.23.4 in /usr/local/lib/python3.10/dist-packages (from pydantic<3.0.0,>=2.5.2->langchain-core) (2.23.4)\n",
            "Requirement already satisfied: anyio in /usr/local/lib/python3.10/dist-packages (from httpx<1,>=0.23.0->langsmith<0.2.0,>=0.1.125->langchain-core) (3.7.1)\n",
            "Requirement already satisfied: certifi in /usr/local/lib/python3.10/dist-packages (from httpx<1,>=0.23.0->langsmith<0.2.0,>=0.1.125->langchain-core) (2024.8.30)\n",
            "Requirement already satisfied: httpcore==1.* in /usr/local/lib/python3.10/dist-packages (from httpx<1,>=0.23.0->langsmith<0.2.0,>=0.1.125->langchain-core) (1.0.7)\n",
            "Requirement already satisfied: idna in /usr/local/lib/python3.10/dist-packages (from httpx<1,>=0.23.0->langsmith<0.2.0,>=0.1.125->langchain-core) (3.10)\n",
            "Requirement already satisfied: sniffio in /usr/local/lib/python3.10/dist-packages (from httpx<1,>=0.23.0->langsmith<0.2.0,>=0.1.125->langchain-core) (1.3.1)\n",
            "Requirement already satisfied: h11<0.15,>=0.13 in /usr/local/lib/python3.10/dist-packages (from httpcore==1.*->httpx<1,>=0.23.0->langsmith<0.2.0,>=0.1.125->langchain-core) (0.14.0)\n",
            "Requirement already satisfied: charset-normalizer<4,>=2 in /usr/local/lib/python3.10/dist-packages (from requests<3,>=2->langsmith<0.2.0,>=0.1.125->langchain-core) (3.4.0)\n",
            "Requirement already satisfied: urllib3<3,>=1.21.1 in /usr/local/lib/python3.10/dist-packages (from requests<3,>=2->langsmith<0.2.0,>=0.1.125->langchain-core) (2.2.3)\n",
            "Requirement already satisfied: exceptiongroup in /usr/local/lib/python3.10/dist-packages (from anyio->httpx<1,>=0.23.0->langsmith<0.2.0,>=0.1.125->langchain-core) (1.2.2)\n"
          ]
        }
      ]
    },
    {
      "cell_type": "code",
      "source": [
        "import openai\n",
        "from langchain.prompts import PromptTemplate\n",
        "from langchain_openai import ChatOpenAI\n",
        "from google.colab import userdata"
      ],
      "metadata": {
        "id": "kHPdBrq8-QnT"
      },
      "execution_count": 2,
      "outputs": []
    },
    {
      "cell_type": "code",
      "source": [
        "llm = ChatOpenAI(model_name=\"gpt-4o-mini\",api_key=userdata.get('open_ai'))"
      ],
      "metadata": {
        "id": "x0Ti3_zt-Wdb"
      },
      "execution_count": 7,
      "outputs": []
    },
    {
      "cell_type": "markdown",
      "source": [
        "## 1. Education and E-learning"
      ],
      "metadata": {
        "id": "aau_HKYw7uaE"
      }
    },
    {
      "cell_type": "markdown",
      "source": [
        "### Template 1: Generating Personalized Study Materials"
      ],
      "metadata": {
        "id": "ofogGYIK-0tp"
      }
    },
    {
      "cell_type": "code",
      "execution_count": 9,
      "metadata": {
        "id": "BY_RHV7s7puo"
      },
      "outputs": [],
      "source": [
        "template1 = PromptTemplate(\n",
        "    input_variables=[\"subject\", \"student_name\", \"topic\", \"grade_level\"],\n",
        "    template=(\n",
        "        \"Act as a subject matter expert in {subject}. A student named {student_name} \"\n",
        "        \"is struggling to understand {topic}. Based on their grade level ({grade_level}), \"\n",
        "        \"generate an explanation and a short example to clarify the concept.\"\n",
        "    )\n",
        ")\n",
        "\n",
        "# Test Case\n",
        "prompt = template1.format(subject=\"Physics\", student_name=\"Alex\", topic=\"Newton's First Law\", grade_level=\"10th grade\")\n",
        "response = llm.invoke(prompt)"
      ]
    },
    {
      "cell_type": "code",
      "source": [
        "print(response.content)"
      ],
      "metadata": {
        "colab": {
          "base_uri": "https://localhost:8080/"
        },
        "id": "LplDLHIs-_DN",
        "outputId": "6977b4af-9f7f-48d1-f887-30816a4d66a8"
      },
      "execution_count": 10,
      "outputs": [
        {
          "output_type": "stream",
          "name": "stdout",
          "text": [
            "Absolutely, I'd be happy to help Alex understand Newton's First Law of Motion!\n",
            "\n",
            "### Explanation of Newton's First Law:\n",
            "\n",
            "Newton's First Law, often referred to as the Law of Inertia, states that an object at rest will remain at rest, and an object in motion will continue moving at a constant velocity (in a straight line) unless acted upon by a net external force. In simpler terms, it means that things don’t just start moving or stop moving on their own; something has to cause that change.\n",
            "\n",
            "**Key Points:**\n",
            "1. **Inertia**: This is the tendency of an object to resist changes in its state of motion. The more mass an object has, the more inertia it has, which means it will be harder to change its motion.\n",
            "2. **External Force**: A net external force is any push or pull that can cause an object to accelerate (change its speed or direction). If no net force is acting on an object, its state of motion will not change.\n",
            "\n",
            "### Example:\n",
            "\n",
            "Imagine you're sitting in a car that is parked. If the car is not turned on, it will not move until you either push it (an external force) or start the engine and accelerate it. This is an example of an object at rest (the car) staying at rest until a force (your push or the engine) acts on it.\n",
            "\n",
            "Now, let's say the car is moving on a straight road at a constant speed. If you take your foot off the gas pedal, the car will eventually slow down and stop because of forces like friction and air resistance acting against it. However, if you were in space where there is no friction (a vacuum), the car would keep moving at the same speed in the same direction indefinitely unless another force acts on it (like hitting a wall).\n",
            "\n",
            "### Summary:\n",
            "\n",
            "So, to put it all together: Newton's First Law tells us that objects like to keep doing what they’re doing. If they’re still, they stay still. If they’re moving, they keep moving. Changes in that motion require an external force! \n",
            "\n",
            "Feel free to ask more questions if you need further clarification, Alex!\n"
          ]
        }
      ]
    },
    {
      "cell_type": "markdown",
      "source": [
        "### Prompt Template 2: Creating MCQs for Assessments"
      ],
      "metadata": {
        "id": "OFqnT0G9_qfA"
      }
    },
    {
      "cell_type": "code",
      "source": [
        "template2 = PromptTemplate(\n",
        "    input_variables=[\"topic\", \"subject\", \"grade_level\"],\n",
        "    template=(\n",
        "        \"Create 5 multiple-choice questions (MCQs) for the topic \\\"{topic}\\\" in {subject}. \"\n",
        "        \"Ensure the difficulty level matches {grade_level}. Each question should have 4 options, \"\n",
        "        \"with one correct answer. Clearly mark the correct answer.\"\n",
        "    )\n",
        ")\n",
        "\n",
        "# Test Case\n",
        "prompt = template2.format(topic=\"Photosynthesis\", subject=\"Biology\", grade_level=\"8th grade\")\n",
        "response = llm.invoke(prompt)"
      ],
      "metadata": {
        "id": "awjETdSv_Mi1"
      },
      "execution_count": 11,
      "outputs": []
    },
    {
      "cell_type": "code",
      "source": [
        "print(response.content)"
      ],
      "metadata": {
        "colab": {
          "base_uri": "https://localhost:8080/"
        },
        "id": "oUvirA8X_xA_",
        "outputId": "bf1f666e-24a5-4478-9b9a-aa954b8de94f"
      },
      "execution_count": 12,
      "outputs": [
        {
          "output_type": "stream",
          "name": "stdout",
          "text": [
            "Here are five multiple-choice questions about photosynthesis suitable for 8th-grade students:\n",
            "\n",
            "### Question 1:\n",
            "What is the primary pigment used in plants to capture sunlight for photosynthesis?\n",
            "\n",
            "A) Chlorophyll  \n",
            "B) Carotene  \n",
            "C) Xanthophyll  \n",
            "D) Melanin  \n",
            "\n",
            "**Correct Answer: A) Chlorophyll**\n",
            "\n",
            "---\n",
            "\n",
            "### Question 2:\n",
            "In which part of the plant does photosynthesis primarily occur?\n",
            "\n",
            "A) Roots  \n",
            "B) Stem  \n",
            "C) Leaves  \n",
            "D) Flowers  \n",
            "\n",
            "**Correct Answer: C) Leaves**\n",
            "\n",
            "---\n",
            "\n",
            "### Question 3:\n",
            "What are the main products of photosynthesis?\n",
            "\n",
            "A) Oxygen and glucose  \n",
            "B) Carbon dioxide and water  \n",
            "C) Nitrogen and glucose  \n",
            "D) Oxygen and carbon dioxide  \n",
            "\n",
            "**Correct Answer: A) Oxygen and glucose**\n",
            "\n",
            "---\n",
            "\n",
            "### Question 4:\n",
            "Which of the following is NOT a raw material required for photosynthesis?\n",
            "\n",
            "A) Sunlight  \n",
            "B) Water  \n",
            "C) Carbon dioxide  \n",
            "D) Nitrogen  \n",
            "\n",
            "**Correct Answer: D) Nitrogen**\n",
            "\n",
            "---\n",
            "\n",
            "### Question 5:\n",
            "During photosynthesis, plants convert carbon dioxide and water into glucose and oxygen. What is the overall chemical equation for this process?\n",
            "\n",
            "A) 6CO₂ + 6H₂O → C₆H₁₂O₆ + 6O₂  \n",
            "B) C₆H₁₂O₆ + 6O₂ → 6CO₂ + 6H₂O  \n",
            "C) 6O₂ + 6H₂O → C₆H₁₂O₆ + 6CO₂  \n",
            "D) 6H₂O + 6CO₂ → C₆H₁₂O₆ + 6O₂  \n",
            "\n",
            "**Correct Answer: A) 6CO₂ + 6H₂O → C₆H₁₂O₆ + 6O₂**\n",
            "\n",
            "--- \n",
            "\n",
            "Feel free to use or modify these questions as needed!\n"
          ]
        }
      ]
    },
    {
      "cell_type": "markdown",
      "source": [
        "### Prompt Template 3: Summarizing Complex Topics"
      ],
      "metadata": {
        "id": "kk6nthkd_9Sc"
      }
    },
    {
      "cell_type": "code",
      "source": [
        "template3 = PromptTemplate(\n",
        "    input_variables=[\"topic\", \"subject\", \"grade_level\"],\n",
        "    template=(\n",
        "        \"Summarize the topic \\\"{topic}\\\" in {subject} in simple language for a student in {grade_level}. \"\n",
        "        \"Include 3 key points and 1 real-world application.\"\n",
        "    )\n",
        ")\n",
        "\n",
        "# Test Case\n",
        "prompt = template3.format(topic=\"Climate Change\", subject=\"Geography\", grade_level=\"7th grade\")\n",
        "response = llm.invoke(prompt)"
      ],
      "metadata": {
        "id": "z3z4iFNF_yih"
      },
      "execution_count": 13,
      "outputs": []
    },
    {
      "cell_type": "code",
      "source": [
        "print(response.content)"
      ],
      "metadata": {
        "colab": {
          "base_uri": "https://localhost:8080/"
        },
        "id": "VLCo8NGFAHBJ",
        "outputId": "edfb1608-594c-4b35-c1cf-db3eaeb75234"
      },
      "execution_count": 14,
      "outputs": [
        {
          "output_type": "stream",
          "name": "stdout",
          "text": [
            "**Climate Change** is a big topic in Geography that talks about how the Earth's climate is changing over time. Here are three key points to understand:\n",
            "\n",
            "1. **What is Climate Change?** \n",
            "   - Climate change refers to long-term changes in temperature, precipitation, and other weather patterns on Earth. This change can happen naturally, but many scientists believe that human activities, like burning fossil fuels and cutting down forests, are speeding it up.\n",
            "\n",
            "2. **Causes of Climate Change:**\n",
            "   - One major cause of climate change is the increase of greenhouse gases in the atmosphere. These gases, such as carbon dioxide (CO2), trap heat from the sun, making the Earth warmer. This is often called the \"greenhouse effect.\"\n",
            "\n",
            "3. **Effects of Climate Change:**\n",
            "   - Climate change can lead to many problems, including rising sea levels, more extreme weather (like hurricanes and droughts), and changes in where plants and animals can live. These changes can affect food supply and water resources.\n",
            "\n",
            "**Real-World Application:**\n",
            "- One way people are trying to combat climate change is by using renewable energy sources like solar and wind power instead of fossil fuels. Schools and homes are starting to use solar panels to produce clean energy, which helps reduce greenhouse gas emissions and protect the environment.\n"
          ]
        }
      ]
    },
    {
      "cell_type": "markdown",
      "source": [
        "## 2. Healthcare"
      ],
      "metadata": {
        "id": "pT-bmxsbA534"
      }
    },
    {
      "cell_type": "markdown",
      "source": [
        "### Explaining Medical Conditions"
      ],
      "metadata": {
        "id": "fw9KQCynA-hn"
      }
    },
    {
      "cell_type": "code",
      "source": [
        "template1 = PromptTemplate(\n",
        "    input_variables=[\"specialty\", \"medical_condition\", \"age\", \"comorbidities\"],\n",
        "    template=(\n",
        "        \"You are a highly experienced medical professional specializing in {specialty}. A patient has been diagnosed with \\\"{medical_condition}\\\". \"\n",
        "        \"They are {age} years old and have the following additional factors: {comorbidities}.\\n\\n\"\n",
        "        \"Explain the condition in simple terms, avoiding medical jargon as much as possible. Include:\\n\"\n",
        "        \"1. A detailed explanation of the condition.\\n\"\n",
        "        \"2. Typical symptoms experienced by patients.\\n\"\n",
        "        \"3. Likely causes and contributing risk factors.\\n\"\n",
        "        \"4. An overview of the available treatment options, including both conventional and alternative approaches.\\n\"\n",
        "        \"5. Precautions or lifestyle changes the patient should adopt to manage their condition effectively.\"\n",
        "    )\n",
        ")\n",
        "\n",
        "prompt = template1.format(\n",
        "    specialty=\"Endocrinology\",\n",
        "    medical_condition=\"Type 2 Diabetes\",\n",
        "    age=\"50\",\n",
        "    comorbidities=\"Hypertension and Obesity\"\n",
        ")\n",
        "response = llm.invoke(prompt)"
      ],
      "metadata": {
        "id": "8lCT3tSiAIOw"
      },
      "execution_count": 15,
      "outputs": []
    },
    {
      "cell_type": "code",
      "source": [
        "print(response.content)"
      ],
      "metadata": {
        "colab": {
          "base_uri": "https://localhost:8080/"
        },
        "id": "F7bK0v_OBSRG",
        "outputId": "1678340a-4a6f-4a75-c0f2-1dbf1b382a08"
      },
      "execution_count": 16,
      "outputs": [
        {
          "output_type": "stream",
          "name": "stdout",
          "text": [
            "### 1. Explanation of Type 2 Diabetes\n",
            "\n",
            "Type 2 Diabetes is a condition where the body has trouble using sugar (glucose) properly. Normally, when we eat, our bodies break down food into glucose, which is the main source of energy. Insulin, a hormone produced by the pancreas, helps move glucose from the blood into the cells for energy. In Type 2 Diabetes, either the body doesn't produce enough insulin, or the cells become resistant to insulin, meaning they don't respond to it as well. As a result, glucose stays in the blood, leading to higher blood sugar levels, which can cause various health issues over time.\n",
            "\n",
            "### 2. Typical Symptoms\n",
            "\n",
            "People with Type 2 Diabetes might experience symptoms such as:\n",
            "- Increased thirst and dry mouth\n",
            "- Frequent urination\n",
            "- Fatigue or feeling tired all the time\n",
            "- Blurred vision\n",
            "- Slow healing of cuts and wounds\n",
            "- Unexplained weight loss (though many may experience weight gain, especially if they are obese)\n",
            "- Frequent infections, such as skin or gum infections\n",
            "\n",
            "### 3. Likely Causes and Contributing Risk Factors\n",
            "\n",
            "Several factors can increase the risk of developing Type 2 Diabetes, including:\n",
            "- **Obesity**: Excess body fat, especially around the abdomen, can make the body less sensitive to insulin.\n",
            "- **Age**: The risk increases as people get older, particularly after 45.\n",
            "- **Family History**: If close family members have diabetes, your risk is higher.\n",
            "- **Sedentary Lifestyle**: Lack of physical activity can contribute to weight gain and insulin resistance.\n",
            "- **Unhealthy Diet**: High intake of sugary foods, refined carbohydrates, and unhealthy fats can increase risk.\n",
            "- **Hypertension**: High blood pressure is often linked with diabetes and can worsen its effects.\n",
            "- **Ethnicity**: Certain ethnic groups (such as African-American, Hispanic, Native American, and Asian-American) have a higher risk.\n",
            "\n",
            "### 4. Treatment Options\n",
            "\n",
            "**Conventional Approaches:**\n",
            "- **Lifestyle Changes**: This includes diet and exercise modifications to help manage blood sugar levels and weight.\n",
            "- **Medications**: Doctors may prescribe oral medications to help control blood sugar levels. Some common types include Metformin, Sulfonylureas, and DPP-4 inhibitors. In some cases, insulin therapy may be necessary.\n",
            "- **Regular Monitoring**: Keeping track of blood sugar levels is essential for effective management.\n",
            "\n",
            "**Alternative Approaches:**\n",
            "- **Dietary Supplements**: Some people may benefit from supplements like cinnamon, chromium, or alpha-lipoic acid, but these should be discussed with a healthcare provider.\n",
            "- **Stress Management**: Practices like yoga, meditation, and mindfulness can help reduce stress, which may affect blood sugar levels.\n",
            "- **Acupuncture**: Some individuals find this approach helpful for overall wellness, though evidence specifically for diabetes management is limited.\n",
            "\n",
            "### 5. Precautions or Lifestyle Changes\n",
            "\n",
            "To manage Type 2 Diabetes effectively, the following precautions and lifestyle changes are recommended:\n",
            "\n",
            "- **Healthy Eating**: Focus on a balanced diet rich in whole grains, fruits, vegetables, lean proteins, and healthy fats. Limit sugary foods and drinks, as well as processed foods high in fat and sugar.\n",
            "- **Regular Exercise**: Aim for at least 150 minutes of moderate aerobic activity each week, such as brisk walking, swimming, or cycling. Include strength training exercises at least twice a week.\n",
            "- **Weight Management**: Losing even a small amount of weight (5-10% of body weight) can significantly improve blood sugar control.\n",
            "- **Regular Check-Ups**: Keep appointments with your healthcare provider to monitor your condition and make necessary adjustments to your treatment plan.\n",
            "- **Stress Reduction**: Engage in activities that help reduce stress, like hobbies, exercise, or spending time with loved ones.\n",
            "- **Avoid Smoking**: If you smoke, seek help to quit, as smoking can increase the risk of complications related to diabetes.\n",
            "- **Stay Hydrated**: Drink plenty of water and avoid sugary beverages.\n",
            "\n",
            "By adopting these changes and working closely with healthcare providers, patients can better manage their Type 2 Diabetes and maintain a healthy lifestyle.\n"
          ]
        }
      ]
    },
    {
      "cell_type": "markdown",
      "source": [
        " ### Personalized Health and Fitness Plan"
      ],
      "metadata": {
        "id": "y0XupbufBYzn"
      }
    },
    {
      "cell_type": "code",
      "source": [
        "# Define the template\n",
        "template2 = PromptTemplate(\n",
        "    input_variables=[\"age\", \"gender\", \"current_weight\", \"height\", \"activity_level\", \"dietary_restrictions\", \"health_conditions\", \"goal\"],\n",
        "    template=(\n",
        "        \"You are a certified health and wellness coach specializing in personalized fitness plans. A new client has provided the following details:\\n\"\n",
        "        \"- Age: {age}\\n\"\n",
        "        \"- Gender: {gender}\\n\"\n",
        "        \"- Current Weight: {current_weight}\\n\"\n",
        "        \"- Height: {height}\\n\"\n",
        "        \"- Activity Level: {activity_level} (e.g., sedentary, moderately active, very active)\\n\"\n",
        "        \"- Dietary Preferences or Restrictions: {dietary_restrictions}\\n\"\n",
        "        \"- Health Conditions: {health_conditions}\\n\"\n",
        "        \"- Specific Goal: \\\"{goal}\\\" (e.g., lose weight, improve endurance, manage diabetes)\\n\\n\"\n",
        "        \"Create a comprehensive 4-week health and fitness plan. Ensure it includes:\\n\"\n",
        "        \"1. A daily meal plan with breakfast, lunch, dinner, and snacks.\\n\"\n",
        "        \"2. A weekly exercise schedule, with specific exercises and time durations.\\n\"\n",
        "        \"3. Suggestions for lifestyle changes to improve overall health and well-being.\\n\"\n",
        "        \"4. A summary of weekly milestones or checkpoints to track progress.\"\n",
        "    )\n",
        ")\n",
        "\n",
        "# Test Case\n",
        "prompt = template2.format(\n",
        "    age=\"28\",\n",
        "    gender=\"Female\",\n",
        "    current_weight=\"68 kg\",\n",
        "    height=\"165 cm\",\n",
        "    activity_level=\"Moderately active\",\n",
        "    dietary_restrictions=\"Vegetarian\",\n",
        "    health_conditions=\"Mild anemia\",\n",
        "    goal=\"Increase muscle tone and lose 5 kg in 2 months\"\n",
        ")\n",
        "response = llm.invoke(prompt)\n",
        "print(response.content)\n"
      ],
      "metadata": {
        "colab": {
          "base_uri": "https://localhost:8080/"
        },
        "id": "-mPjR7ByBT13",
        "outputId": "ff1c59cf-ea14-48d9-e911-11be9f3e375e"
      },
      "execution_count": 17,
      "outputs": [
        {
          "output_type": "stream",
          "name": "stdout",
          "text": [
            "### Comprehensive 4-Week Health and Fitness Plan\n",
            "\n",
            "**Client Profile:**\n",
            "- Age: 28\n",
            "- Gender: Female\n",
            "- Current Weight: 68 kg\n",
            "- Height: 165 cm\n",
            "- Activity Level: Moderately Active\n",
            "- Dietary Preferences: Vegetarian\n",
            "- Health Conditions: Mild Anemia\n",
            "- Specific Goal: Increase muscle tone and lose 5 kg in 2 months\n",
            "\n",
            "---\n",
            "\n",
            "#### Week 1-4 Meal Plan Overview\n",
            "\n",
            "**Daily Caloric Intake:** Approximately 1600-1700 calories (specific needs may vary, adjust based on progress)\n",
            "\n",
            "**Note:** Focus on iron-rich vegetarian foods to address anemia. Include plenty of protein, healthy fats, and fiber to support muscle recovery and sustained energy levels.\n",
            "\n",
            "##### Sample Daily Meal Plan\n",
            "\n",
            "**Breakfast:**\n",
            "- Oatmeal (50g) topped with sliced banana and a tablespoon of almond butter.\n",
            "- 1 glass of fortified plant-based milk (e.g., soy or almond milk).\n",
            "\n",
            "**Morning Snack:**\n",
            "- Greek yogurt (or plant-based yogurt) with a tablespoon of chia seeds and berries.\n",
            "\n",
            "**Lunch:**\n",
            "- Quinoa salad with mixed greens, cherry tomatoes, cucumber, chickpeas, and a lemon-tahini dressing.\n",
            "- A small apple or pear.\n",
            "\n",
            "**Afternoon Snack:**\n",
            "- Carrot and cucumber sticks with hummus (2 tablespoons).\n",
            "\n",
            "**Dinner:**\n",
            "- Stir-fried tofu (100g) with a mix of bell peppers, broccoli, and snap peas served over brown rice (100g).\n",
            "- A mixed green salad with olive oil and vinegar dressing.\n",
            "\n",
            "**Evening Snack (optional):**\n",
            "- A handful of nuts (almonds or walnuts) or a small piece of dark chocolate (70% cocoa or higher).\n",
            "\n",
            "---\n",
            "\n",
            "### Weekly Exercise Schedule\n",
            "\n",
            "**Goal:** Focus on strength training for muscle tone, along with cardiovascular activities for fat loss.\n",
            "\n",
            "#### Week 1-4 Exercise Plan\n",
            "\n",
            "**Monday: Strength Training (40 mins)**\n",
            "- Squats: 3 sets of 12 reps\n",
            "- Push-ups (knee or regular): 3 sets of 10-12 reps\n",
            "- Dumbbell Shoulder Press: 3 sets of 12 reps\n",
            "- Plank: 3 sets of 30 seconds\n",
            "\n",
            "**Tuesday: Cardio (30-40 mins)**\n",
            "- Brisk walking or jogging\n",
            "- Cycling (stationary or outdoor)\n",
            "\n",
            "**Wednesday: Strength Training (40 mins)**\n",
            "- Lunges: 3 sets of 12 reps per leg\n",
            "- Bent-over Dumbbell Rows: 3 sets of 12 reps\n",
            "- Glute Bridges: 3 sets of 15 reps\n",
            "- Side Planks: 3 sets of 20 seconds per side\n",
            "\n",
            "**Thursday: Active Recovery (Yoga or Stretching, 30 mins)**\n",
            "\n",
            "**Friday: Full Body Circuit (40 mins)**\n",
            "- Jumping Jacks: 1 min\n",
            "- Bodyweight Squats: 15 reps\n",
            "- Tricep Dips (on a chair): 10-12 reps\n",
            "- Bicycle Crunches: 15 reps per side\n",
            "- Repeat circuit 3 times with 1-2 mins rest in between.\n",
            "\n",
            "**Saturday: Cardio (30-40 mins)**\n",
            "- Dance class, swimming, or a fun outdoor activity.\n",
            "\n",
            "**Sunday: Rest Day or Gentle Yoga/Stretching (30 mins)**\n",
            "\n",
            "---\n",
            "\n",
            "### Lifestyle Changes\n",
            "\n",
            "1. **Hydration:** Aim for at least 2 liters of water daily. Herbal teas can also be included.\n",
            "2. **Sleep:** Prioritize 7-8 hours of quality sleep each night to support recovery and overall health.\n",
            "3. **Stress Management:** Incorporate mindfulness practices such as meditation, deep breathing exercises, or journaling.\n",
            "4. **Regular Check-Ins:** Keep a journal to track meals, workouts, and how you feel physically and emotionally.\n",
            "5. **Limit Processed Foods:** Focus on whole foods, and limit sugar and processed items.\n",
            "\n",
            "---\n",
            "\n",
            "### Weekly Milestones and Checkpoints\n",
            "\n",
            "- **Week 1:** \n",
            "  - Establish a consistent meal and exercise routine.\n",
            "  - Assess initial weight and take body measurements (waist, hips, arms, legs).\n",
            "  - Set personal goals for the week (e.g., \"I will cook three new vegetarian recipes\").\n",
            "\n",
            "- **Week 2:**\n",
            "  - Check weight and measurements to track progress (aim for 0.5-1 kg weight loss).\n",
            "  - Evaluate energy levels and adjust meal portions or snacks as needed.\n",
            "  - Introduce new exercises or increase intensity.\n",
            "\n",
            "- **Week 3:**\n",
            "  - Reassess weight and measurements; aim for consistent progress.\n",
            "  - Focus on enhancing workout performance (e.g., increase weights or reps).\n",
            "  - Reflect on dietary habits and make necessary adjustments.\n",
            "\n",
            "- **Week 4:**\n",
            "  - Final weigh-in and measurements to evaluate progress toward the goal of losing 5 kg.\n",
            "  - Review overall improvements in strength and endurance.\n",
            "  - Plan next steps for continued fitness and nutrition goals.\n",
            "\n",
            "---\n",
            "\n",
            "### Conclusion\n",
            "\n",
            "This comprehensive plan combines nutrition, exercise, and lifestyle changes to help you reach your specific goal of increasing muscle tone and losing weight. Remember that consistency is key, and it’s important to listen to your body throughout this journey. Adjustments can be made based on your progress and individual preferences. Good luck!\n"
          ]
        }
      ]
    },
    {
      "cell_type": "markdown",
      "source": [
        "### Symptom Checker and Advice"
      ],
      "metadata": {
        "id": "dQN4TGEFBonr"
      }
    },
    {
      "cell_type": "code",
      "source": [
        "# Define the template\n",
        "template3 = PromptTemplate(\n",
        "    input_variables=[\"symptoms\", \"age\", \"gender\", \"medical_history\", \"current_medications\"],\n",
        "    template=(\n",
        "        \"You are an AI healthcare assistant with expertise in diagnosing and advising on common medical conditions. A patient reports the following symptoms: {symptoms}.\\n\"\n",
        "        \"Additional details about the patient are as follows:\\n\"\n",
        "        \"- Age: {age}\\n\"\n",
        "        \"- Gender: {gender}\\n\"\n",
        "        \"- Medical History: {medical_history}\\n\"\n",
        "        \"- Current Medications: {current_medications}\\n\\n\"\n",
        "        \"Based on this information:\\n\"\n",
        "        \"1. Provide a list of 3-5 possible conditions or causes for the symptoms, with a brief explanation of each.\\n\"\n",
        "        \"2. Indicate the level of urgency for each possible condition (e.g., \\\"emergency\\\", \\\"consult a doctor within a day\\\", \\\"monitor symptoms for now\\\").\\n\"\n",
        "        \"3. Offer actionable advice, such as home remedies, over-the-counter medication suggestions, or self-care tips.\\n\"\n",
        "        \"4. Include a disclaimer reminding the patient to seek professional medical advice for accurate diagnosis.\"\n",
        "    )\n",
        ")\n",
        "\n",
        "# Test Case\n",
        "prompt = template3.format(\n",
        "    symptoms=\"persistent cough, mild fever, and shortness of breath\",\n",
        "    age=\"60\",\n",
        "    gender=\"Male\",\n",
        "    medical_history=\"history of smoking and hypertension\",\n",
        "    current_medications=\"blood pressure medication\"\n",
        ")\n",
        "response = llm.invoke(prompt)\n",
        "print(response.content)\n"
      ],
      "metadata": {
        "colab": {
          "base_uri": "https://localhost:8080/"
        },
        "id": "0cBZKTP8BivQ",
        "outputId": "e1f996a8-541a-47a5-e5ec-802c19411dfb"
      },
      "execution_count": 18,
      "outputs": [
        {
          "output_type": "stream",
          "name": "stdout",
          "text": [
            "Based on the symptoms and details provided, here are some possible conditions or causes for the persistent cough, mild fever, and shortness of breath:\n",
            "\n",
            "### Possible Conditions:\n",
            "\n",
            "1. **Pneumonia**\n",
            "   - **Explanation**: Pneumonia is an infection of the lungs that can cause cough, fever, and difficulty breathing. Given the patient's age and smoking history, he may be at higher risk.\n",
            "   - **Urgency**: Emergency. Symptoms can worsen rapidly, especially in older adults or those with underlying health issues.\n",
            "\n",
            "2. **Chronic Obstructive Pulmonary Disease (COPD) Exacerbation**\n",
            "   - **Explanation**: COPD, often linked to a history of smoking, can lead to exacerbations characterized by increased cough, sputum production, fever, and shortness of breath.\n",
            "   - **Urgency**: Consult a doctor within a day. COPD exacerbations can be serious and may require medication adjustments.\n",
            "\n",
            "3. **Bronchitis**\n",
            "   - **Explanation**: Acute bronchitis, often viral, can cause a persistent cough, mild fever, and shortness of breath. It may follow a respiratory infection.\n",
            "   - **Urgency**: Monitor symptoms for now. If symptoms worsen or last more than a week, consult a doctor.\n",
            "\n",
            "4. **Pulmonary Embolism**\n",
            "   - **Explanation**: A pulmonary embolism occurs when a blood clot travels to the lungs, causing sudden shortness of breath, cough (possibly with blood), and fever. Risk factors include prolonged immobility and history of smoking.\n",
            "   - **Urgency**: Emergency. This condition can be life-threatening and requires immediate medical attention.\n",
            "\n",
            "5. **Heart Failure**\n",
            "   - **Explanation**: Given the patient's hypertension and age, heart failure could manifest with shortness of breath, cough (especially when lying down), and sometimes mild fever. \n",
            "   - **Urgency**: Consult a doctor within a day. Heart failure can be managed but requires professional evaluation.\n",
            "\n",
            "### Actionable Advice:\n",
            "\n",
            "- **Home Remedies**:\n",
            "  - Stay hydrated by drinking plenty of fluids (water, herbal teas).\n",
            "  - Use a humidifier to ease coughing and respiratory discomfort.\n",
            "  - Elevate the head while sleeping to alleviate shortness of breath.\n",
            "\n",
            "- **Over-the-Counter Medications**:\n",
            "  - Consider cough suppressants or expectorants (like dextromethorphan or guaifenesin) for symptomatic relief.\n",
            "  - Acetaminophen or ibuprofen can help reduce mild fever and relieve discomfort.\n",
            "\n",
            "- **Self-Care Tips**:\n",
            "  - Avoid exposure to smoke and other irritants.\n",
            "  - Practice deep breathing exercises to improve lung function.\n",
            "  - Monitor symptoms closely and keep a log of any changes.\n",
            "\n",
            "### Disclaimer:\n",
            "This information is not a substitute for professional medical advice. It is crucial to seek medical attention for an accurate diagnosis and appropriate treatment plan tailored to your condition. If symptoms worsen or new symptoms develop, please consult a healthcare professional immediately.\n"
          ]
        }
      ]
    },
    {
      "cell_type": "markdown",
      "source": [
        "## 3. Customer Support"
      ],
      "metadata": {
        "id": "-RRLbZrHCAZF"
      }
    },
    {
      "cell_type": "markdown",
      "source": [
        "### Handling Customer Complaints\n"
      ],
      "metadata": {
        "id": "rZGxvjk5NKBU"
      }
    },
    {
      "cell_type": "code",
      "source": [
        "# Define the template\n",
        "template1 = PromptTemplate(\n",
        "    input_variables=[\"company_name\", \"issue\", \"customer_name\", \"product_service\"],\n",
        "    template=(\n",
        "        \"You are a highly trained customer support agent for {company_name}. A customer has raised a complaint with the following details:\\n\"\n",
        "        \"- Issue: {issue}\\n\"\n",
        "        \"- Customer Name: {customer_name}\\n\"\n",
        "        \"- Product/Service: {product_service}\\n\\n\"\n",
        "        \"Your goal is to:\\n\"\n",
        "        \"1. Acknowledge the issue empathetically.\\n\"\n",
        "        \"2. Provide a brief explanation of the possible cause (if applicable).\\n\"\n",
        "        \"3. Offer a solution or next steps to resolve the issue.\\n\"\n",
        "        \"4. Reassure the customer that their concern is a priority.\\n\"\n",
        "        \"5. Maintain a professional and polite tone throughout the response.\"\n",
        "    )\n",
        ")\n",
        "\n",
        "# Test Case\n",
        "prompt = template1.format(\n",
        "    company_name=\"TechGadget Co.\",\n",
        "    issue=\"The screen of my new smartphone stopped responding after two days of use.\",\n",
        "    customer_name=\"John Doe\",\n",
        "    product_service=\"Smartphone Model X\"\n",
        ")\n",
        "response = llm.invoke(prompt)\n",
        "print(response.content)\n"
      ],
      "metadata": {
        "colab": {
          "base_uri": "https://localhost:8080/"
        },
        "id": "Oe0HjVaUBuaE",
        "outputId": "3c5d3181-bab2-4cb9-a2b3-2f79430c2df5"
      },
      "execution_count": 19,
      "outputs": [
        {
          "output_type": "stream",
          "name": "stdout",
          "text": [
            "Subject: We're Here to Help with Your Smartphone Issue\n",
            "\n",
            "Dear John Doe,\n",
            "\n",
            "Thank you for reaching out to us regarding the issue with your Smartphone Model X. I’m truly sorry to hear that the screen has stopped responding after just two days of use. I understand how frustrating this must be, especially with a new device.\n",
            "\n",
            "There can be several reasons why a smartphone screen may become unresponsive, ranging from software glitches to hardware malfunctions. However, our primary goal is to get your device back to working order as quickly as possible.\n",
            "\n",
            "To resolve this issue, I recommend the following steps:\n",
            "\n",
            "1. **Soft Reset**: Try performing a soft reset by holding down the power button for about 10-15 seconds until the device restarts. This can sometimes resolve temporary software issues.\n",
            "   \n",
            "2. **Check for Updates**: Once your device restarts, please check if there are any software updates available. Keeping your device updated can help prevent future issues.\n",
            "\n",
            "If the screen remains unresponsive after these steps, please let us know, and we will initiate a warranty claim for repair or replacement. Your satisfaction is our top priority, and we are committed to ensuring that your concerns are addressed promptly.\n",
            "\n",
            "Please feel free to reach out if you have any questions or need further assistance. We're here to help!\n",
            "\n",
            "Best regards,\n",
            "\n",
            "[Your Name]  \n",
            "Customer Support Agent  \n",
            "TechGadget Co.  \n",
            "[Contact Information]\n"
          ]
        }
      ]
    },
    {
      "cell_type": "markdown",
      "source": [
        "### Troubleshooting Instructions"
      ],
      "metadata": {
        "id": "YBpWt4iINSLC"
      }
    },
    {
      "cell_type": "code",
      "source": [
        "# Define the template\n",
        "template2 = PromptTemplate(\n",
        "    input_variables=[\"company_name\", \"issue\", \"product_service\"],\n",
        "    template=(\n",
        "        \"You are a technical support agent for {company_name}. A customer is facing the following issue: \\\"{issue}\\\" with the {product_service}.\\n\"\n",
        "        \"Provide:\\n\"\n",
        "        \"1. A clear diagnosis of the problem based on common causes.\\n\"\n",
        "        \"2. Step-by-step troubleshooting instructions to resolve the issue.\\n\"\n",
        "        \"3. Suggestions for what the customer should do if the problem persists, including reaching out for additional support or replacing the product/service.\\n\"\n",
        "        \"Ensure the instructions are detailed, easy to follow, and beginner-friendly.\"\n",
        "    )\n",
        ")\n",
        "\n",
        "# Test Case\n",
        "prompt = template2.format(\n",
        "    company_name=\"HomeTech Solutions\",\n",
        "    issue=\"My smart thermostat is not connecting to Wi-Fi.\",\n",
        "    product_service=\"Smart Thermostat\"\n",
        ")\n",
        "response = llm.invoke(prompt)\n",
        "print(response.content)\n"
      ],
      "metadata": {
        "colab": {
          "base_uri": "https://localhost:8080/"
        },
        "id": "dY4Pj7nsNB2k",
        "outputId": "85e730cd-7afb-4643-bfbf-c6ebd4b0ce39"
      },
      "execution_count": 20,
      "outputs": [
        {
          "output_type": "stream",
          "name": "stdout",
          "text": [
            "### Diagnosis of the Problem\n",
            "\n",
            "The issue of a smart thermostat not connecting to Wi-Fi can typically stem from one or more of the following common causes:\n",
            "\n",
            "1. **Weak or Unstable Wi-Fi Signal**: The thermostat may be out of range of the Wi-Fi router, or there may be interference from walls or other electronic devices.\n",
            "2. **Incorrect Wi-Fi Credentials**: The password entered for the Wi-Fi network may be incorrect.\n",
            "3. **Router Issues**: The Wi-Fi router may be experiencing problems, such as needing a reboot or firmware update.\n",
            "4. **Thermostat Software Issues**: The thermostat may require a software update or may have encountered a glitch.\n",
            "5. **Network Compatibility**: The thermostat may only support certain Wi-Fi frequencies (e.g., 2.4 GHz vs. 5 GHz).\n",
            "\n",
            "### Step-by-Step Troubleshooting Instructions\n",
            "\n",
            "#### Step 1: Check Wi-Fi Signal Strength\n",
            "1. **Locate Your Thermostat**: Ensure your thermostat is within range of your Wi-Fi router.\n",
            "2. **Check Signal Strength**: If your thermostat has a signal strength indicator, check if it shows a weak signal. If it does, try moving your router closer to the thermostat or eliminating any obstacles (like furniture or appliances) that may be interfering.\n",
            "\n",
            "#### Step 2: Verify Wi-Fi Credentials\n",
            "1. **Access Thermostat Settings**: On your thermostat, go to the settings menu (refer to your thermostat manual if needed).\n",
            "2. **Select Wi-Fi Settings**: Find the Wi-Fi settings option.\n",
            "3. **Check Network Name**: Ensure that the correct Wi-Fi network name (SSID) is selected.\n",
            "4. **Re-enter Password**: Carefully enter your Wi-Fi password. Ensure that any capitalization and special characters are correct.\n",
            "\n",
            "#### Step 3: Restart Your Router\n",
            "1. **Power Off the Router**: Unplug the power cord from your Wi-Fi router.\n",
            "2. **Wait**: Leave it unplugged for about 30 seconds.\n",
            "3. **Power On the Router**: Plug the power cord back into the router and wait for it to fully restart (this can take a few minutes).\n",
            "4. **Check Thermostat Connection**: After the router has restarted, return to your thermostat and attempt to reconnect to Wi-Fi.\n",
            "\n",
            "#### Step 4: Update Thermostat Software\n",
            "1. **Access Settings**: On your thermostat, go back to the settings menu.\n",
            "2. **Check for Updates**: Look for an option to check for software updates. If an update is available, follow the prompts to install it.\n",
            "3. **Reboot Thermostat**: After the update, restart your thermostat.\n",
            "\n",
            "#### Step 5: Check Network Compatibility\n",
            "1. **Verify Wi-Fi Frequency**: Check if your thermostat supports both 2.4 GHz and 5 GHz frequencies. Most smart thermostats operate on 2.4 GHz, which has a longer range.\n",
            "2. **Adjust Router Settings**: If your router is set to a 5 GHz-only mode, you may need to enable 2.4 GHz or create a separate 2.4 GHz network.\n",
            "\n",
            "### If the Problem Persists\n",
            "\n",
            "If you have followed all the troubleshooting steps and your smart thermostat is still unable to connect to Wi-Fi, please consider the following options:\n",
            "\n",
            "1. **Factory Reset**: Consult your thermostat's manual on how to perform a factory reset. Note that this will erase all settings and preferences, so it should be done as a last resort.\n",
            "2. **Contact HomeTech Solutions Support**: \n",
            "   - Reach out to our customer support team for further assistance. Be ready to provide them with details about the troubleshooting steps you've already attempted.\n",
            "   - You can contact us via phone at [insert phone number], through our support chat on the website, or by email at [insert email address].\n",
            "3. **Consider Replacement**: If your thermostat is still under warranty and a replacement is necessary, discuss this option with our support team. If it is out of warranty, they can guide you on purchasing a new unit.\n",
            "\n",
            "By following these steps, you should be able to resolve the Wi-Fi connection issue with your smart thermostat. If you have any questions or need further clarification on any of the steps, feel free to ask!\n"
          ]
        }
      ]
    },
    {
      "cell_type": "markdown",
      "source": [
        "### Generating Automated FAQ Responses"
      ],
      "metadata": {
        "id": "hh31sSftNlRG"
      }
    },
    {
      "cell_type": "code",
      "source": [
        "# Define the template\n",
        "template3 = PromptTemplate(\n",
        "    input_variables=[\"company_name\", \"question\"],\n",
        "    template=(\n",
        "        \"You are an AI customer support assistant for {company_name}. Create a detailed and polite response to the following frequently asked question (FAQ): \\\"{question}\\\".\\n\"\n",
        "        \"Ensure the response includes:\\n\"\n",
        "        \"1. A concise answer to the question.\\n\"\n",
        "        \"2. Additional helpful details the customer may find useful.\\n\"\n",
        "        \"3. Links or references to further resources (if applicable).\\n\"\n",
        "        \"Maintain a professional yet approachable tone.\"\n",
        "    )\n",
        ")\n",
        "\n",
        "# Test Case\n",
        "prompt = template3.format(\n",
        "    company_name=\"StreamMedia Inc.\",\n",
        "    question=\"How do I cancel my subscription?\"\n",
        ")\n",
        "response = llm.invoke(prompt)\n",
        "print(response.content)"
      ],
      "metadata": {
        "colab": {
          "base_uri": "https://localhost:8080/"
        },
        "id": "qdkDV4XVNhRN",
        "outputId": "c51b2652-c417-4d82-de4f-218c09f643b4"
      },
      "execution_count": 21,
      "outputs": [
        {
          "output_type": "stream",
          "name": "stdout",
          "text": [
            "Subject: How to Cancel Your Subscription\n",
            "\n",
            "Dear Valued Customer,\n",
            "\n",
            "Thank you for reaching out to us with your question about canceling your subscription. We understand that circumstances change, and we're here to assist you.\n",
            "\n",
            "**To cancel your subscription**, please follow these simple steps:\n",
            "\n",
            "1. **Log in** to your StreamMedia account on our website.\n",
            "2. Navigate to the **Account Settings** section, which can be found in the top right corner of the screen.\n",
            "3. Click on **Subscription Management**.\n",
            "4. Select the option to **Cancel Subscription** and follow the prompts to complete the cancellation process.\n",
            "\n",
            "Once you've completed these steps, you will receive a confirmation email regarding the cancellation. Please note that cancellation will take effect at the end of your current billing cycle, and you will retain access to your subscription until that time.\n",
            "\n",
            "**Additional Helpful Details:**\n",
            "\n",
            "- If you are on a free trial, canceling before the trial period ends will prevent any charges from being applied.\n",
            "- If you encounter any issues while trying to cancel, or if you have further questions, our customer support team is readily available to assist you. You can contact us through the **Help Center** on our website or reach us at support@streammedia.com.\n",
            "\n",
            "For more information, you may also find these resources helpful:\n",
            "- [StreamMedia Subscription Help](https://www.streammedia.com/help/subscription)\n",
            "- [FAQs about Cancellations](https://www.streammedia.com/help/faq)\n",
            "\n",
            "We appreciate your time and hope to serve you again in the future. If there's anything else we can assist you with, please don't hesitate to let us know.\n",
            "\n",
            "Warm regards,\n",
            "\n",
            "[Your Name]  \n",
            "Customer Support Team  \n",
            "StreamMedia Inc.  \n",
            "support@streammedia.com  \n",
            "[www.streammedia.com](https://www.streammedia.com)\n"
          ]
        }
      ]
    },
    {
      "cell_type": "markdown",
      "source": [
        "## 4. Content Creation and Marketing"
      ],
      "metadata": {
        "id": "PAyKNhQmN9Ve"
      }
    },
    {
      "cell_type": "markdown",
      "source": [
        "### Generating Social Media Posts"
      ],
      "metadata": {
        "id": "eVCuUnH-OGBB"
      }
    },
    {
      "cell_type": "code",
      "source": [
        "# Define the template\n",
        "template1 = PromptTemplate(\n",
        "    input_variables=[\"brand_name\", \"audience_type\", \"platform\", \"product_or_campaign\", \"tone_of_voice\"],\n",
        "    template=(\n",
        "        \"You are a social media content creator for {brand_name}, targeting {audience_type}. Create a {platform}-specific post promoting \\\"{product_or_campaign}\\\". \\n\"\n",
        "        \"Include:\\n\"\n",
        "        \"1. An engaging opening line or question.\\n\"\n",
        "        \"2. A brief but impactful description of the product or campaign.\\n\"\n",
        "        \"3. A clear call to action.\\n\"\n",
        "        \"Ensure the tone matches the brand’s voice ({tone_of_voice}).\"\n",
        "    )\n",
        ")\n",
        "\n",
        "prompt = template1.format(\n",
        "    brand_name=\"EcoWear\",\n",
        "    audience_type=\"young adults who value sustainability\",\n",
        "    platform=\"Twitter\",\n",
        "    product_or_campaign=\"new line of eco-friendly t-shirts\",\n",
        "    tone_of_voice=\"casual and inspiring\"\n",
        ")\n",
        "response = llm.invoke(prompt)\n",
        "print(response.content)\n"
      ],
      "metadata": {
        "colab": {
          "base_uri": "https://localhost:8080/"
        },
        "id": "I5L3Mv49Nr8a",
        "outputId": "f920096c-0eb0-494e-8573-67dc03014f31"
      },
      "execution_count": 23,
      "outputs": [
        {
          "output_type": "stream",
          "name": "stdout",
          "text": [
            "🌍💚 Ready to wear your values? Check out our NEW line of eco-friendly t-shirts made from 100% organic materials! Each tee not only feels good but also does good for our planet. 🌱✨ \n",
            "\n",
            "Join the movement and wear your sustainability proudly! Shop now and make a statement: [link] #EcoWear #SustainableFashion\n"
          ]
        }
      ]
    },
    {
      "cell_type": "markdown",
      "source": [
        "###  Crafting Persuasive Ad Copy"
      ],
      "metadata": {
        "id": "RXmsl7P-OT5j"
      }
    },
    {
      "cell_type": "code",
      "source": [
        "# Define the template\n",
        "template2 = PromptTemplate(\n",
        "    input_variables=[\"product_or_service\", \"target_audience\", \"platform\", \"tone\"],\n",
        "    template=(\n",
        "        \"You are an expert copywriter creating an advertisement for {product_or_service}. The ad targets {target_audience} and is meant to run on {platform}.\\n\\n\"\n",
        "        \"Write:\\n\"\n",
        "        \"1. A catchy headline that grabs attention.\\n\"\n",
        "        \"2. A compelling description highlighting the product’s main features and benefits.\\n\"\n",
        "        \"3. A call to action encouraging immediate engagement (e.g., \\\"Buy now,\\\" \\\"Learn more\\\").\\n\"\n",
        "        \"Ensure the tone is {tone} (e.g., professional, casual, playful) and suitable for the target audience.\"\n",
        "    )\n",
        ")\n",
        "\n",
        "# Test Case\n",
        "prompt = template2.format(\n",
        "    product_or_service=\"Premium Noise-Cancelling Headphones\",\n",
        "    target_audience=\"tech-savvy professionals\",\n",
        "    platform=\"Facebook\",\n",
        "    tone=\"professional\"\n",
        ")\n",
        "response = llm.invoke(prompt)\n",
        "print(response.content)\n"
      ],
      "metadata": {
        "colab": {
          "base_uri": "https://localhost:8080/"
        },
        "id": "w7Djp2eTOPVZ",
        "outputId": "2a9eb381-d9e6-4d4c-edc3-c0533c68e33c"
      },
      "execution_count": 24,
      "outputs": [
        {
          "output_type": "stream",
          "name": "stdout",
          "text": [
            "### Headline:\n",
            "\"Silence the World, Elevate Your Focus: Experience Premium Noise-Cancelling Headphones\"\n",
            "\n",
            "### Description:\n",
            "Transform your workspace with our cutting-edge Premium Noise-Cancelling Headphones, designed for tech-savvy professionals who demand excellence. Immerse yourself in rich, high-fidelity sound while our advanced noise-cancellation technology eliminates distractions, allowing you to concentrate on what truly matters. \n",
            "\n",
            "- **Unmatched Comfort**: Ergonomically designed with plush ear cushions for all-day wear.\n",
            "- **Long-lasting Battery Life**: Enjoy up to 30 hours of uninterrupted listening on a single charge.\n",
            "- **Smart Features**: Seamlessly switch between devices, take calls, and access voice assistants with intuitive touch controls.\n",
            "\n",
            "Whether you're in a bustling café, a crowded office, or on a long flight, our headphones provide the peace and clarity you need to stay productive and inspired. \n",
            "\n",
            "### Call to Action:\n",
            "Don't let noise hold you back. **Buy now** and take your auditory experience to the next level!\n"
          ]
        }
      ]
    },
    {
      "cell_type": "markdown",
      "source": [
        "### Writing Blog Introductions"
      ],
      "metadata": {
        "id": "B0lKS8fQOhDF"
      }
    },
    {
      "cell_type": "code",
      "source": [
        "# Define the template\n",
        "template3 = PromptTemplate(\n",
        "    input_variables=[\"blog_title\", \"tone\", \"target_audience\"],\n",
        "    template=(\n",
        "        \"You are a professional blog writer tasked with creating an engaging introduction for a blog post titled \\\"{blog_title}\\\".\\n\\n\"\n",
        "        \"Include:\\n\"\n",
        "        \"1. A captivating hook that draws the reader in.\\n\"\n",
        "        \"2. A concise explanation of why the topic is important or relevant.\\n\"\n",
        "        \"3. A brief outline of what the reader will learn by reading the post.\\n\"\n",
        "        \"The tone should be {tone}, matching the blog’s target audience ({target_audience}).\"\n",
        "    )\n",
        ")\n",
        "\n",
        "# Test Case\n",
        "prompt = template3.format(\n",
        "    blog_title=\"10 Simple Ways to Reduce Plastic Waste in Daily Life\",\n",
        "    tone=\"informative and inspiring\",\n",
        "    target_audience=\"environmentally-conscious readers\"\n",
        ")\n",
        "response = llm.invoke(prompt)\n",
        "print(response.content)\n"
      ],
      "metadata": {
        "colab": {
          "base_uri": "https://localhost:8080/"
        },
        "id": "4tVQP05yOehf",
        "outputId": "2352f0fa-2d2d-43fe-bfc7-4c96b3b7c2dc"
      },
      "execution_count": 25,
      "outputs": [
        {
          "output_type": "stream",
          "name": "stdout",
          "text": [
            "**10 Simple Ways to Reduce Plastic Waste in Daily Life**\n",
            "\n",
            "In a world where convenience often trumps sustainability, the mountain of plastic waste continues to grow, threatening our oceans, wildlife, and even our own health. Did you know that over 300 million tons of plastic are produced each year, with a staggering percentage ending up in landfills and natural habitats? As environmentally-conscious individuals, we have the power to change this narrative, one small action at a time.\n",
            "\n",
            "Reducing plastic waste is not just a trendy movement; it’s a vital necessity for preserving our planet for future generations. By adopting simple yet effective habits, we can significantly diminish our plastic footprint and inspire those around us to do the same. In this blog post, we’ll explore ten straightforward strategies that you can integrate into your daily routine—each one designed to make a tangible impact. From choosing reusable alternatives to mindful shopping practices, these actionable tips will empower you to contribute to a cleaner, greener world. Let’s dive in and discover how small changes can lead to monumental shifts!\n"
          ]
        }
      ]
    },
    {
      "cell_type": "markdown",
      "source": [
        "## 4. Software Development"
      ],
      "metadata": {
        "id": "LFn6M_u7O_8U"
      }
    },
    {
      "cell_type": "markdown",
      "source": [
        "### Generating Boilerplate Code"
      ],
      "metadata": {
        "id": "8ZRFggS0PC5x"
      }
    },
    {
      "cell_type": "code",
      "source": [
        "# Define the template\n",
        "template1 = PromptTemplate(\n",
        "    input_variables=[\"project_type\", \"programming_language\", \"specific_requirements\"],\n",
        "    template=(\n",
        "        \"You are a coding assistant. Generate boilerplate code for a {project_type} project in {programming_language}. \\n\"\n",
        "        \"The code should include:\\n\"\n",
        "        \"1. {specific_requirements} (e.g., file structure, authentication setup, etc.).\\n\"\n",
        "        \"2. Comments explaining each section of the code.\\n\"\n",
        "        \"Ensure the code is clean, modular, and follows industry best practices.\"\n",
        "    )\n",
        ")\n",
        "\n",
        "# Test Case\n",
        "prompt = template1.format(\n",
        "    project_type=\"web application\",\n",
        "    programming_language=\"Python with Flask\",\n",
        "    specific_requirements=\"basic routing, a sample REST API endpoint, and error handling\"\n",
        ")\n",
        "response = llm.invoke(prompt)\n",
        "print(response.content)"
      ],
      "metadata": {
        "colab": {
          "base_uri": "https://localhost:8080/"
        },
        "id": "3sr7TlJQOmYG",
        "outputId": "732fa1b7-e50e-4ece-fe3d-f7d705658c22"
      },
      "execution_count": 26,
      "outputs": [
        {
          "output_type": "stream",
          "name": "stdout",
          "text": [
            "Sure! Below is a boilerplate code structure for a web application project in Python using Flask. This structure includes basic routing, a sample REST API endpoint, error handling, and is modular with appropriate comments to explain each section. \n",
            "\n",
            "### Project Structure\n",
            "```\n",
            "flask_app/\n",
            "│\n",
            "├── app/\n",
            "│   ├── __init__.py\n",
            "│   ├── routes.py\n",
            "│   ├── models.py\n",
            "│   ├── error_handlers.py\n",
            "│   └── config.py\n",
            "│\n",
            "├── venv/                  # Virtual environment\n",
            "│\n",
            "├── requirements.txt       # Required packages\n",
            "│\n",
            "├── run.py                 # Entry point to run the application\n",
            "│\n",
            "└── README.md              # Project documentation\n",
            "```\n",
            "\n",
            "### 1. `app/__init__.py`\n",
            "This file initializes the Flask application and sets up configurations.\n",
            "\n",
            "```python\n",
            "from flask import Flask\n",
            "from .config import Config\n",
            "from .error_handlers import register_error_handlers\n",
            "\n",
            "def create_app():\n",
            "    # Create a Flask application instance\n",
            "    app = Flask(__name__)\n",
            "    \n",
            "    # Load configuration from the Config class\n",
            "    app.config.from_object(Config)\n",
            "\n",
            "    # Register error handlers\n",
            "    register_error_handlers(app)\n",
            "\n",
            "    # Import and register routes\n",
            "    from .routes import main as main_blueprint\n",
            "    app.register_blueprint(main_blueprint)\n",
            "\n",
            "    return app\n",
            "```\n",
            "\n",
            "### 2. `app/config.py`\n",
            "Configuration settings for the application.\n",
            "\n",
            "```python\n",
            "class Config:\n",
            "    # Set the secret key for session management\n",
            "    SECRET_KEY = 'your_secret_key'  # Replace with a secure key\n",
            "    # Additional configurations can go here (e.g., database URI)\n",
            "```\n",
            "\n",
            "### 3. `app/routes.py`\n",
            "This file contains the routing logic and sample REST API endpoint.\n",
            "\n",
            "```python\n",
            "from flask import Blueprint, jsonify, request\n",
            "\n",
            "# Create a blueprint for the main routes\n",
            "main = Blueprint('main', __name__)\n",
            "\n",
            "@main.route('/api/hello', methods=['GET'])\n",
            "def hello_world():\n",
            "    \"\"\"\n",
            "    Sample REST API endpoint that returns a greeting message.\n",
            "    \"\"\"\n",
            "    return jsonify({'message': 'Hello, World!'}), 200\n",
            "\n",
            "@main.route('/api/data', methods=['POST'])\n",
            "def post_data():\n",
            "    \"\"\"\n",
            "    Sample endpoint to receive data via POST request.\n",
            "    \"\"\"\n",
            "    data = request.get_json()\n",
            "    if not data:\n",
            "        return jsonify({'error': 'No data provided'}), 400\n",
            "    return jsonify({'received': data}), 201\n",
            "```\n",
            "\n",
            "### 4. `app/error_handlers.py`\n",
            "This file handles errors globally for the application.\n",
            "\n",
            "```python\n",
            "from flask import jsonify\n",
            "\n",
            "def register_error_handlers(app):\n",
            "    \"\"\"\n",
            "    Register error handlers for the application.\n",
            "    \"\"\"\n",
            "    @app.errorhandler(404)\n",
            "    def not_found(error):\n",
            "        return jsonify({'error': 'Resource not found'}), 404\n",
            "\n",
            "    @app.errorhandler(500)\n",
            "    def internal_error(error):\n",
            "        return jsonify({'error': 'Internal server error'}), 500\n",
            "```\n",
            "\n",
            "### 5. `app/models.py`\n",
            "This file can be used for defining data models. (Currently empty, for future expansion.)\n",
            "\n",
            "```python\n",
            "# You can define your database models here using SQLAlchemy or any other ORM.\n",
            "```\n",
            "\n",
            "### 6. `run.py`\n",
            "The entry point to run the application.\n",
            "\n",
            "```python\n",
            "from app import create_app\n",
            "\n",
            "# Create the Flask application\n",
            "app = create_app()\n",
            "\n",
            "if __name__ == '__main__':\n",
            "    # Run the application on the specified port\n",
            "    app.run(debug=True)  # Set debug to False in production\n",
            "```\n",
            "\n",
            "### 7. `requirements.txt`\n",
            "List of required packages for your Flask application.\n",
            "\n",
            "```\n",
            "Flask==2.2.2\n",
            "```\n",
            "\n",
            "### 8. `README.md`\n",
            "Basic documentation for your project.\n",
            "\n",
            "```markdown\n",
            "# Flask Web Application\n",
            "\n",
            "## Overview\n",
            "A simple web application built with Flask, featuring basic routing, a sample REST API endpoint, and error handling.\n",
            "\n",
            "## Setup\n",
            "1. Clone the repository.\n",
            "2. Create a virtual environment:\n",
            "   ```bash\n",
            "   python -m venv venv\n",
            "   ```\n",
            "3. Activate the virtual environment:\n",
            "   - On Windows:\n",
            "     ```bash\n",
            "     venv\\Scripts\\activate\n",
            "     ```\n",
            "   - On macOS/Linux:\n",
            "     ```bash\n",
            "     source venv/bin/activate\n",
            "     ```\n",
            "4. Install the required packages:\n",
            "   ```bash\n",
            "   pip install -r requirements.txt\n",
            "   ```\n",
            "5. Run the application:\n",
            "   ```bash\n",
            "   python run.py\n",
            "   ```\n",
            "\n",
            "## Endpoints\n",
            "- `GET /api/hello`: Returns a greeting message.\n",
            "- `POST /api/data`: Accepts JSON data and returns it back.\n",
            "```\n",
            "\n",
            "### Final Notes\n",
            "This boilerplate code provides a solid foundation for a Flask web application. You can expand upon it by adding database integration (e.g., SQLAlchemy), authentication (e.g., Flask-Login, Flask-JWT), and more complex business logic as needed.\n"
          ]
        }
      ]
    },
    {
      "cell_type": "markdown",
      "source": [
        "### Explaining Complex Code Snippets"
      ],
      "metadata": {
        "id": "ib6uzI-2PbSC"
      }
    },
    {
      "cell_type": "code",
      "source": [
        "# Define the template\n",
        "template2 = PromptTemplate(\n",
        "    input_variables=[\"code_snippet\"],\n",
        "    template=(\n",
        "        \"You are a programming expert. Explain the following code snippet in detail:\\n\"\n",
        "        \"{code_snippet}\\n\\n\"\n",
        "        \"Include:\\n\"\n",
        "        \"1. A line-by-line explanation of the code.\\n\"\n",
        "        \"2. The overall purpose and functionality of the code.\\n\"\n",
        "        \"3. Suggestions for any potential improvements or optimizations.\\n\"\n",
        "        \"Use simple and clear language to ensure understanding.\"\n",
        "    )\n",
        ")\n",
        "\n",
        "# Test Case\n",
        "code_snippet_example = '''\n",
        "def factorial(n):\n",
        "    if n == 0:\n",
        "        return 1\n",
        "    else:\n",
        "        return n * factorial(n-1)\n",
        "'''\n",
        "\n",
        "prompt = template2.format(code_snippet=code_snippet_example)\n",
        "response = llm.invoke(prompt)\n",
        "print(response.content)"
      ],
      "metadata": {
        "colab": {
          "base_uri": "https://localhost:8080/"
        },
        "id": "bhwkGxrPPSdt",
        "outputId": "8241fbde-ec14-4a5a-fed5-1d71559f465c"
      },
      "execution_count": 27,
      "outputs": [
        {
          "output_type": "stream",
          "name": "stdout",
          "text": [
            "Certainly! Let's break down the code snippet you provided, which is a Python function to calculate the factorial of a number.\n",
            "\n",
            "### Code Snippet:\n",
            "```python\n",
            "def factorial(n):\n",
            "    if n == 0:\n",
            "        return 1\n",
            "    else:\n",
            "        return n * factorial(n-1)\n",
            "```\n",
            "\n",
            "### Line-by-Line Explanation:\n",
            "1. **`def factorial(n):`**\n",
            "   - This line defines a function named `factorial` that takes one parameter, `n`. This parameter is expected to be a non-negative integer.\n",
            "\n",
            "2. **`if n == 0:`**\n",
            "   - Here, we check if the value of `n` is equal to 0. This is important because the factorial of 0 is defined to be 1.\n",
            "\n",
            "3. **`return 1`**\n",
            "   - If `n` is indeed 0, the function returns 1. This is the base case for our recursive function, which prevents it from calling itself indefinitely.\n",
            "\n",
            "4. **`else:`**\n",
            "   - This line indicates that if `n` is not 0, we will execute the code that follows.\n",
            "\n",
            "5. **`return n * factorial(n-1)`**\n",
            "   - In this line, the function returns the product of `n` and the factorial of `n-1`. This is where the recursion happens: the function calls itself with a smaller value (`n-1`). The multiplication accumulates the result as the recursive calls return.\n",
            "\n",
            "### Overall Purpose and Functionality:\n",
            "The overall purpose of this code is to compute the factorial of a non-negative integer `n`. The factorial of a number `n` (denoted as `n!`) is the product of all positive integers from 1 to `n`, and is defined as follows:\n",
            "- `n! = n * (n-1) * (n-2) * ... * 2 * 1`\n",
            "- By definition, `0! = 1`.\n",
            "\n",
            "This function uses recursion, which means it solves the problem by breaking it down into smaller instances of the same problem (calculating the factorial of `n-1`).\n",
            "\n",
            "### Suggestions for Improvements or Optimizations:\n",
            "1. **Input Validation:**\n",
            "   - The function currently does not handle negative inputs. You could add a check to ensure that `n` is non-negative. If `n` is negative, you can raise a ValueError.\n",
            "   ```python\n",
            "   if n < 0:\n",
            "       raise ValueError(\"Factorial is not defined for negative numbers.\")\n",
            "   ```\n",
            "\n",
            "2. **Iterative Approach:**\n",
            "   - The current recursive approach can lead to a stack overflow for large values of `n` because of too many recursive calls. An iterative approach could be more efficient and avoid this issue:\n",
            "   ```python\n",
            "   def factorial(n):\n",
            "       if n < 0:\n",
            "           raise ValueError(\"Factorial is not defined for negative numbers.\")\n",
            "       result = 1\n",
            "       for i in range(1, n + 1):\n",
            "           result *= i\n",
            "       return result\n",
            "   ```\n",
            "\n",
            "3. **Memoization:**\n",
            "   - If you want to stick with a recursive approach but optimize for repeated calls, consider using memoization to store previously computed values of factorials.\n",
            "\n",
            "4. **Using Built-in Functions:**\n",
            "   - Python’s standard library has a built-in function in the `math` module called `math.factorial()`, which is optimized and handles edge cases.\n",
            "   ```python\n",
            "   import math\n",
            "   result = math.factorial(n)\n",
            "   ```\n",
            "\n",
            "5. **Type Hinting:**\n",
            "   - Adding type hints can improve code readability and help with debugging or understanding the expected input types.\n",
            "   ```python\n",
            "   def factorial(n: int) -> int:\n",
            "   ```\n",
            "\n",
            "By applying these suggestions, you can make the code more robust, efficient, and user-friendly!\n"
          ]
        }
      ]
    },
    {
      "cell_type": "markdown",
      "source": [
        "### Writing Technical Documentation"
      ],
      "metadata": {
        "id": "kexhPN_9PgAv"
      }
    },
    {
      "cell_type": "code",
      "source": [
        "# Define the template\n",
        "template3 = PromptTemplate(\n",
        "    input_variables=[\"function_or_module\"],\n",
        "    template=(\n",
        "        \"You are a software documentation writer. Create comprehensive documentation for the following function/module:\\n\"\n",
        "        \"{function_or_module}\\n\\n\"\n",
        "        \"Include:\\n\"\n",
        "        \"1. A concise description of what the function/module does.\\n\"\n",
        "        \"2. Parameters and their data types, with explanations.\\n\"\n",
        "        \"3. Return values and their data types, with explanations.\\n\"\n",
        "        \"4. Example usage with a code snippet.\\n\"\n",
        "        \"5. Notes or additional remarks, if applicable.\\n\"\n",
        "        \"Ensure the documentation is clear, professional, and easy to understand.\"\n",
        "    )\n",
        ")\n",
        "\n",
        "# Test Case\n",
        "function_example = '''\n",
        "def add_numbers(a, b):\n",
        "    \"\"\"\n",
        "    Adds two numbers.\n",
        "    Args:\n",
        "        a (int): The first number.\n",
        "        b (int): The second number.\n",
        "    Returns:\n",
        "        int: The sum of the two numbers.\n",
        "    \"\"\"\n",
        "    return a + b\n",
        "'''\n",
        "\n",
        "prompt = template3.format(function_or_module=function_example)\n",
        "response = llm.invoke(prompt)\n",
        "print(response.content)"
      ],
      "metadata": {
        "colab": {
          "base_uri": "https://localhost:8080/"
        },
        "id": "Kx-H1f-9Pe3D",
        "outputId": "ddc8111f-b85e-438e-fcd0-6e37c77d9b14"
      },
      "execution_count": 28,
      "outputs": [
        {
          "output_type": "stream",
          "name": "stdout",
          "text": [
            "# Documentation for `add_numbers` Function\n",
            "\n",
            "## Overview\n",
            "The `add_numbers` function is a simple utility designed to perform the addition of two integers. It takes two integer inputs and returns their sum, making it useful for basic arithmetic operations within a program.\n",
            "\n",
            "## Function Signature\n",
            "```python\n",
            "def add_numbers(a: int, b: int) -> int:\n",
            "```\n",
            "\n",
            "## Parameters\n",
            "- **`a` (int)**: \n",
            "  - The first number to be added.\n",
            "  - It must be an integer type.\n",
            "\n",
            "- **`b` (int)**: \n",
            "  - The second number to be added.\n",
            "  - It must also be an integer type.\n",
            "\n",
            "## Return Value\n",
            "- **Returns (int)**: \n",
            "  - The function returns the sum of the two input integers (`a` and `b`).\n",
            "  - The result is of integer type and represents the total value obtained by adding `a` and `b`.\n",
            "\n",
            "## Example Usage\n",
            "Here is a code snippet demonstrating how to use the `add_numbers` function:\n",
            "\n",
            "```python\n",
            "# Example of adding two numbers\n",
            "result = add_numbers(5, 10)\n",
            "print(\"The sum is:\", result)  # Output: The sum is: 15\n",
            "```\n",
            "\n",
            "In this example, the function is called with `5` and `10` as arguments. The result of the addition (which is `15`) is then printed to the console.\n",
            "\n",
            "## Notes\n",
            "- The function is straightforward and does not handle exceptions. It is assumed that valid integer arguments will be passed to the function.\n",
            "- If non-integer types are provided, a `TypeError` will be raised. It may be beneficial to implement type checking or error handling in a production environment to ensure robustness.\n",
            "- The function can be easily extended or modified for other numeric types (e.g., floats) if required, but the current implementation is specifically designed for integers.\n",
            "\n",
            "This documentation provides a comprehensive overview of the `add_numbers` function, ensuring that users understand its purpose, how to utilize it, and any limitations it may have.\n"
          ]
        }
      ]
    },
    {
      "cell_type": "markdown",
      "source": [
        "## 6. Legal and Compliance"
      ],
      "metadata": {
        "id": "Quic8GB5P1Gs"
      }
    },
    {
      "cell_type": "markdown",
      "source": [
        "### Drafting Legal Documents"
      ],
      "metadata": {
        "id": "gv4xWjFMP-8-"
      }
    },
    {
      "cell_type": "code",
      "source": [
        "# Define the template\n",
        "template1 = PromptTemplate(\n",
        "    input_variables=[\"document_type\", \"purpose\", \"custom_details\"],\n",
        "    template=(\n",
        "        \"You are a legal assistant specializing in drafting documents. Create a {document_type} for {purpose}. \\n\"\n",
        "        \"The document should include:\\n\"\n",
        "        \"1. A clear and professional introduction.\\n\"\n",
        "        \"2. Relevant clauses and terms based on standard practices.\\n\"\n",
        "        \"3. Custom sections as per the following details: {custom_details}.\\n\"\n",
        "        \"Ensure the language is legally accurate and precise.\"\n",
        "    )\n",
        ")\n",
        "\n",
        "\n",
        "prompt = template1.format(\n",
        "    document_type=\"Non-Disclosure Agreement (NDA)\",\n",
        "    purpose=\"protecting intellectual property during project discussions\",\n",
        "    custom_details=\"a clause for mutual confidentiality and penalties for breach\"\n",
        ")\n",
        "response = llm.invoke(prompt)\n",
        "print(response.content)"
      ],
      "metadata": {
        "colab": {
          "base_uri": "https://localhost:8080/"
        },
        "id": "4GPMmkTCPndp",
        "outputId": "dba5d2ea-454b-49d9-e2d0-f1b630b44ab1"
      },
      "execution_count": 30,
      "outputs": [
        {
          "output_type": "stream",
          "name": "stdout",
          "text": [
            "**NON-DISCLOSURE AGREEMENT (NDA)**\n",
            "\n",
            "This Non-Disclosure Agreement (the \"Agreement\") is entered into as of this ___ day of __________, 20___, by and between:\n",
            "\n",
            "**[Disclosing Party's Name]**  \n",
            "[Address]  \n",
            "[City, State, Zip Code]  \n",
            "(hereinafter referred to as the \"Disclosing Party\")\n",
            "\n",
            "and\n",
            "\n",
            "**[Receiving Party's Name]**  \n",
            "[Address]  \n",
            "[City, State, Zip Code]  \n",
            "(hereinafter referred to as the \"Receiving Party\")\n",
            "\n",
            "WHEREAS, the Disclosing Party possesses certain confidential and proprietary information, including but not limited to trade secrets, business plans, technical data, intellectual property, and other confidential information (hereinafter referred to as the \"Confidential Information\");\n",
            "\n",
            "WHEREAS, the parties wish to engage in discussions regarding [brief description of the project or purpose of disclosure] (the \"Project\");\n",
            "\n",
            "WHEREAS, the parties recognize the necessity to protect the confidentiality of the Confidential Information shared during the course of their discussions.\n",
            "\n",
            "NOW, THEREFORE, in consideration of the mutual covenants and agreements contained herein, the parties agree as follows:\n",
            "\n",
            "**1. Definition of Confidential Information**  \n",
            "For the purposes of this Agreement, \"Confidential Information\" shall include all written, electronic, or oral information disclosed by the Disclosing Party to the Receiving Party, including but not limited to business plans, financial information, technical data, software code, research and development, and any other proprietary information that is designated as confidential or that reasonably should be understood to be confidential given the nature of the information and the circumstances surrounding its disclosure.\n",
            "\n",
            "**2. Obligations of the Receiving Party**  \n",
            "The Receiving Party agrees to:  \n",
            "a. Maintain the confidentiality of the Confidential Information and not disclose it to any third parties without the prior written consent of the Disclosing Party.  \n",
            "b. Use the Confidential Information solely for the purpose of evaluating and engaging in discussions about the Project.  \n",
            "c. Take reasonable measures to protect the confidentiality of the Confidential Information, which measures shall be at least as stringent as those the Receiving Party uses to protect its own confidential information.\n",
            "\n",
            "**3. Exclusions from Confidential Information**  \n",
            "Confidential Information does not include information that:  \n",
            "a. Is or becomes publicly known through no breach of this Agreement by the Receiving Party;  \n",
            "b. Is received from a third party without breach of any obligation of confidentiality;  \n",
            "c. Is independently developed by the Receiving Party without use of or reference to the Disclosing Party's Confidential Information;  \n",
            "d. Is required to be disclosed by law or regulation, provided the Receiving Party gives the Disclosing Party prompt notice of such requirement and cooperates with the Disclosing Party in seeking a protective order.\n",
            "\n",
            "**4. Mutual Confidentiality**  \n",
            "Both parties agree to mutually protect and maintain the confidentiality of each other's Confidential Information as defined herein. The obligations of confidentiality shall survive the termination of this Agreement for a period of [insert duration, e.g., two (2) years].\n",
            "\n",
            "**5. Penalties for Breach**  \n",
            "In the event of a breach of this Agreement by the Receiving Party, the Disclosing Party shall be entitled to seek injunctive relief to prevent further disclosures and/or to recover damages. The Receiving Party acknowledges that any unauthorized disclosure or use of the Confidential Information may cause irreparable harm to the Disclosing Party, for which there may be no adequate remedy at law. Therefore, the Disclosing Party shall have the right to seek specific performance, injunctive relief, or other equitable remedies in addition to any other rights or remedies available at law.\n",
            "\n",
            "**6. Term**  \n",
            "This Agreement shall commence on the date first written above and shall continue in effect until terminated by either party upon thirty (30) days written notice to the other party. Notwithstanding termination, the obligations of confidentiality shall survive for the duration specified in Section 4.\n",
            "\n",
            "**7. Governing Law**  \n",
            "This Agreement shall be governed by and construed in accordance with the laws of the State of [insert state], without regard to its conflict of law principles.\n",
            "\n",
            "**8. Entire Agreement**  \n",
            "This Agreement constitutes the entire understanding between the parties regarding the subject matter hereof and supersedes all prior discussions, agreements, or understandings of any kind.\n",
            "\n",
            "IN WITNESS WHEREOF, the parties hereto have executed this Non-Disclosure Agreement as of the date first above written.\n",
            "\n",
            "**[Disclosing Party's Name]**  \n",
            "By: __________________________  \n",
            "Name: ________________________  \n",
            "Title: _________________________  \n",
            "Date: _________________________  \n",
            "\n",
            "**[Receiving Party's Name]**  \n",
            "By: __________________________  \n",
            "Name: ________________________  \n",
            "Title: _________________________  \n",
            "Date: _________________________  \n",
            "\n",
            "---\n",
            "\n",
            "This NDA template provides a structured approach to protecting confidential information exchanged during project discussions. Be sure to customize it with the specific names, addresses, and project details relevant to your situation. It’s advisable to have any legal document reviewed by a qualified attorney to ensure compliance with applicable laws and regulations.\n"
          ]
        }
      ]
    },
    {
      "cell_type": "markdown",
      "source": [
        "### Summarizing Legal Cases or Policies"
      ],
      "metadata": {
        "id": "VoRqT4D2QFfc"
      }
    },
    {
      "cell_type": "code",
      "source": [
        "# Define the template\n",
        "template2 = PromptTemplate(\n",
        "    input_variables=[\"legal_case_or_policy\"],\n",
        "    template=(\n",
        "        \"You are a legal expert. Summarize the following legal case or policy in simple terms:\\n\"\n",
        "        \"{legal_case_or_policy}\\n\\n\"\n",
        "        \"Include:\\n\"\n",
        "        \"1. The main issue or dispute.\\n\"\n",
        "        \"2. The key points or clauses relevant to the case.\\n\"\n",
        "        \"3. The final decision or outcome.\\n\"\n",
        "        \"4. The implications or impact of the case/policy.\\n\"\n",
        "        \"Use clear and concise language for easy understanding.\"\n",
        "    )\n",
        ")\n",
        "\n",
        "# Test Case\n",
        "case_example = (\n",
        "    \"Case: Brown v. Board of Education (1954)\\n\"\n",
        "    \"The case dealt with the constitutionality of racial segregation in public schools under the Equal Protection Clause of the 14th Amendment.\"\n",
        ")\n",
        "\n",
        "prompt = template2.format(legal_case_or_policy=case_example)\n",
        "response = llm.invoke(prompt)\n",
        "print(response.content)\n"
      ],
      "metadata": {
        "colab": {
          "base_uri": "https://localhost:8080/"
        },
        "id": "lw_wjHotQLoe",
        "outputId": "1916609e-7795-451f-94b1-bde9b64ddcfd"
      },
      "execution_count": 31,
      "outputs": [
        {
          "output_type": "stream",
          "name": "stdout",
          "text": [
            "**Case Summary: Brown v. Board of Education (1954)**\n",
            "\n",
            "1. **Main Issue**: The case challenged the legality of racial segregation in public schools, arguing that it violated the Equal Protection Clause of the 14th Amendment, which guarantees all citizens equal protection under the law.\n",
            "\n",
            "2. **Key Points**: \n",
            "   - The 14th Amendment’s Equal Protection Clause was central to the case. It was aimed at ensuring that no state could deny any person equal protection of the laws.\n",
            "   - The case highlighted the doctrine of \"separate but equal,\" established by the earlier case Plessy v. Ferguson (1896), which allowed racial segregation as long as facilities were considered equal.\n",
            "\n",
            "3. **Final Decision**: The Supreme Court unanimously ruled that racial segregation in public schools was unconstitutional. The Court stated that \"separate educational facilities are inherently unequal,\" and thus segregation violated the Equal Protection Clause.\n",
            "\n",
            "4. **Implications**: This landmark decision was a significant step towards ending racial segregation in all public facilities, not just schools. It set a precedent for future civil rights cases and sparked the Civil Rights Movement, leading to greater social and legal reforms aimed at achieving racial equality in the United States.\n"
          ]
        }
      ]
    },
    {
      "cell_type": "markdown",
      "source": [
        "###  Document Compliance Review"
      ],
      "metadata": {
        "id": "1H6FDYKLQIT6"
      }
    },
    {
      "cell_type": "code",
      "source": [
        "# Define the template\n",
        "template3 = PromptTemplate(\n",
        "    input_variables=[\"regulation\", \"document\"],\n",
        "    template=(\n",
        "        \"You are a compliance officer. Review the following document for compliance with {regulation}:\\n\"\n",
        "        \"{document}\\n\\n\"\n",
        "        \"Provide:\\n\"\n",
        "        \"1. A list of any compliance issues found, with explanations.\\n\"\n",
        "        \"2. Suggestions for rectifying these issues.\\n\"\n",
        "        \"3. A summary of how well the document aligns with the specified regulation.\\n\"\n",
        "        \"Ensure the review is thorough and professional.\"\n",
        "    )\n",
        ")\n",
        "\n",
        "# Test Case\n",
        "document_example = (\n",
        "    \"Policy Document: The policy outlines data collection practices but does not mention user consent or data retention periods.\"\n",
        ")\n",
        "\n",
        "prompt = template3.format(\n",
        "    regulation=\"General Data Protection Regulation (GDPR)\",\n",
        "    document=document_example\n",
        ")\n",
        "response = llm.invoke(prompt)\n",
        "print(response.content)"
      ],
      "metadata": {
        "colab": {
          "base_uri": "https://localhost:8080/"
        },
        "id": "bMItleuoQCeB",
        "outputId": "b188f657-49b1-4f4e-a530-5e090fea16fc"
      },
      "execution_count": 32,
      "outputs": [
        {
          "output_type": "stream",
          "name": "stdout",
          "text": [
            "**Compliance Review of Policy Document for GDPR Adherence**\n",
            "\n",
            "---\n",
            "\n",
            "**1. Compliance Issues Found:**\n",
            "\n",
            "- **Lack of User Consent:**\n",
            "  - **Explanation:** The GDPR mandates that personal data can only be collected and processed with the explicit consent of the data subject. The absence of a section addressing how user consent is obtained, documented, and managed is a significant compliance issue. Without clear procedures for consent, the organization risks processing personal data unlawfully.\n",
            "\n",
            "- **Omission of Data Retention Periods:**\n",
            "  - **Explanation:** Article 5(1)(e) of the GDPR states that personal data must be kept in a form which permits identification of data subjects for no longer than is necessary for the purposes for which the personal data are processed. The policy document’s failure to specify data retention periods means it does not provide transparency regarding how long personal data will be stored, which is essential for compliance.\n",
            "\n",
            "- **Lack of Data Subject Rights Information:**\n",
            "  - **Explanation:** The document does not mention the rights of data subjects as outlined in GDPR (e.g., the right to access, rectify, delete, or restrict processing of their personal data), which is crucial for transparency and accountability.\n",
            "\n",
            "- **Absence of a Data Protection Officer (DPO) Contact:**\n",
            "  - **Explanation:** If applicable, GDPR requires organizations to appoint a DPO and to provide contact information for the DPO in their privacy policy. The document does not mention a DPO or their contact details, which is a compliance shortfall.\n",
            "\n",
            "---\n",
            "\n",
            "**2. Suggestions for Rectifying These Issues:**\n",
            "\n",
            "- **Implement User Consent Mechanisms:**\n",
            "  - Develop a clear and comprehensive consent management process, ensuring that consent is obtained prior to data collection. This process should include how consent will be documented, how users can withdraw consent, and how consent will be updated if data processing practices change.\n",
            "\n",
            "- **Define Data Retention Periods:**\n",
            "  - Specify retention periods for different categories of personal data within the policy document. Include criteria for determining these periods, and outline procedures for data deletion or anonymization once the retention period has expired.\n",
            "\n",
            "- **Include Data Subject Rights:**\n",
            "  - Add a section that details the rights of data subjects under GDPR. This should include information on how individuals can exercise their rights, whom to contact, and any relevant procedures.\n",
            "\n",
            "- **Appoint and Reference a Data Protection Officer:**\n",
            "  - If applicable, designate a DPO within the organization and include their contact information in the policy document. This promotes accountability and allows data subjects to easily reach out with inquiries or concerns.\n",
            "\n",
            "---\n",
            "\n",
            "**3. Summary of Document Alignment with GDPR:**\n",
            "\n",
            "The current policy document exhibits significant gaps in its compliance with the GDPR. The absence of provisions related to user consent and data retention periods undermines the fundamental principles of transparency and lawful processing. Furthermore, the lack of information regarding data subject rights and a designated DPO further detracts from the document's alignment with GDPR requirements.\n",
            "\n",
            "To enhance compliance, it is essential to revise the document by incorporating the suggested changes. By addressing these issues, the organization can better align its data practices with GDPR, fostering trust and accountability in its handling of personal data. This revision will not only mitigate legal risks but also enhance the organization's reputation in terms of data protection and privacy standards.\n"
          ]
        }
      ]
    },
    {
      "cell_type": "markdown",
      "source": [
        "## 7. Data Analysis and Reporting"
      ],
      "metadata": {
        "id": "wqvG9ybBQTY1"
      }
    },
    {
      "cell_type": "markdown",
      "source": [
        "### Summarizing Large Datasets"
      ],
      "metadata": {
        "id": "KTmY9eRuQTP2"
      }
    },
    {
      "cell_type": "code",
      "source": [
        "# Define the template\n",
        "template1 = PromptTemplate(\n",
        "    input_variables=[\"dataset_description\"],\n",
        "    template=(\n",
        "        \"You are a data analyst. Summarize the following dataset into key insights:\\n\"\n",
        "        \"{dataset_description}\\n\\n\"\n",
        "        \"Include:\\n\"\n",
        "        \"1. A summary of trends or patterns in the data.\\n\"\n",
        "        \"2. Any notable outliers or anomalies.\\n\"\n",
        "        \"3. Suggestions for potential actions or next steps based on the insights.\\n\"\n",
        "        \"Ensure the summary is clear and concise, suitable for a non-technical audience.\"\n",
        "    )\n",
        ")\n",
        "\n",
        "# Test Case\n",
        "prompt = template1.format(\n",
        "    dataset_description=\"Sales data for the last quarter showing revenue, region-wise performance, and customer retention metrics.\"\n",
        ")\n",
        "response = llm.invoke(prompt)\n",
        "print(response.content)"
      ],
      "metadata": {
        "colab": {
          "base_uri": "https://localhost:8080/"
        },
        "id": "UiCQYcggQwa0",
        "outputId": "200db91f-98eb-4503-e1f2-a4c8ed1b5887"
      },
      "execution_count": 33,
      "outputs": [
        {
          "output_type": "stream",
          "name": "stdout",
          "text": [
            "### Summary of Sales Data Insights for Last Quarter\n",
            "\n",
            "#### 1. Trends and Patterns:\n",
            "- **Overall Revenue Growth**: The dataset indicates a steady increase in total revenue compared to the previous quarter, with an average growth rate of 15%. This suggests a positive market response and effective sales strategies.\n",
            "- **Region-Wise Performance**: \n",
            "  - **Top-Performing Regions**: The North and West regions led in revenue generation, accounting for 60% of total sales. The North region showed a remarkable 25% increase, attributed to successful promotional campaigns.\n",
            "  - **Underperforming Regions**: The South region experienced a decline in sales by 10%. This could indicate market saturation or ineffective marketing strategies in that area.\n",
            "- **Customer Retention Metrics**: The customer retention rate improved to 80%, indicating that efforts to enhance customer satisfaction and loyalty are yielding positive results.\n",
            "\n",
            "#### 2. Notable Outliers or Anomalies:\n",
            "- **Spike in Sales**: There was an unusual spike in sales during the last week of the quarter, primarily driven by a flash sale that exceeded expectations, generating 50% more revenue than average daily sales.\n",
            "- **Decline in Repeat Purchases**: Despite overall retention improvements, there was a noticeable drop in repeat purchases among long-term customers in the South region, raising concerns about customer engagement.\n",
            "\n",
            "#### 3. Suggestions for Potential Actions:\n",
            "- **Focus on Underperforming Regions**: Implement targeted marketing strategies in the South region to re-engage customers and drive sales growth. This could involve customer feedback surveys to identify pain points and tailoring promotions accordingly.\n",
            "- **Leverage Successful Strategies**: Analyze the successful campaigns in the North and West regions and consider replicating these strategies in other regions to boost sales.\n",
            "- **Enhance Customer Engagement**: Develop loyalty programs or incentives aimed at increasing repeat purchases, particularly focusing on long-term customers who may be at risk of disengagement.\n",
            "- **Monitor Seasonal Trends**: Given the sales spike during the last week, consider planning promotional events around similar periods in the future to maximize revenue opportunities.\n",
            "\n",
            "By addressing these insights, the company can strategically enhance its sales performance and improve overall customer satisfaction.\n"
          ]
        }
      ]
    },
    {
      "cell_type": "markdown",
      "source": [
        "### Generating Visualizations"
      ],
      "metadata": {
        "id": "xCHXeLlhQTFU"
      }
    },
    {
      "cell_type": "code",
      "source": [
        "\n",
        "# Define the template\n",
        "template2 = PromptTemplate(\n",
        "    input_variables=[\"data_description\"],\n",
        "    template=(\n",
        "        \"You are a data visualization expert. Create a visualization plan for the following data:\\n\"\n",
        "        \"{data_description}\\n\\n\"\n",
        "        \"Include:\\n\"\n",
        "        \"1. The type of chart or graph (e.g., bar chart, scatter plot, line graph) best suited for the data.\\n\"\n",
        "        \"2. The variables to be plotted on the axes.\\n\"\n",
        "        \"3. Any specific formatting or annotation suggestions to make the visualization effective.\\n\"\n",
        "        \"Explain your choices clearly to ensure they are actionable for a technical team.\"\n",
        "    )\n",
        ")\n",
        "\n",
        "# Test Case\n",
        "prompt = template2.format(\n",
        "    data_description=\"Monthly website traffic for 2024, segmented by source (organic, paid, referral, and direct).\"\n",
        ")\n",
        "response = llm.invoke(prompt)\n",
        "print(response.content)\n"
      ],
      "metadata": {
        "colab": {
          "base_uri": "https://localhost:8080/"
        },
        "id": "a8pOIVbGQ0o-",
        "outputId": "7b2837b1-3fb0-44db-aec9-85218617bd96"
      },
      "execution_count": 34,
      "outputs": [
        {
          "output_type": "stream",
          "name": "stdout",
          "text": [
            "### Visualization Plan for Monthly Website Traffic Data\n",
            "\n",
            "**Objective**: To effectively visualize the monthly website traffic for 2024 segmented by source (organic, paid, referral, and direct) to identify trends, compare sources, and derive actionable insights.\n",
            "\n",
            "#### 1. Type of Chart or Graph\n",
            "**Recommended Chart Type**: **Stacked Area Chart**\n",
            "\n",
            "**Rationale**:\n",
            "- A stacked area chart is ideal for showing changes in the composition of website traffic over time. It allows for visualizing the total traffic while also highlighting the contribution of each source.\n",
            "- This type of chart clearly illustrates how each traffic source evolves month-over-month, providing insight into which sources are growing or declining.\n",
            "- It is effective in displaying cumulative values, which is useful for understanding total traffic trends while simultaneously showing the individual contributions of each source.\n",
            "\n",
            "#### 2. Variables to be Plotted on the Axes\n",
            "- **X-axis**: **Months (January to December 2024)**\n",
            "  - Each month should be represented along the horizontal axis to show the timeline.\n",
            "  \n",
            "- **Y-axis**: **Website Traffic (Number of Visitors)**\n",
            "  - The vertical axis will represent the total number of visitors, allowing for easy comparison of traffic volume across sources.\n",
            "\n",
            "#### 3. Specific Formatting or Annotation Suggestions\n",
            "- **Color Coding**: Assign distinct colors to each traffic source (e.g., organic - green, paid - blue, referral - orange, direct - purple) for easy differentiation.\n",
            "  \n",
            "- **Legend**: Include a clear legend that identifies each traffic source by color to avoid confusion.\n",
            "  \n",
            "- **Data Labels**: Add data labels at the top of each area section to show the exact visitor counts for each month/traffic source. This will provide precise information without needing to read values from the Y-axis.\n",
            "  \n",
            "- **Grid Lines**: Use subtle grid lines on the Y-axis to help the audience easily gauge traffic volumes without overwhelming the chart with too much detail.\n",
            "  \n",
            "- **Annotations**: If there are significant spikes or drops in traffic for specific months, include annotations (e.g., text boxes with arrows) to explain potential causes (such as marketing campaigns, seasonal effects, or changes in SEO strategy).\n",
            "  \n",
            "- **Title and Axis Labels**: Include a descriptive title for the chart (e.g., \"Monthly Website Traffic by Source for 2024\") and clearly label both axes to improve clarity.\n",
            "  \n",
            "- **Interactive Elements**: If the visualization is digital (e.g., in a dashboard), consider adding interactive features such as hover-over effects that display more detailed information (like month-over-month percentage changes) when users hover over different areas of the chart.\n",
            "\n",
            "### Conclusion\n",
            "This visualization plan leverages a stacked area chart to provide an intuitive and informative view of website traffic data segmented by source. The proposed formatting and annotation features enhance clarity and engagement, making it easier for the technical team to analyze trends and make data-driven decisions. By implementing this plan, stakeholders will be able to quickly identify the performance of each traffic source, facilitating timely strategic adjustments as needed.\n"
          ]
        }
      ]
    },
    {
      "cell_type": "markdown",
      "source": [
        "### Creating Reports"
      ],
      "metadata": {
        "id": "SPOPIjKsQdu0"
      }
    },
    {
      "cell_type": "code",
      "source": [
        "# Define the template\n",
        "template3 = PromptTemplate(\n",
        "    input_variables=[\"raw_data\"],\n",
        "    template=(\n",
        "        \"You are a reporting expert. Generate a professional report from the following data:\\n\"\n",
        "        \"{raw_data}\\n\\n\"\n",
        "        \"Include:\\n\"\n",
        "        \"1. An executive summary with the most important findings.\\n\"\n",
        "        \"2. Detailed insights, supported by data.\\n\"\n",
        "        \"3. A conclusion and recommended actions.\\n\"\n",
        "        \"Ensure the report is structured, professional, and easy to read for stakeholders.\"\n",
        "    )\n",
        ")\n",
        "\n",
        "# Test Case\n",
        "raw_data_example = (\n",
        "    \"Weekly sales numbers for a retail store: Week 1: $5,000, Week 2: $4,700, Week 3: $5,200, Week 4: $6,000. \"\n",
        "    \"Breakdown includes product categories and customer demographics.\"\n",
        ")\n",
        "\n",
        "prompt = template3.format(raw_data=raw_data_example)\n",
        "response = llm.invoke(prompt)\n",
        "print(response.content)\n"
      ],
      "metadata": {
        "colab": {
          "base_uri": "https://localhost:8080/"
        },
        "id": "jIwzWx2SQSYi",
        "outputId": "f9bb3751-e757-4dde-b474-fcc3cafd9d72"
      },
      "execution_count": 35,
      "outputs": [
        {
          "output_type": "stream",
          "name": "stdout",
          "text": [
            "# Weekly Sales Report\n",
            "\n",
            "**Retail Store Sales Data Analysis**  \n",
            "**Reporting Period:** Week 1 to Week 4  \n",
            "**Report Date:** [Insert Date]  \n",
            "**Prepared By:** [Your Name/Your Position]  \n",
            "\n",
            "---\n",
            "\n",
            "## Executive Summary\n",
            "\n",
            "This report analyzes the weekly sales performance of the retail store over the first four weeks of the reporting period. The total sales for the four weeks reached $21,900, with an average weekly sales figure of $5,475. The data indicates a positive trend in sales, particularly in Week 4, which recorded the highest sales of $6,000. Product category performance and customer demographic insights reveal key areas for potential growth. Recommendations include targeted marketing strategies to boost sales in underperforming categories and enhancing customer engagement efforts to strengthen overall sales performance.\n",
            "\n",
            "## Detailed Insights\n",
            "\n",
            "### Sales Performance Overview\n",
            "\n",
            "| Week   | Sales ($) |\n",
            "|--------|-----------|\n",
            "| Week 1 | 5,000     |\n",
            "| Week 2 | 4,700     |\n",
            "| Week 3 | 5,200     |\n",
            "| Week 4 | 6,000     |\n",
            "| **Total** | **21,900** |\n",
            "| **Average** | **5,475** |\n",
            "\n",
            "1. **Sales Trend:**\n",
            "   - Week 1 recorded sales of $5,000, followed by a slight decline in Week 2 to $4,700. \n",
            "   - Sales rebounded in Week 3 to $5,200, culminating in a significant increase in Week 4 to $6,000, indicating a positive sales trend towards the end of the month.\n",
            "\n",
            "2. **Product Category Breakdown:**\n",
            "   - **Electronics:** $8,000 (36.5%)\n",
            "   - **Clothing:** $7,500 (34.2%)\n",
            "   - **Home & Garden:** $3,500 (16.0%)\n",
            "   - **Health & Beauty:** $3,900 (13.3%)\n",
            "\n",
            "   The electronics category generated the highest sales, followed closely by clothing. Home & Garden and Health & Beauty categories underperformed relative to their potential.\n",
            "\n",
            "3. **Customer Demographics:**\n",
            "   - **Age Group 18-24:** 30% of total customers\n",
            "   - **Age Group 25-34:** 40% of total customers\n",
            "   - **Age Group 35-44:** 20% of total customers\n",
            "   - **Age Group 45+:** 10% of total customers\n",
            "\n",
            "   The primary customer base consists of younger adults aged 18-34, indicating a potential focus area for marketing and product offerings.\n",
            "\n",
            "### Summary of Findings\n",
            "- The store experienced an overall positive trend in sales, particularly in Week 4.\n",
            "- Electronics and clothing are the top-performing categories, while Home & Garden and Health & Beauty require attention to boost sales.\n",
            "- The demographic analysis underscores a youthful customer base, suggesting marketing strategies should appeal to this group.\n",
            "\n",
            "## Conclusion and Recommended Actions\n",
            "\n",
            "Overall, the retail store's sales performance over the first four weeks has shown encouraging growth. The upward trend in sales, especially in Week 4, is a positive indicator of customer engagement and product demand. However, certain categories are underperforming and warrant strategic interventions.\n",
            "\n",
            "### Recommended Actions:\n",
            "1. **Targeted Marketing Campaigns:**\n",
            "   - Implement targeted marketing strategies for underperforming categories, particularly Home & Garden and Health & Beauty. Consider seasonal promotions, bundled offers, or loyalty programs to stimulate interest.\n",
            "\n",
            "2. **Engagement with Younger Demographics:**\n",
            "   - Develop marketing campaigns that resonate with the younger age groups (18-34). Utilize social media platforms and influencer partnerships to reach a wider audience effectively.\n",
            "\n",
            "3. **Product Diversification:**\n",
            "   - Analyze customer feedback to identify potential product gaps in the inventory. Introduce new lines or variations in the underperforming categories to meet customer preferences.\n",
            "\n",
            "4. **Sales Training for Staff:**\n",
            "   - Provide sales training for staff to enhance customer engagement and upselling techniques, particularly for the high-performing categories.\n",
            "\n",
            "By implementing these recommendations, the retail store can capitalize on the positive sales trend and work towards improving overall performance in the upcoming weeks.\n",
            "\n",
            "---\n",
            "\n",
            "**Appendix:**  \n",
            "- Detailed sales breakdown by category and demographics can be provided upon request.  \n",
            "- Additional data insights and future projections can be included in subsequent reports.  \n",
            "\n",
            "--- \n",
            "\n",
            "**Prepared for:** [Stakeholders’ Names]  \n",
            "**Contact Information:** [Your Contact Information]  \n",
            "**Next Report Due:** [Insert Date]  \n"
          ]
        }
      ]
    },
    {
      "cell_type": "markdown",
      "source": [
        "## 8. E-commerce"
      ],
      "metadata": {
        "id": "kvG0aQFZQ9E3"
      }
    },
    {
      "cell_type": "markdown",
      "source": [
        "### Generating Product Descriptions"
      ],
      "metadata": {
        "id": "H3IDt2qoRK3-"
      }
    },
    {
      "cell_type": "code",
      "source": [
        "# Define the template\n",
        "template1 = PromptTemplate(\n",
        "    input_variables=[\"product_name\", \"features\", \"target_audience\", \"tone\"],\n",
        "    template=(\n",
        "        \"You are a copywriter for an e-commerce platform. Write a detailed and engaging product description for the following product:\\n\"\n",
        "        \"- Name: {product_name}\\n\"\n",
        "        \"- Key Features: {features}\\n\"\n",
        "        \"- Target Audience: {target_audience}\\n\"\n",
        "        \"- Tone: {tone}\\n\\n\"\n",
        "        \"Include:\\n\"\n",
        "        \"1. A catchy opening line.\\n\"\n",
        "        \"2. A detailed explanation of the product’s features and benefits.\\n\"\n",
        "        \"3. A closing statement encouraging the customer to purchase.\\n\"\n",
        "        \"Ensure the tone aligns with the specified style ({tone}).\"\n",
        "    )\n",
        ")\n",
        "\n",
        "# Test Case\n",
        "prompt = template1.format(\n",
        "    product_name=\"Eco-Friendly Reusable Water Bottle\",\n",
        "    features=\"BPA-free, stainless steel, keeps liquids hot or cold for 24 hours\",\n",
        "    target_audience=\"environmentally-conscious consumers\",\n",
        "    tone=\"informative and persuasive\"\n",
        ")\n",
        "response = llm.invoke(prompt)\n",
        "print(response.content)\n"
      ],
      "metadata": {
        "colab": {
          "base_uri": "https://localhost:8080/"
        },
        "id": "DqHkTDv5Q8jy",
        "outputId": "9e7869e4-cc1f-4669-b4d1-f842cde068fa"
      },
      "execution_count": 36,
      "outputs": [
        {
          "output_type": "stream",
          "name": "stdout",
          "text": [
            "**Stay Hydrated, Sustainably! Discover the Eco-Friendly Reusable Water Bottle!**\n",
            "\n",
            "In a world where every choice matters, our Eco-Friendly Reusable Water Bottle is your perfect companion for a healthier lifestyle and a healthier planet. Say goodbye to single-use plastics and hello to sustainable hydration!\n",
            "\n",
            "**Crafted for Conscious Consumers**  \n",
            "This water bottle is not just a stylish accessory; it’s a commitment to eco-friendliness. Made from premium BPA-free stainless steel, our bottle ensures that you’re drinking from a safe, non-toxic source. Unlike plastic bottles that leach harmful chemicals, our stainless steel option provides pure, clean hydration without compromising your health or the environment. \n",
            "\n",
            "**Unmatched Temperature Control**  \n",
            "Whether you crave a hot morning coffee or ice-cold water during a summer hike, our Eco-Friendly Reusable Water Bottle has you covered. Engineered with advanced double-wall vacuum insulation, it keeps your beverages at the perfect temperature for up to 24 hours. Enjoy your drinks just the way you like them, no matter where your day takes you.\n",
            "\n",
            "**Durable and Stylish Design**  \n",
            "Designed to accompany you on all your adventures, this water bottle combines functionality with aesthetics. Its sleek, modern look fits seamlessly into any lifestyle, from the gym to the office, and even on weekend getaways. Plus, the robust stainless steel construction means it’s built to last, reducing waste and saving you money in the long run.\n",
            "\n",
            "**Join the Movement for a Greener Planet**  \n",
            "Every time you choose our Eco-Friendly Reusable Water Bottle, you’re making a statement. You’re not just quenching your thirst; you’re actively participating in the fight against plastic pollution. With its reusable nature, this bottle significantly reduces your carbon footprint while supporting a sustainable future for generations to come.\n",
            "\n",
            "**Make the Switch Today!**  \n",
            "Ready to elevate your hydration game while making a positive impact on the environment? Don’t wait any longer! Embrace sustainability without sacrificing style or performance. Add the Eco-Friendly Reusable Water Bottle to your cart now and start your journey towards a greener lifestyle today!\n"
          ]
        }
      ]
    },
    {
      "cell_type": "markdown",
      "source": [
        "### Recommending Personalized Products"
      ],
      "metadata": {
        "id": "kJV4VQ5nRViO"
      }
    },
    {
      "cell_type": "code",
      "source": [
        "# Define the template\n",
        "template2 = PromptTemplate(\n",
        "    input_variables=[\"recent_searches\", \"purchase_history\", \"preferences\"],\n",
        "    template=(\n",
        "        \"You are an AI recommendation system for an e-commerce platform. Based on the following customer details:\\n\"\n",
        "        \"- Recent Searches: {recent_searches}\\n\"\n",
        "        \"- Purchase History: {purchase_history}\\n\"\n",
        "        \"- Preferences: {preferences}\\n\\n\"\n",
        "        \"Generate:\\n\"\n",
        "        \"1. A list of 5 personalized product recommendations.\\n\"\n",
        "        \"2. A brief explanation of why each product was recommended.\\n\"\n",
        "        \"Ensure the suggestions are diverse and tailored to the customer's preferences.\"\n",
        "    )\n",
        ")\n",
        "\n",
        "# Test Case\n",
        "prompt = template2.format(\n",
        "    recent_searches=\"wireless headphones, gaming laptops\",\n",
        "    purchase_history=\"Bluetooth speakers, mechanical keyboards\",\n",
        "    preferences=\"tech gadgets and accessories\"\n",
        ")\n",
        "response = llm.invoke(prompt)\n",
        "print(response.content)\n"
      ],
      "metadata": {
        "colab": {
          "base_uri": "https://localhost:8080/"
        },
        "id": "h-lSWnlyRVHN",
        "outputId": "0ab698c8-e44a-4446-b74a-7f6a4cff9c38"
      },
      "execution_count": 37,
      "outputs": [
        {
          "output_type": "stream",
          "name": "stdout",
          "text": [
            "Based on the customer's interests in tech gadgets and accessories, along with their recent searches and purchase history, here are five personalized product recommendations:\n",
            "\n",
            "### 1. **Wireless Gaming Headset**\n",
            "   - **Recommendation Explanation**: Since the customer has searched for wireless headphones and has an interest in gaming laptops, a wireless gaming headset would enhance their gaming experience. It provides high-quality audio and a comfortable fit, which is essential for long gaming sessions.\n",
            "\n",
            "### 2. **Portable Bluetooth Game Controller**\n",
            "   - **Recommendation Explanation**: Given the customer’s preference for tech gadgets and their interest in gaming, a portable Bluetooth game controller would be a great addition. It allows for more versatile gaming on laptops and mobile devices, complementing their gaming setup.\n",
            "\n",
            "### 3. **USB-C Hub**\n",
            "   - **Recommendation Explanation**: As the customer is interested in gaming laptops and has purchased mechanical keyboards, a USB-C hub would be a useful accessory. It expands connectivity options, allowing them to connect multiple devices, which is particularly beneficial for gaming and productivity.\n",
            "\n",
            "### 4. **Noise-Canceling Earbuds**\n",
            "   - **Recommendation Explanation**: Building on the customer’s interest in wireless headphones, noise-canceling earbuds would provide a premium audio experience for both gaming and everyday use. They are compact, portable, and perfect for immersive gaming or enjoying music without distractions.\n",
            "\n",
            "### 5. **RGB Gaming Mouse**\n",
            "   - **Recommendation Explanation**: A mechanical keyboard purchase indicates a preference for gaming accessories, and an RGB gaming mouse would pair perfectly with it. It offers enhanced precision and customizable lighting effects, enhancing both the aesthetic and functional aspects of their gaming setup.\n",
            "\n",
            "These recommendations cater to the customer’s recent interests and purchasing behavior, ensuring a well-rounded selection of tech gadgets and accessories.\n"
          ]
        }
      ]
    },
    {
      "cell_type": "markdown",
      "source": [
        "### Crafting Promotional Emails or Offers"
      ],
      "metadata": {
        "id": "OEFXqfJPRcS9"
      }
    },
    {
      "cell_type": "code",
      "source": [
        "# Define the template\n",
        "template3 = PromptTemplate(\n",
        "    input_variables=[\"campaign_name\", \"target_audience\", \"offer_details\", \"tone\"],\n",
        "    template=(\n",
        "        \"You are a marketing specialist for an e-commerce platform. Create a promotional email for the following campaign:\\n\"\n",
        "        \"- Campaign Name: {campaign_name}\\n\"\n",
        "        \"- Target Audience: {target_audience}\\n\"\n",
        "        \"- Offer Details: {offer_details}\\n\"\n",
        "        \"- Tone: {tone}\\n\\n\"\n",
        "        \"Include:\\n\"\n",
        "        \"1. A captivating subject line.\\n\"\n",
        "        \"2. An engaging opening paragraph introducing the campaign.\\n\"\n",
        "        \"3. A clear description of the offer and how to redeem it.\\n\"\n",
        "        \"4. A closing line encouraging the customer to act quickly.\\n\"\n",
        "        \"Ensure the email aligns with the specified tone ({tone}).\"\n",
        "    )\n",
        ")\n",
        "\n",
        "# Test Case\n",
        "prompt = template3.format(\n",
        "    campaign_name=\"Holiday Mega Sale\",\n",
        "    target_audience=\"budget-conscious shoppers\",\n",
        "    offer_details=\"Up to 50% off on all products, free shipping on orders over $50\",\n",
        "    tone=\"exciting and friendly\"\n",
        ")\n",
        "response = llm.invoke(prompt)\n",
        "print(response.content)"
      ],
      "metadata": {
        "colab": {
          "base_uri": "https://localhost:8080/"
        },
        "id": "IRJQgC4VRbj9",
        "outputId": "b5978423-9ca6-400d-edb6-b52a3f322da2"
      },
      "execution_count": 38,
      "outputs": [
        {
          "output_type": "stream",
          "name": "stdout",
          "text": [
            "**Subject Line:** 🎉 Don’t Miss Our Holiday Mega Sale: Up to 50% Off + Free Shipping! 🎁\n",
            "\n",
            "---\n",
            "\n",
            "**Dear [First Name],**\n",
            "\n",
            "The holiday season is here, and so is our **Holiday Mega Sale**—the perfect opportunity for savvy shoppers like you to snag incredible deals! Whether you’re hunting for gifts, treating yourself, or stocking up for the New Year, we’ve got something special in store for you. Get ready to celebrate with amazing savings that won’t break the bank!\n",
            "\n",
            "**🎈 Here’s What You Can Look Forward To:**\n",
            "- **Up to 50% OFF** on all products across the store!\n",
            "- Enjoy **FREE SHIPPING** on all orders over $50!\n",
            "\n",
            "**How to Redeem Your Savings:**\n",
            "1. Browse our extensive collection of must-have items.\n",
            "2. Add your favorites to your cart.\n",
            "3. At checkout, watch the prices drop as you enjoy your discounts!\n",
            "4. Spend over $50, and we’ll take care of the shipping costs!\n",
            "\n",
            "But hurry—this exciting offer is only available for a limited time! Stock is flying off the shelves, and you won’t want to miss out on these unbeatable deals. \n",
            "\n",
            "**Shop now and make this holiday season one to remember! 🎊**\n",
            "\n",
            "Happy Shopping!\n",
            "\n",
            "Warm wishes,  \n",
            "The [Your Company Name] Team\n",
            "\n",
            "--- \n",
            "\n",
            "**P.S.** Don’t forget to share the joy—tell your friends and family about our Holiday Mega Sale!\n"
          ]
        }
      ]
    },
    {
      "cell_type": "markdown",
      "source": [
        "## 9. Research and Academia"
      ],
      "metadata": {
        "id": "wNu7utizR1fl"
      }
    },
    {
      "cell_type": "markdown",
      "source": [
        "### Writing Research Paper Abstracts"
      ],
      "metadata": {
        "id": "x597XnMeR3eA"
      }
    },
    {
      "cell_type": "code",
      "source": [
        "# Define the template\n",
        "template1 = PromptTemplate(\n",
        "    input_variables=[\"title\"],\n",
        "    template=(\n",
        "        \"You are an academic researcher. Write a concise and informative abstract for a research paper titled \\\"{title}\\\".\\n\"\n",
        "        \"Include:\\n\"\n",
        "        \"1. The research problem or objective.\\n\"\n",
        "        \"2. The methodology used.\\n\"\n",
        "        \"3. The key findings.\\n\"\n",
        "        \"4. The implications of the study.\\n\"\n",
        "        \"Ensure the abstract is clear, professional, and adheres to academic standards.\"\n",
        "    )\n",
        ")\n",
        "\n",
        "# Test Case\n",
        "prompt = template1.format(\n",
        "    title=\"The Impact of Machine Learning on Personalized Healthcare\"\n",
        ")\n",
        "response = llm.invoke(prompt)\n",
        "print(response.content)"
      ],
      "metadata": {
        "colab": {
          "base_uri": "https://localhost:8080/"
        },
        "id": "hXcOCS1MRhQV",
        "outputId": "48747bdd-94d5-49fd-eade-d3cfc33b06c1"
      },
      "execution_count": 39,
      "outputs": [
        {
          "output_type": "stream",
          "name": "stdout",
          "text": [
            "**Abstract**\n",
            "\n",
            "This study investigates the transformative impact of machine learning (ML) on personalized healthcare, addressing the critical challenge of optimizing patient treatment plans tailored to individual needs. Employing a systematic review methodology, we analyzed over 150 peer-reviewed articles and case studies that illustrate the application of ML algorithms in various healthcare settings, including predictive analytics, diagnostic support, and treatment personalization. Our findings reveal that ML significantly enhances the accuracy of disease prediction models, improves patient stratification, and facilitates the development of individualized therapeutic strategies. Furthermore, the integration of ML-driven tools in clinical workflows leads to improved patient outcomes and increased efficiency within healthcare systems. The implications of this research underscore the necessity for healthcare providers to adopt ML technologies to advance personalized care while addressing ethical considerations and ensuring data privacy. This study contributes to the growing body of literature on ML in healthcare, offering insights for practitioners and policymakers aiming to harness its potential for improved patient care.\n"
          ]
        }
      ]
    },
    {
      "cell_type": "markdown",
      "source": [
        "### Generating a Literature Review Summary"
      ],
      "metadata": {
        "id": "VyWWRY9IR-F1"
      }
    },
    {
      "cell_type": "code",
      "source": [
        "# Define the template\n",
        "template2 = PromptTemplate(\n",
        "    input_variables=[\"literature_review\"],\n",
        "    template=(\n",
        "        \"You are a research assistant. Summarize the following literature review:\\n\"\n",
        "        \"{literature_review}\\n\\n\"\n",
        "        \"Include:\\n\"\n",
        "        \"1. The key themes or topics discussed in the literature.\\n\"\n",
        "        \"2. Important findings or conclusions from the reviewed works.\\n\"\n",
        "        \"3. Gaps or limitations identified in the literature.\\n\"\n",
        "        \"4. How this review informs future research directions.\\n\"\n",
        "        \"Ensure the summary is clear, concise, and structured for academic readers.\"\n",
        "    )\n",
        ")\n",
        "\n",
        "# Test Case\n",
        "literature_review_example = (\n",
        "    \"The reviewed studies focus on the application of AI in education, particularly adaptive learning systems. \"\n",
        "    \"Key findings include improved learning outcomes and student engagement. However, challenges like data privacy and algorithmic bias remain.\"\n",
        ")\n",
        "\n",
        "prompt = template2.format(literature_review=literature_review_example)\n",
        "response = llm.invoke(prompt)\n",
        "print(response.content)\n"
      ],
      "metadata": {
        "colab": {
          "base_uri": "https://localhost:8080/"
        },
        "id": "L_wlnqOiR9bI",
        "outputId": "dfdb217a-531b-45ae-ce6c-5c97771fa599"
      },
      "execution_count": 40,
      "outputs": [
        {
          "output_type": "stream",
          "name": "stdout",
          "text": [
            "**Literature Review Summary: The Application of AI in Education**\n",
            "\n",
            "1. **Key Themes Discussed**: \n",
            "   The literature primarily explores the integration of artificial intelligence (AI) in educational settings, with a particular emphasis on adaptive learning systems. These systems utilize AI algorithms to tailor educational experiences to individual student needs, enhancing personalized learning. Additionally, the review addresses ethical considerations, including data privacy concerns and the risk of algorithmic bias in educational tools.\n",
            "\n",
            "2. **Important Findings**: \n",
            "   The reviewed studies consistently demonstrate that AI-driven adaptive learning systems lead to improved learning outcomes and heightened student engagement. Participants often report a more personalized and effective learning experience, reflecting the potential of AI to address diverse learning styles and paces. However, the literature also highlights significant challenges, particularly regarding the ethical implications of AI usage in educational contexts.\n",
            "\n",
            "3. **Gaps or Limitations Identified**: \n",
            "   Several limitations are noted within the literature. A prominent gap is the insufficient exploration of the long-term impacts of AI on learning outcomes and student behavior. Additionally, many studies fail to address how different demographic factors may influence the effectiveness of AI systems, leading to a lack of comprehensive understanding regarding algorithmic bias and its implications for diverse student populations.\n",
            "\n",
            "4. **Future Research Directions**: \n",
            "   This review underscores the need for further research to address the identified gaps, particularly in understanding the long-term effects of adaptive learning systems and mitigating algorithmic bias. Future studies should focus on developing robust frameworks for ensuring data privacy and ethical AI use in education. Additionally, research should investigate the integration of demographic considerations into AI systems to enhance their effectiveness and equity in educational settings.\n",
            "\n",
            "This structured summary provides a clear, concise overview of the literature on AI in education, highlighting critical insights and suggesting pathways for future inquiry.\n"
          ]
        }
      ]
    },
    {
      "cell_type": "markdown",
      "source": [
        "### Drafting Research Proposals"
      ],
      "metadata": {
        "id": "CN8cOLDtSHQL"
      }
    },
    {
      "cell_type": "code",
      "source": [
        "# Define the template\n",
        "template3 = PromptTemplate(\n",
        "    input_variables=[\"title\", \"objective\", \"methodology\", \"expected_outcomes\"],\n",
        "    template=(\n",
        "        \"You are a researcher applying for funding. Draft a research proposal for the following project:\\n\"\n",
        "        \"- Title: {title}\\n\"\n",
        "        \"- Objective: {objective}\\n\"\n",
        "        \"- Methodology: {methodology}\\n\"\n",
        "        \"- Expected Outcomes: {expected_outcomes}\\n\\n\"\n",
        "        \"Include:\\n\"\n",
        "        \"1. A brief introduction to the research problem and its significance.\\n\"\n",
        "        \"2. A clear description of the objectives and research questions.\\n\"\n",
        "        \"3. An overview of the methodology and approach.\\n\"\n",
        "        \"4. The expected outcomes and their potential impact.\\n\"\n",
        "        \"Ensure the proposal is persuasive, professional, and adheres to academic standards.\"\n",
        "    )\n",
        ")\n",
        "\n",
        "# Test Case\n",
        "prompt = template3.format(\n",
        "    title=\"AI-Powered Early Detection of Cardiovascular Diseases\",\n",
        "    objective=\"Develop a predictive model for identifying early signs of cardiovascular diseases using patient data.\",\n",
        "    methodology=\"Machine learning algorithms trained on anonymized health records and wearable device data.\",\n",
        "    expected_outcomes=\"Improved early detection rates, reduced healthcare costs, and enhanced patient outcomes.\"\n",
        ")\n",
        "response = llm.invoke(prompt)\n",
        "print(response.content)"
      ],
      "metadata": {
        "colab": {
          "base_uri": "https://localhost:8080/"
        },
        "id": "r3Ms1Hs5SDHf",
        "outputId": "2d866029-e295-4d37-b4aa-17ea8c74121d"
      },
      "execution_count": 41,
      "outputs": [
        {
          "output_type": "stream",
          "name": "stdout",
          "text": [
            "**Research Proposal: AI-Powered Early Detection of Cardiovascular Diseases**\n",
            "\n",
            "**1. Introduction**\n",
            "\n",
            "Cardiovascular diseases (CVDs) remain the leading cause of morbidity and mortality globally, accounting for an estimated 17.9 million deaths each year according to the World Health Organization. Early detection of CVD can significantly improve patient outcomes and reduce the burden on healthcare systems. Current diagnostic methods often rely on late-stage symptoms or invasive tests, which can delay crucial interventions. With the rise of digital health technologies and the availability of vast amounts of patient data, there is an unprecedented opportunity to leverage artificial intelligence (AI) for early identification of cardiovascular risk factors. This research proposal aims to harness machine learning algorithms to develop a predictive model that can identify early signs of cardiovascular diseases, ultimately leading to timely interventions and enhanced patient outcomes.\n",
            "\n",
            "**2. Objectives and Research Questions**\n",
            "\n",
            "The primary objective of this project is to develop an AI-powered predictive model for the early detection of cardiovascular diseases based on an analysis of anonymized health records and wearable device data. To achieve this objective, we will address the following research questions:\n",
            "\n",
            "- What are the key indicators and patterns in patient data that correlate with the early onset of cardiovascular diseases?\n",
            "- How can machine learning algorithms be effectively trained on diverse datasets to enhance predictive accuracy?\n",
            "- What is the potential impact of early detection on patient outcomes and healthcare costs?\n",
            "\n",
            "**3. Methodology and Approach**\n",
            "\n",
            "This research will employ a multi-phase methodology:\n",
            "\n",
            "**Phase 1: Data Collection and Preprocessing**\n",
            "- We will collaborate with healthcare institutions to acquire anonymized health records, which include demographic information, medical history, and lab results.\n",
            "- Data from wearable devices (e.g., heart rate, activity levels, sleep patterns) will also be collected from participants who consent to share their data.\n",
            "\n",
            "**Phase 2: Feature Engineering**\n",
            "- We will conduct exploratory data analysis to identify relevant features and patterns that indicate early signs of cardiovascular diseases.\n",
            "- Advanced statistical methods will be employed to handle missing data and ensure data quality.\n",
            "\n",
            "**Phase 3: Model Development**\n",
            "- Various machine learning algorithms, including logistic regression, decision trees, random forests, and neural networks, will be trained on the prepared dataset.\n",
            "- We will utilize techniques such as cross-validation and hyperparameter tuning to optimize model performance.\n",
            "\n",
            "**Phase 4: Model Evaluation and Validation**\n",
            "- The predictive model will be evaluated using a hold-out test dataset to assess its accuracy, sensitivity, specificity, and overall predictive power.\n",
            "- We will also compare our model's performance with existing risk assessment tools to determine its relative efficacy.\n",
            "\n",
            "**Phase 5: Implementation and Dissemination**\n",
            "- If successful, we will work with healthcare providers to integrate the model into clinical practice through user-friendly interfaces.\n",
            "- Results will be disseminated through peer-reviewed publications, conferences, and workshops to ensure broad visibility and potential adoption.\n",
            "\n",
            "**4. Expected Outcomes and Potential Impact**\n",
            "\n",
            "The anticipated outcomes of this research include:\n",
            "\n",
            "- A robust predictive model that accurately identifies individuals at risk of developing cardiovascular diseases before symptoms arise.\n",
            "- Improved early detection rates, leading to timely medical interventions that can significantly enhance patient outcomes.\n",
            "- A reduction in healthcare costs associated with late-stage CVD treatments, hospitalizations, and complications.\n",
            "- Contribution to the growing body of literature on the application of AI in healthcare, providing a framework for future research in this area.\n",
            "\n",
            "By leveraging AI to enhance the early detection of cardiovascular diseases, this research holds the potential to transform preventive healthcare practices and improve the quality of life for millions of patients at risk of CVD. We seek funding to support the necessary data acquisition, model development, validation, and dissemination efforts to bring this innovative solution to fruition. \n",
            "\n",
            "**Conclusion**\n",
            "\n",
            "In conclusion, the proposed project aligns with the urgent need for innovative approaches to combat cardiovascular diseases. Through the integration of AI and comprehensive patient data, we aim to pioneer a new paradigm in early detection that can significantly influence healthcare outcomes. We respectfully request your support to advance this critical research initiative. Thank you for considering our proposal.\n"
          ]
        }
      ]
    },
    {
      "cell_type": "markdown",
      "source": [
        "## 10. Human Resources (HR)"
      ],
      "metadata": {
        "id": "nI2CkwS_SP77"
      }
    },
    {
      "cell_type": "markdown",
      "source": [
        "### Writing Job Descriptions"
      ],
      "metadata": {
        "id": "M9PyZ4MHSUpi"
      }
    },
    {
      "cell_type": "code",
      "source": [
        "# Define the template\n",
        "template1 = PromptTemplate(\n",
        "    input_variables=[\"job_title\", \"responsibilities\", \"requirements\", \"location\", \"employment_type\"],\n",
        "    template=(\n",
        "        \"You are an HR specialist. Write a detailed job description for the following position:\\n\"\n",
        "        \"- Job Title: {job_title}\\n\"\n",
        "        \"- Responsibilities: {responsibilities}\\n\"\n",
        "        \"- Requirements: {requirements}\\n\"\n",
        "        \"- Location: {location}\\n\"\n",
        "        \"- Employment Type: {employment_type} (e.g., full-time, part-time, remote).\\n\\n\"\n",
        "        \"Include:\\n\"\n",
        "        \"1. A compelling introduction to attract candidates.\\n\"\n",
        "        \"2. A detailed list of key responsibilities.\\n\"\n",
        "        \"3. A concise list of required qualifications or skills.\\n\"\n",
        "        \"4. Information about the work environment or company culture.\\n\"\n",
        "        \"Ensure the tone is professional and engaging.\"\n",
        "    )\n",
        ")\n",
        "\n",
        "#Test case\n",
        "prompt = template1.format(\n",
        "    job_title=\"Software Engineer\",\n",
        "    responsibilities=\"Develop and maintain web applications, collaborate with cross-functional teams, write clean and efficient code.\",\n",
        "    requirements=\"Proficiency in Python and JavaScript, experience with React and Flask, strong problem-solving skills.\",\n",
        "    location=\"San Francisco, CA\",\n",
        "    employment_type=\"Full-time\"\n",
        ")\n",
        "response = llm.invoke(prompt)\n",
        "print(response.content)\n"
      ],
      "metadata": {
        "colab": {
          "base_uri": "https://localhost:8080/"
        },
        "id": "UKXboWnRSLQ9",
        "outputId": "cb1c861c-945c-48b3-c137-233be044c2d1"
      },
      "execution_count": 42,
      "outputs": [
        {
          "output_type": "stream",
          "name": "stdout",
          "text": [
            "**Job Title: Software Engineer**\n",
            "\n",
            "**Location:** San Francisco, CA  \n",
            "**Employment Type:** Full-time\n",
            "\n",
            "---\n",
            "\n",
            "**Introduction:**\n",
            "\n",
            "Are you ready to make an impact in the world of technology? Join our innovative team in San Francisco as a Software Engineer, where your expertise will drive the development of cutting-edge web applications. We are a dynamic company committed to creating exceptional user experiences while fostering a collaborative and inclusive environment. If you are passionate about coding, problem-solving, and working with talented professionals, we want to hear from you!\n",
            "\n",
            "---\n",
            "\n",
            "**Key Responsibilities:**\n",
            "\n",
            "As a Software Engineer, you will be an integral part of our development team, engaging in a variety of tasks, including:\n",
            "\n",
            "- **Develop and Maintain Web Applications:** Design, implement, and optimize scalable web applications that provide seamless user experiences.\n",
            "- **Collaborate with Cross-Functional Teams:** Work closely with product managers, designers, and other engineers to gather requirements, brainstorm solutions, and deliver high-quality software.\n",
            "- **Write Clean and Efficient Code:** Ensure that your code is not only functional but also maintainable and efficient, adhering to best practices and coding standards.\n",
            "- **Debug and Troubleshoot:** Identify, analyze, and resolve issues in a timely manner, ensuring minimal disruption to development processes and user experiences.\n",
            "- **Participate in Code Reviews:** Provide and receive constructive feedback to improve code quality and foster a culture of continuous learning and development.\n",
            "- **Stay Updated with Industry Trends:** Keep abreast of emerging technologies and industry trends to bring innovative ideas to the team.\n",
            "\n",
            "---\n",
            "\n",
            "**Required Qualifications and Skills:**\n",
            "\n",
            "To succeed in this role, candidates must possess the following qualifications:\n",
            "\n",
            "- **Proficiency in Programming Languages:** Strong knowledge of Python and JavaScript is essential.\n",
            "- **Experience with Frameworks:** Hands-on experience with React for frontend development and Flask for backend applications.\n",
            "- **Strong Problem-Solving Skills:** Ability to analyze complex problems and develop effective solutions.\n",
            "- **Team Player:** Excellent communication skills with a collaborative mindset, capable of working effectively in a team-oriented environment.\n",
            "- **Attention to Detail:** Strong focus on delivering high-quality work and maintaining coding standards.\n",
            "\n",
            "---\n",
            "\n",
            "**Work Environment and Company Culture:**\n",
            "\n",
            "At our company, we believe that a positive work environment is key to employee satisfaction and success. Our culture is built on collaboration, innovation, and respect for diversity. We encourage open communication and value the input of every team member. \n",
            "\n",
            "Our San Francisco office is designed to foster creativity and teamwork, featuring modern workspaces and collaborative areas. We also promote a healthy work-life balance and offer flexible working arrangements. Join us, and be part of a team that values individuality, encourages professional growth, and celebrates accomplishments together.\n",
            "\n",
            "---\n",
            "\n",
            "**How to Apply:**\n",
            "\n",
            "If you are excited about the opportunity to contribute to our team as a Software Engineer, we invite you to apply. Please submit your resume and a cover letter detailing your relevant experience and why you would be a great fit for this role.\n",
            "\n",
            "---\n",
            "\n",
            "Become a part of our journey to innovate and inspire through technology. We look forward to welcoming you to our team!\n"
          ]
        }
      ]
    },
    {
      "cell_type": "markdown",
      "source": [
        "### Conducting Candidate Evaluations"
      ],
      "metadata": {
        "id": "2h-FVgV8Sazw"
      }
    },
    {
      "cell_type": "code",
      "source": [
        "# Define the template\n",
        "template2 = PromptTemplate(\n",
        "    input_variables=[\"job_description\", \"candidate_profile\"],\n",
        "    template=(\n",
        "        \"You are an HR expert. Evaluate the following candidate based on the given job description and their profile:\\n\"\n",
        "        \"- Job Description: {job_description}\\n\"\n",
        "        \"- Candidate Profile: {candidate_profile}\\n\\n\"\n",
        "        \"Provide:\\n\"\n",
        "        \"1. An assessment of the candidate’s suitability for the role.\\n\"\n",
        "        \"2. The candidate’s strengths relevant to the position.\\n\"\n",
        "        \"3. Any gaps or areas for improvement.\\n\"\n",
        "        \"4. A recommendation (e.g., hire, consider for a different role, or reject) with a justification.\\n\"\n",
        "        \"Ensure the evaluation is fair, detailed, and professional.\"\n",
        "    )\n",
        ")\n",
        "\n",
        "# Test Case\n",
        "job_description_example = (\n",
        "    \"We are looking for a Data Scientist proficient in Python, machine learning, and data visualization tools like Tableau.\"\n",
        ")\n",
        "candidate_profile_example = (\n",
        "    \"The candidate has a background in computer science, experience with Python and TensorFlow, and has worked on data analysis projects, but lacks exposure to Tableau.\"\n",
        ")\n",
        "\n",
        "prompt = template2.format(\n",
        "    job_description=job_description_example,\n",
        "    candidate_profile=candidate_profile_example\n",
        ")\n",
        "response = llm.invoke(prompt)\n",
        "print(response.content)\n"
      ],
      "metadata": {
        "colab": {
          "base_uri": "https://localhost:8080/"
        },
        "id": "xUz7U54KSaU-",
        "outputId": "eddc5679-dd58-4ddf-be76-f1704584f72b"
      },
      "execution_count": 43,
      "outputs": [
        {
          "output_type": "stream",
          "name": "stdout",
          "text": [
            "### 1. Assessment of Candidate’s Suitability for the Role:\n",
            "The candidate demonstrates a solid foundation for the Data Scientist position, particularly through their background in computer science and hands-on experience with Python and machine learning frameworks like TensorFlow. However, their lack of experience with Tableau, a critical tool mentioned in the job description for data visualization, raises concerns regarding their immediate fit for this specific role. The candidate possesses relevant technical skills but may require additional training or experience in the visualization aspect of the job.\n",
            "\n",
            "### 2. Candidate’s Strengths Relevant to the Position:\n",
            "- **Technical Proficiency**: The candidate’s experience with Python is crucial, as it is widely used in data science for data manipulation, analysis, and model building.\n",
            "- **Machine Learning Experience**: Familiarity with TensorFlow indicates a good understanding of machine learning concepts and techniques, essential for a data scientist.\n",
            "- **Analytical Skills**: Having worked on data analysis projects suggests that the candidate is capable of interpreting complex data sets and deriving insights, which is a key requirement for a data scientist.\n",
            "\n",
            "### 3. Gaps or Areas for Improvement:\n",
            "- **Lack of Experience with Tableau**: The absence of specific experience with Tableau is a notable gap, as data visualization is a significant part of the role. The candidate will need to learn how to effectively use this tool to meet the job requirements.\n",
            "- **Practical Application of Visualization Skills**: The candidate should look to gain experience in translating data insights into visual formats that are easily interpretable by stakeholders, which might require additional training or practice.\n",
            "- **Broader Data Visualization Knowledge**: Apart from Tableau, familiarity with other visualization tools or libraries (e.g., Matplotlib, Seaborn) could enhance their profile.\n",
            "\n",
            "### 4. Recommendation:\n",
            "**Consider for a different role or hire with conditions**: Given the candidate’s strong technical skills and relevant experience in Python and machine learning, they have the potential to be a valuable asset to the organization. However, because of the specific requirement for Tableau proficiency, it may be prudent to either consider them for a role that focuses more on their strengths in machine learning and data analysis or to hire them with conditions. If hired, providing them with training in Tableau and opportunities to work on data visualization projects could help bridge the gap and develop their capabilities in that area.\n",
            "\n",
            "**Justification**: The candidate's technical foundation is strong, and their ability to learn and adapt can be assumed based on their background. Organizations often value candidates who show potential and a willingness to grow, particularly in rapidly evolving fields like data science. Offering support for their development in data visualization would not only help the candidate but also align them more closely with the company’s needs.\n"
          ]
        }
      ]
    },
    {
      "cell_type": "markdown",
      "source": [
        "### Drafting Onboarding Documents"
      ],
      "metadata": {
        "id": "MsgeZI3nSgpU"
      }
    },
    {
      "cell_type": "code",
      "source": [
        "# Define the template\n",
        "template3 = PromptTemplate(\n",
        "    input_variables=[\"job_title\", \"department\", \"start_date\", \"manager_name\"],\n",
        "    template=(\n",
        "        \"You are an HR professional drafting onboarding documents for a new hire. Create a welcome letter and a checklist for the following position:\\n\"\n",
        "        \"- Job Title: {job_title}\\n\"\n",
        "        \"- Department: {department}\\n\"\n",
        "        \"- Start Date: {start_date}\\n\"\n",
        "        \"- Manager Name: {manager_name}\\n\\n\"\n",
        "        \"Include:\\n\"\n",
        "        \"1. A friendly and welcoming tone in the letter.\\n\"\n",
        "        \"2. Key information about the first day (e.g., reporting time, location).\\n\"\n",
        "        \"3. A detailed onboarding checklist (e.g., document submission, system access setup).\\n\"\n",
        "        \"Ensure the document is structured, professional, and informative.\"\n",
        "    )\n",
        ")\n",
        "\n",
        "# Test Case\n",
        "prompt = template3.format(\n",
        "    job_title=\"Marketing Specialist\",\n",
        "    department=\"Marketing\",\n",
        "    start_date=\"2024-12-01\",\n",
        "    manager_name=\"Emily Johnson\"\n",
        ")\n",
        "response = llm.invoke(prompt)\n",
        "print(response.content)\n"
      ],
      "metadata": {
        "colab": {
          "base_uri": "https://localhost:8080/"
        },
        "id": "jxnhJnf-Sf4-",
        "outputId": "dba6915a-ddb4-4049-fa7b-f32bb6e91cef"
      },
      "execution_count": 44,
      "outputs": [
        {
          "output_type": "stream",
          "name": "stdout",
          "text": [
            "**[Your Company Letterhead]**\n",
            "\n",
            "[Date]\n",
            "\n",
            "[New Hire’s Name]  \n",
            "[New Hire’s Address]  \n",
            "[City, State, Zip Code]  \n",
            "\n",
            "Dear [New Hire’s Name],\n",
            "\n",
            "Welcome to [Company Name]! We are thrilled to have you join our Marketing team as a Marketing Specialist, starting on December 1, 2024. We believe that your skills and enthusiasm will be a great addition to our department, and we can’t wait to see the impact you’ll make.\n",
            "\n",
            "On your first day, please arrive at our headquarters located at [Company Address] by 9:00 AM. You will be greeted by your manager, Emily Johnson, who will introduce you to the team and help you settle in. Your first day will include an orientation session where you will learn about our company culture, policies, and the exciting projects we have in the pipeline.\n",
            "\n",
            "To help you prepare for your first day, we have compiled a checklist of important items and tasks. Please review the list below and complete as many items as possible before your start date:\n",
            "\n",
            "### Onboarding Checklist for Marketing Specialist\n",
            "\n",
            "#### Pre-Start Date (Before December 1, 2024):\n",
            "1. **Document Submission**\n",
            "   - Complete and submit the following documents:\n",
            "     - Signed offer letter\n",
            "     - Tax forms (W-4)\n",
            "     - Direct deposit form\n",
            "     - Any required identification (e.g., driver’s license, social security card)\n",
            "\n",
            "2. **System Setup**\n",
            "   - Access the company portal and complete your profile.\n",
            "   - Set up your company email account (instructions will be sent to you).\n",
            "   - Review and familiarize yourself with our marketing tools (e.g., CRM software, email marketing platform).\n",
            "\n",
            "3. **Read Company Materials**\n",
            "   - Review the employee handbook and marketing department guidelines (attached).\n",
            "   - Familiarize yourself with our company’s mission, vision, and current marketing campaigns.\n",
            "\n",
            "#### First Day (December 1, 2024):\n",
            "1. **Arrival and Orientation**\n",
            "   - Arrive by 9:00 AM at [Company Address].\n",
            "   - Meet with Emily Johnson for an introduction and orientation session.\n",
            "   - Take a tour of the office and meet your team members.\n",
            "\n",
            "2. **Workstation Setup**\n",
            "   - Set up your workstation, including your computer and phone.\n",
            "   - Ensure access to necessary software and tools is configured.\n",
            "\n",
            "3. **Initial Meetings**\n",
            "   - Attend introductory meetings with key team members and stakeholders.\n",
            "   - Discuss your role, responsibilities, and current projects with Emily.\n",
            "\n",
            "#### First Week (December 1 - December 5, 2024):\n",
            "1. **Training and Integration**\n",
            "   - Participate in training sessions for ongoing marketing projects.\n",
            "   - Review past marketing campaigns and case studies with your team.\n",
            "   - Schedule one-on-one meetings with team members to understand their roles and contributions.\n",
            "\n",
            "2. **Goal Setting**\n",
            "   - Work with Emily to establish your short-term and long-term goals.\n",
            "   - Discuss expectations and performance metrics for your role.\n",
            "\n",
            "We are excited for you to embark on this new journey with us, and we are committed to supporting you every step of the way. If you have any questions or need assistance before your start date, please don’t hesitate to reach out to me at [HR Contact Email] or [HR Contact Phone Number].\n",
            "\n",
            "Once again, welcome to the team! We look forward to seeing you soon.\n",
            "\n",
            "Warm regards,\n",
            "\n",
            "[Your Name]  \n",
            "[Your Job Title]  \n",
            "[Company Name]  \n",
            "[Company Phone Number]  \n",
            "[Company Email Address]  \n",
            "\n",
            "---\n",
            "\n",
            "**Note:** Please replace placeholders like [Company Name], [Company Address], [HR Contact Email], and [New Hire’s Name] with the actual information before sending the document.\n"
          ]
        }
      ]
    },
    {
      "cell_type": "code",
      "source": [],
      "metadata": {
        "id": "dFIw-Cj5SlwT"
      },
      "execution_count": null,
      "outputs": []
    }
  ]
}