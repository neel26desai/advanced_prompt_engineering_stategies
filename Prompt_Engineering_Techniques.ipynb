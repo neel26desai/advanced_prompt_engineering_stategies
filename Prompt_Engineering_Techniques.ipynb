{
  "nbformat": 4,
  "nbformat_minor": 0,
  "metadata": {
    "colab": {
      "provenance": [],
      "collapsed_sections": [
        "_dYoRbHwSk0e",
        "jvAw-xfHpHhz",
        "flcC3mt40dbN"
      ],
      "authorship_tag": "ABX9TyOleYT0tEfGEuHLJPakBHsR",
      "include_colab_link": true
    },
    "kernelspec": {
      "name": "python3",
      "display_name": "Python 3"
    },
    "language_info": {
      "name": "python"
    }
  },
  "cells": [
    {
      "cell_type": "markdown",
      "metadata": {
        "id": "view-in-github",
        "colab_type": "text"
      },
      "source": [
        "<a href=\"https://colab.research.google.com/github/neel26desai/advanced_prompt_engineering_stategies/blob/main/Prompt_Engineering_Techniques.ipynb\" target=\"_parent\"><img src=\"https://colab.research.google.com/assets/colab-badge.svg\" alt=\"Open In Colab\"/></a>"
      ]
    },
    {
      "cell_type": "code",
      "execution_count": 1,
      "metadata": {
        "id": "Zq61iW5NOhlr",
        "colab": {
          "base_uri": "https://localhost:8080/"
        },
        "outputId": "91a95b5b-edae-4d18-c285-07f44eb048ff"
      },
      "outputs": [
        {
          "output_type": "stream",
          "name": "stdout",
          "text": [
            "Requirement already satisfied: openai in /usr/local/lib/python3.10/dist-packages (1.54.4)\n",
            "Requirement already satisfied: anyio<5,>=3.5.0 in /usr/local/lib/python3.10/dist-packages (from openai) (3.7.1)\n",
            "Requirement already satisfied: distro<2,>=1.7.0 in /usr/local/lib/python3.10/dist-packages (from openai) (1.9.0)\n",
            "Requirement already satisfied: httpx<1,>=0.23.0 in /usr/local/lib/python3.10/dist-packages (from openai) (0.27.2)\n",
            "Requirement already satisfied: jiter<1,>=0.4.0 in /usr/local/lib/python3.10/dist-packages (from openai) (0.7.1)\n",
            "Requirement already satisfied: pydantic<3,>=1.9.0 in /usr/local/lib/python3.10/dist-packages (from openai) (2.9.2)\n",
            "Requirement already satisfied: sniffio in /usr/local/lib/python3.10/dist-packages (from openai) (1.3.1)\n",
            "Requirement already satisfied: tqdm>4 in /usr/local/lib/python3.10/dist-packages (from openai) (4.66.6)\n",
            "Requirement already satisfied: typing-extensions<5,>=4.11 in /usr/local/lib/python3.10/dist-packages (from openai) (4.12.2)\n",
            "Requirement already satisfied: idna>=2.8 in /usr/local/lib/python3.10/dist-packages (from anyio<5,>=3.5.0->openai) (3.10)\n",
            "Requirement already satisfied: exceptiongroup in /usr/local/lib/python3.10/dist-packages (from anyio<5,>=3.5.0->openai) (1.2.2)\n",
            "Requirement already satisfied: certifi in /usr/local/lib/python3.10/dist-packages (from httpx<1,>=0.23.0->openai) (2024.8.30)\n",
            "Requirement already satisfied: httpcore==1.* in /usr/local/lib/python3.10/dist-packages (from httpx<1,>=0.23.0->openai) (1.0.7)\n",
            "Requirement already satisfied: h11<0.15,>=0.13 in /usr/local/lib/python3.10/dist-packages (from httpcore==1.*->httpx<1,>=0.23.0->openai) (0.14.0)\n",
            "Requirement already satisfied: annotated-types>=0.6.0 in /usr/local/lib/python3.10/dist-packages (from pydantic<3,>=1.9.0->openai) (0.7.0)\n",
            "Requirement already satisfied: pydantic-core==2.23.4 in /usr/local/lib/python3.10/dist-packages (from pydantic<3,>=1.9.0->openai) (2.23.4)\n",
            "Requirement already satisfied: langchain in /usr/local/lib/python3.10/dist-packages (0.3.7)\n",
            "Collecting langchain-community\n",
            "  Downloading langchain_community-0.3.8-py3-none-any.whl.metadata (2.9 kB)\n",
            "Requirement already satisfied: PyYAML>=5.3 in /usr/local/lib/python3.10/dist-packages (from langchain) (6.0.2)\n",
            "Requirement already satisfied: SQLAlchemy<3,>=1.4 in /usr/local/lib/python3.10/dist-packages (from langchain) (2.0.36)\n",
            "Requirement already satisfied: aiohttp<4.0.0,>=3.8.3 in /usr/local/lib/python3.10/dist-packages (from langchain) (3.11.2)\n",
            "Requirement already satisfied: async-timeout<5.0.0,>=4.0.0 in /usr/local/lib/python3.10/dist-packages (from langchain) (4.0.3)\n",
            "Requirement already satisfied: langchain-core<0.4.0,>=0.3.15 in /usr/local/lib/python3.10/dist-packages (from langchain) (0.3.19)\n",
            "Requirement already satisfied: langchain-text-splitters<0.4.0,>=0.3.0 in /usr/local/lib/python3.10/dist-packages (from langchain) (0.3.2)\n",
            "Requirement already satisfied: langsmith<0.2.0,>=0.1.17 in /usr/local/lib/python3.10/dist-packages (from langchain) (0.1.143)\n",
            "Requirement already satisfied: numpy<2,>=1 in /usr/local/lib/python3.10/dist-packages (from langchain) (1.26.4)\n",
            "Requirement already satisfied: pydantic<3.0.0,>=2.7.4 in /usr/local/lib/python3.10/dist-packages (from langchain) (2.9.2)\n",
            "Requirement already satisfied: requests<3,>=2 in /usr/local/lib/python3.10/dist-packages (from langchain) (2.32.3)\n",
            "Requirement already satisfied: tenacity!=8.4.0,<10,>=8.1.0 in /usr/local/lib/python3.10/dist-packages (from langchain) (9.0.0)\n",
            "Collecting SQLAlchemy<3,>=1.4 (from langchain)\n",
            "  Downloading SQLAlchemy-2.0.35-cp310-cp310-manylinux_2_17_x86_64.manylinux2014_x86_64.whl.metadata (9.6 kB)\n",
            "Collecting dataclasses-json<0.7,>=0.5.7 (from langchain-community)\n",
            "  Downloading dataclasses_json-0.6.7-py3-none-any.whl.metadata (25 kB)\n",
            "Collecting httpx-sse<0.5.0,>=0.4.0 (from langchain-community)\n",
            "  Downloading httpx_sse-0.4.0-py3-none-any.whl.metadata (9.0 kB)\n",
            "Collecting langchain\n",
            "  Downloading langchain-0.3.9-py3-none-any.whl.metadata (7.1 kB)\n",
            "Collecting langchain-core<0.4.0,>=0.3.15 (from langchain)\n",
            "  Downloading langchain_core-0.3.21-py3-none-any.whl.metadata (6.3 kB)\n",
            "Collecting pydantic-settings<3.0.0,>=2.4.0 (from langchain-community)\n",
            "  Downloading pydantic_settings-2.6.1-py3-none-any.whl.metadata (3.5 kB)\n",
            "Requirement already satisfied: aiohappyeyeballs>=2.3.0 in /usr/local/lib/python3.10/dist-packages (from aiohttp<4.0.0,>=3.8.3->langchain) (2.4.3)\n",
            "Requirement already satisfied: aiosignal>=1.1.2 in /usr/local/lib/python3.10/dist-packages (from aiohttp<4.0.0,>=3.8.3->langchain) (1.3.1)\n",
            "Requirement already satisfied: attrs>=17.3.0 in /usr/local/lib/python3.10/dist-packages (from aiohttp<4.0.0,>=3.8.3->langchain) (24.2.0)\n",
            "Requirement already satisfied: frozenlist>=1.1.1 in /usr/local/lib/python3.10/dist-packages (from aiohttp<4.0.0,>=3.8.3->langchain) (1.5.0)\n",
            "Requirement already satisfied: multidict<7.0,>=4.5 in /usr/local/lib/python3.10/dist-packages (from aiohttp<4.0.0,>=3.8.3->langchain) (6.1.0)\n",
            "Requirement already satisfied: propcache>=0.2.0 in /usr/local/lib/python3.10/dist-packages (from aiohttp<4.0.0,>=3.8.3->langchain) (0.2.0)\n",
            "Requirement already satisfied: yarl<2.0,>=1.17.0 in /usr/local/lib/python3.10/dist-packages (from aiohttp<4.0.0,>=3.8.3->langchain) (1.17.2)\n",
            "Collecting marshmallow<4.0.0,>=3.18.0 (from dataclasses-json<0.7,>=0.5.7->langchain-community)\n",
            "  Downloading marshmallow-3.23.1-py3-none-any.whl.metadata (7.5 kB)\n",
            "Collecting typing-inspect<1,>=0.4.0 (from dataclasses-json<0.7,>=0.5.7->langchain-community)\n",
            "  Downloading typing_inspect-0.9.0-py3-none-any.whl.metadata (1.5 kB)\n",
            "Requirement already satisfied: jsonpatch<2.0,>=1.33 in /usr/local/lib/python3.10/dist-packages (from langchain-core<0.4.0,>=0.3.15->langchain) (1.33)\n",
            "Requirement already satisfied: packaging<25,>=23.2 in /usr/local/lib/python3.10/dist-packages (from langchain-core<0.4.0,>=0.3.15->langchain) (24.2)\n",
            "Requirement already satisfied: typing-extensions>=4.7 in /usr/local/lib/python3.10/dist-packages (from langchain-core<0.4.0,>=0.3.15->langchain) (4.12.2)\n",
            "Requirement already satisfied: httpx<1,>=0.23.0 in /usr/local/lib/python3.10/dist-packages (from langsmith<0.2.0,>=0.1.17->langchain) (0.27.2)\n",
            "Requirement already satisfied: orjson<4.0.0,>=3.9.14 in /usr/local/lib/python3.10/dist-packages (from langsmith<0.2.0,>=0.1.17->langchain) (3.10.11)\n",
            "Requirement already satisfied: requests-toolbelt<2.0.0,>=1.0.0 in /usr/local/lib/python3.10/dist-packages (from langsmith<0.2.0,>=0.1.17->langchain) (1.0.0)\n",
            "Requirement already satisfied: annotated-types>=0.6.0 in /usr/local/lib/python3.10/dist-packages (from pydantic<3.0.0,>=2.7.4->langchain) (0.7.0)\n",
            "Requirement already satisfied: pydantic-core==2.23.4 in /usr/local/lib/python3.10/dist-packages (from pydantic<3.0.0,>=2.7.4->langchain) (2.23.4)\n",
            "Collecting python-dotenv>=0.21.0 (from pydantic-settings<3.0.0,>=2.4.0->langchain-community)\n",
            "  Downloading python_dotenv-1.0.1-py3-none-any.whl.metadata (23 kB)\n",
            "Requirement already satisfied: charset-normalizer<4,>=2 in /usr/local/lib/python3.10/dist-packages (from requests<3,>=2->langchain) (3.4.0)\n",
            "Requirement already satisfied: idna<4,>=2.5 in /usr/local/lib/python3.10/dist-packages (from requests<3,>=2->langchain) (3.10)\n",
            "Requirement already satisfied: urllib3<3,>=1.21.1 in /usr/local/lib/python3.10/dist-packages (from requests<3,>=2->langchain) (2.2.3)\n",
            "Requirement already satisfied: certifi>=2017.4.17 in /usr/local/lib/python3.10/dist-packages (from requests<3,>=2->langchain) (2024.8.30)\n",
            "Requirement already satisfied: greenlet!=0.4.17 in /usr/local/lib/python3.10/dist-packages (from SQLAlchemy<3,>=1.4->langchain) (3.1.1)\n",
            "Requirement already satisfied: anyio in /usr/local/lib/python3.10/dist-packages (from httpx<1,>=0.23.0->langsmith<0.2.0,>=0.1.17->langchain) (3.7.1)\n",
            "Requirement already satisfied: httpcore==1.* in /usr/local/lib/python3.10/dist-packages (from httpx<1,>=0.23.0->langsmith<0.2.0,>=0.1.17->langchain) (1.0.7)\n",
            "Requirement already satisfied: sniffio in /usr/local/lib/python3.10/dist-packages (from httpx<1,>=0.23.0->langsmith<0.2.0,>=0.1.17->langchain) (1.3.1)\n",
            "Requirement already satisfied: h11<0.15,>=0.13 in /usr/local/lib/python3.10/dist-packages (from httpcore==1.*->httpx<1,>=0.23.0->langsmith<0.2.0,>=0.1.17->langchain) (0.14.0)\n",
            "Requirement already satisfied: jsonpointer>=1.9 in /usr/local/lib/python3.10/dist-packages (from jsonpatch<2.0,>=1.33->langchain-core<0.4.0,>=0.3.15->langchain) (3.0.0)\n",
            "Collecting mypy-extensions>=0.3.0 (from typing-inspect<1,>=0.4.0->dataclasses-json<0.7,>=0.5.7->langchain-community)\n",
            "  Downloading mypy_extensions-1.0.0-py3-none-any.whl.metadata (1.1 kB)\n",
            "Requirement already satisfied: exceptiongroup in /usr/local/lib/python3.10/dist-packages (from anyio->httpx<1,>=0.23.0->langsmith<0.2.0,>=0.1.17->langchain) (1.2.2)\n",
            "Downloading langchain_community-0.3.8-py3-none-any.whl (2.4 MB)\n",
            "\u001b[2K   \u001b[90m━━━━━━━━━━━━━━━━━━━━━━━━━━━━━━━━━━━━━━━━\u001b[0m \u001b[32m2.4/2.4 MB\u001b[0m \u001b[31m41.0 MB/s\u001b[0m eta \u001b[36m0:00:00\u001b[0m\n",
            "\u001b[?25hDownloading langchain-0.3.9-py3-none-any.whl (1.0 MB)\n",
            "\u001b[2K   \u001b[90m━━━━━━━━━━━━━━━━━━━━━━━━━━━━━━━━━━━━━━━━\u001b[0m \u001b[32m1.0/1.0 MB\u001b[0m \u001b[31m49.2 MB/s\u001b[0m eta \u001b[36m0:00:00\u001b[0m\n",
            "\u001b[?25hDownloading dataclasses_json-0.6.7-py3-none-any.whl (28 kB)\n",
            "Downloading httpx_sse-0.4.0-py3-none-any.whl (7.8 kB)\n",
            "Downloading langchain_core-0.3.21-py3-none-any.whl (409 kB)\n",
            "\u001b[2K   \u001b[90m━━━━━━━━━━━━━━━━━━━━━━━━━━━━━━━━━━━━━━━━\u001b[0m \u001b[32m409.5/409.5 kB\u001b[0m \u001b[31m27.0 MB/s\u001b[0m eta \u001b[36m0:00:00\u001b[0m\n",
            "\u001b[?25hDownloading pydantic_settings-2.6.1-py3-none-any.whl (28 kB)\n",
            "Downloading SQLAlchemy-2.0.35-cp310-cp310-manylinux_2_17_x86_64.manylinux2014_x86_64.whl (3.1 MB)\n",
            "\u001b[2K   \u001b[90m━━━━━━━━━━━━━━━━━━━━━━━━━━━━━━━━━━━━━━━━\u001b[0m \u001b[32m3.1/3.1 MB\u001b[0m \u001b[31m82.4 MB/s\u001b[0m eta \u001b[36m0:00:00\u001b[0m\n",
            "\u001b[?25hDownloading marshmallow-3.23.1-py3-none-any.whl (49 kB)\n",
            "\u001b[2K   \u001b[90m━━━━━━━━━━━━━━━━━━━━━━━━━━━━━━━━━━━━━━━━\u001b[0m \u001b[32m49.5/49.5 kB\u001b[0m \u001b[31m4.0 MB/s\u001b[0m eta \u001b[36m0:00:00\u001b[0m\n",
            "\u001b[?25hDownloading python_dotenv-1.0.1-py3-none-any.whl (19 kB)\n",
            "Downloading typing_inspect-0.9.0-py3-none-any.whl (8.8 kB)\n",
            "Downloading mypy_extensions-1.0.0-py3-none-any.whl (4.7 kB)\n",
            "Installing collected packages: SQLAlchemy, python-dotenv, mypy-extensions, marshmallow, httpx-sse, typing-inspect, pydantic-settings, dataclasses-json, langchain-core, langchain, langchain-community\n",
            "  Attempting uninstall: SQLAlchemy\n",
            "    Found existing installation: SQLAlchemy 2.0.36\n",
            "    Uninstalling SQLAlchemy-2.0.36:\n",
            "      Successfully uninstalled SQLAlchemy-2.0.36\n",
            "  Attempting uninstall: langchain-core\n",
            "    Found existing installation: langchain-core 0.3.19\n",
            "    Uninstalling langchain-core-0.3.19:\n",
            "      Successfully uninstalled langchain-core-0.3.19\n",
            "  Attempting uninstall: langchain\n",
            "    Found existing installation: langchain 0.3.7\n",
            "    Uninstalling langchain-0.3.7:\n",
            "      Successfully uninstalled langchain-0.3.7\n",
            "Successfully installed SQLAlchemy-2.0.35 dataclasses-json-0.6.7 httpx-sse-0.4.0 langchain-0.3.9 langchain-community-0.3.8 langchain-core-0.3.21 marshmallow-3.23.1 mypy-extensions-1.0.0 pydantic-settings-2.6.1 python-dotenv-1.0.1 typing-inspect-0.9.0\n",
            "Collecting langchain-openai\n",
            "  Downloading langchain_openai-0.2.10-py3-none-any.whl.metadata (2.6 kB)\n",
            "Requirement already satisfied: langchain-core<0.4.0,>=0.3.21 in /usr/local/lib/python3.10/dist-packages (from langchain-openai) (0.3.21)\n",
            "Requirement already satisfied: openai<2.0.0,>=1.54.0 in /usr/local/lib/python3.10/dist-packages (from langchain-openai) (1.54.4)\n",
            "Collecting tiktoken<1,>=0.7 (from langchain-openai)\n",
            "  Downloading tiktoken-0.8.0-cp310-cp310-manylinux_2_17_x86_64.manylinux2014_x86_64.whl.metadata (6.6 kB)\n",
            "Requirement already satisfied: PyYAML>=5.3 in /usr/local/lib/python3.10/dist-packages (from langchain-core<0.4.0,>=0.3.21->langchain-openai) (6.0.2)\n",
            "Requirement already satisfied: jsonpatch<2.0,>=1.33 in /usr/local/lib/python3.10/dist-packages (from langchain-core<0.4.0,>=0.3.21->langchain-openai) (1.33)\n",
            "Requirement already satisfied: langsmith<0.2.0,>=0.1.125 in /usr/local/lib/python3.10/dist-packages (from langchain-core<0.4.0,>=0.3.21->langchain-openai) (0.1.143)\n",
            "Requirement already satisfied: packaging<25,>=23.2 in /usr/local/lib/python3.10/dist-packages (from langchain-core<0.4.0,>=0.3.21->langchain-openai) (24.2)\n",
            "Requirement already satisfied: pydantic<3.0.0,>=2.5.2 in /usr/local/lib/python3.10/dist-packages (from langchain-core<0.4.0,>=0.3.21->langchain-openai) (2.9.2)\n",
            "Requirement already satisfied: tenacity!=8.4.0,<10.0.0,>=8.1.0 in /usr/local/lib/python3.10/dist-packages (from langchain-core<0.4.0,>=0.3.21->langchain-openai) (9.0.0)\n",
            "Requirement already satisfied: typing-extensions>=4.7 in /usr/local/lib/python3.10/dist-packages (from langchain-core<0.4.0,>=0.3.21->langchain-openai) (4.12.2)\n",
            "Requirement already satisfied: anyio<5,>=3.5.0 in /usr/local/lib/python3.10/dist-packages (from openai<2.0.0,>=1.54.0->langchain-openai) (3.7.1)\n",
            "Requirement already satisfied: distro<2,>=1.7.0 in /usr/local/lib/python3.10/dist-packages (from openai<2.0.0,>=1.54.0->langchain-openai) (1.9.0)\n",
            "Requirement already satisfied: httpx<1,>=0.23.0 in /usr/local/lib/python3.10/dist-packages (from openai<2.0.0,>=1.54.0->langchain-openai) (0.27.2)\n",
            "Requirement already satisfied: jiter<1,>=0.4.0 in /usr/local/lib/python3.10/dist-packages (from openai<2.0.0,>=1.54.0->langchain-openai) (0.7.1)\n",
            "Requirement already satisfied: sniffio in /usr/local/lib/python3.10/dist-packages (from openai<2.0.0,>=1.54.0->langchain-openai) (1.3.1)\n",
            "Requirement already satisfied: tqdm>4 in /usr/local/lib/python3.10/dist-packages (from openai<2.0.0,>=1.54.0->langchain-openai) (4.66.6)\n",
            "Requirement already satisfied: regex>=2022.1.18 in /usr/local/lib/python3.10/dist-packages (from tiktoken<1,>=0.7->langchain-openai) (2024.9.11)\n",
            "Requirement already satisfied: requests>=2.26.0 in /usr/local/lib/python3.10/dist-packages (from tiktoken<1,>=0.7->langchain-openai) (2.32.3)\n",
            "Requirement already satisfied: idna>=2.8 in /usr/local/lib/python3.10/dist-packages (from anyio<5,>=3.5.0->openai<2.0.0,>=1.54.0->langchain-openai) (3.10)\n",
            "Requirement already satisfied: exceptiongroup in /usr/local/lib/python3.10/dist-packages (from anyio<5,>=3.5.0->openai<2.0.0,>=1.54.0->langchain-openai) (1.2.2)\n",
            "Requirement already satisfied: certifi in /usr/local/lib/python3.10/dist-packages (from httpx<1,>=0.23.0->openai<2.0.0,>=1.54.0->langchain-openai) (2024.8.30)\n",
            "Requirement already satisfied: httpcore==1.* in /usr/local/lib/python3.10/dist-packages (from httpx<1,>=0.23.0->openai<2.0.0,>=1.54.0->langchain-openai) (1.0.7)\n",
            "Requirement already satisfied: h11<0.15,>=0.13 in /usr/local/lib/python3.10/dist-packages (from httpcore==1.*->httpx<1,>=0.23.0->openai<2.0.0,>=1.54.0->langchain-openai) (0.14.0)\n",
            "Requirement already satisfied: jsonpointer>=1.9 in /usr/local/lib/python3.10/dist-packages (from jsonpatch<2.0,>=1.33->langchain-core<0.4.0,>=0.3.21->langchain-openai) (3.0.0)\n",
            "Requirement already satisfied: orjson<4.0.0,>=3.9.14 in /usr/local/lib/python3.10/dist-packages (from langsmith<0.2.0,>=0.1.125->langchain-core<0.4.0,>=0.3.21->langchain-openai) (3.10.11)\n",
            "Requirement already satisfied: requests-toolbelt<2.0.0,>=1.0.0 in /usr/local/lib/python3.10/dist-packages (from langsmith<0.2.0,>=0.1.125->langchain-core<0.4.0,>=0.3.21->langchain-openai) (1.0.0)\n",
            "Requirement already satisfied: annotated-types>=0.6.0 in /usr/local/lib/python3.10/dist-packages (from pydantic<3.0.0,>=2.5.2->langchain-core<0.4.0,>=0.3.21->langchain-openai) (0.7.0)\n",
            "Requirement already satisfied: pydantic-core==2.23.4 in /usr/local/lib/python3.10/dist-packages (from pydantic<3.0.0,>=2.5.2->langchain-core<0.4.0,>=0.3.21->langchain-openai) (2.23.4)\n",
            "Requirement already satisfied: charset-normalizer<4,>=2 in /usr/local/lib/python3.10/dist-packages (from requests>=2.26.0->tiktoken<1,>=0.7->langchain-openai) (3.4.0)\n",
            "Requirement already satisfied: urllib3<3,>=1.21.1 in /usr/local/lib/python3.10/dist-packages (from requests>=2.26.0->tiktoken<1,>=0.7->langchain-openai) (2.2.3)\n",
            "Downloading langchain_openai-0.2.10-py3-none-any.whl (50 kB)\n",
            "\u001b[2K   \u001b[90m━━━━━━━━━━━━━━━━━━━━━━━━━━━━━━━━━━━━━━━━\u001b[0m \u001b[32m50.6/50.6 kB\u001b[0m \u001b[31m2.7 MB/s\u001b[0m eta \u001b[36m0:00:00\u001b[0m\n",
            "\u001b[?25hDownloading tiktoken-0.8.0-cp310-cp310-manylinux_2_17_x86_64.manylinux2014_x86_64.whl (1.2 MB)\n",
            "\u001b[2K   \u001b[90m━━━━━━━━━━━━━━━━━━━━━━━━━━━━━━━━━━━━━━━━\u001b[0m \u001b[32m1.2/1.2 MB\u001b[0m \u001b[31m26.9 MB/s\u001b[0m eta \u001b[36m0:00:00\u001b[0m\n",
            "\u001b[?25hInstalling collected packages: tiktoken, langchain-openai\n",
            "Successfully installed langchain-openai-0.2.10 tiktoken-0.8.0\n",
            "Requirement already satisfied: langchain-core in /usr/local/lib/python3.10/dist-packages (0.3.21)\n",
            "Requirement already satisfied: PyYAML>=5.3 in /usr/local/lib/python3.10/dist-packages (from langchain-core) (6.0.2)\n",
            "Requirement already satisfied: jsonpatch<2.0,>=1.33 in /usr/local/lib/python3.10/dist-packages (from langchain-core) (1.33)\n",
            "Requirement already satisfied: langsmith<0.2.0,>=0.1.125 in /usr/local/lib/python3.10/dist-packages (from langchain-core) (0.1.143)\n",
            "Requirement already satisfied: packaging<25,>=23.2 in /usr/local/lib/python3.10/dist-packages (from langchain-core) (24.2)\n",
            "Requirement already satisfied: pydantic<3.0.0,>=2.5.2 in /usr/local/lib/python3.10/dist-packages (from langchain-core) (2.9.2)\n",
            "Requirement already satisfied: tenacity!=8.4.0,<10.0.0,>=8.1.0 in /usr/local/lib/python3.10/dist-packages (from langchain-core) (9.0.0)\n",
            "Requirement already satisfied: typing-extensions>=4.7 in /usr/local/lib/python3.10/dist-packages (from langchain-core) (4.12.2)\n",
            "Requirement already satisfied: jsonpointer>=1.9 in /usr/local/lib/python3.10/dist-packages (from jsonpatch<2.0,>=1.33->langchain-core) (3.0.0)\n",
            "Requirement already satisfied: httpx<1,>=0.23.0 in /usr/local/lib/python3.10/dist-packages (from langsmith<0.2.0,>=0.1.125->langchain-core) (0.27.2)\n",
            "Requirement already satisfied: orjson<4.0.0,>=3.9.14 in /usr/local/lib/python3.10/dist-packages (from langsmith<0.2.0,>=0.1.125->langchain-core) (3.10.11)\n",
            "Requirement already satisfied: requests<3,>=2 in /usr/local/lib/python3.10/dist-packages (from langsmith<0.2.0,>=0.1.125->langchain-core) (2.32.3)\n",
            "Requirement already satisfied: requests-toolbelt<2.0.0,>=1.0.0 in /usr/local/lib/python3.10/dist-packages (from langsmith<0.2.0,>=0.1.125->langchain-core) (1.0.0)\n",
            "Requirement already satisfied: annotated-types>=0.6.0 in /usr/local/lib/python3.10/dist-packages (from pydantic<3.0.0,>=2.5.2->langchain-core) (0.7.0)\n",
            "Requirement already satisfied: pydantic-core==2.23.4 in /usr/local/lib/python3.10/dist-packages (from pydantic<3.0.0,>=2.5.2->langchain-core) (2.23.4)\n",
            "Requirement already satisfied: anyio in /usr/local/lib/python3.10/dist-packages (from httpx<1,>=0.23.0->langsmith<0.2.0,>=0.1.125->langchain-core) (3.7.1)\n",
            "Requirement already satisfied: certifi in /usr/local/lib/python3.10/dist-packages (from httpx<1,>=0.23.0->langsmith<0.2.0,>=0.1.125->langchain-core) (2024.8.30)\n",
            "Requirement already satisfied: httpcore==1.* in /usr/local/lib/python3.10/dist-packages (from httpx<1,>=0.23.0->langsmith<0.2.0,>=0.1.125->langchain-core) (1.0.7)\n",
            "Requirement already satisfied: idna in /usr/local/lib/python3.10/dist-packages (from httpx<1,>=0.23.0->langsmith<0.2.0,>=0.1.125->langchain-core) (3.10)\n",
            "Requirement already satisfied: sniffio in /usr/local/lib/python3.10/dist-packages (from httpx<1,>=0.23.0->langsmith<0.2.0,>=0.1.125->langchain-core) (1.3.1)\n",
            "Requirement already satisfied: h11<0.15,>=0.13 in /usr/local/lib/python3.10/dist-packages (from httpcore==1.*->httpx<1,>=0.23.0->langsmith<0.2.0,>=0.1.125->langchain-core) (0.14.0)\n",
            "Requirement already satisfied: charset-normalizer<4,>=2 in /usr/local/lib/python3.10/dist-packages (from requests<3,>=2->langsmith<0.2.0,>=0.1.125->langchain-core) (3.4.0)\n",
            "Requirement already satisfied: urllib3<3,>=1.21.1 in /usr/local/lib/python3.10/dist-packages (from requests<3,>=2->langsmith<0.2.0,>=0.1.125->langchain-core) (2.2.3)\n",
            "Requirement already satisfied: exceptiongroup in /usr/local/lib/python3.10/dist-packages (from anyio->httpx<1,>=0.23.0->langsmith<0.2.0,>=0.1.125->langchain-core) (1.2.2)\n"
          ]
        }
      ],
      "source": [
        "!pip install openai\n",
        "!pip install langchain langchain-community\n",
        "!pip install langchain-openai\n",
        "!pip install langchain-core"
      ]
    },
    {
      "cell_type": "code",
      "source": [
        "from google.colab import userdata\n",
        "import os"
      ],
      "metadata": {
        "id": "0donVcMuPEOc"
      },
      "execution_count": 2,
      "outputs": []
    },
    {
      "cell_type": "code",
      "source": [
        "import openai\n",
        "from langchain.prompts import PromptTemplate\n",
        "from langchain_openai import ChatOpenAI"
      ],
      "metadata": {
        "id": "K_8I1VNRPVkD"
      },
      "execution_count": 3,
      "outputs": []
    },
    {
      "cell_type": "code",
      "source": [
        "llm = ChatOpenAI(model_name=\"gpt-4o-mini\", temperature=0, api_key = userdata.get('open_ai'))"
      ],
      "metadata": {
        "id": "UiiMGoF1PLTp"
      },
      "execution_count": 4,
      "outputs": []
    },
    {
      "cell_type": "code",
      "source": [
        "messages = [\n",
        "    (\"human\", \"Hello\"),\n",
        "]\n",
        "ai_msg = llm.invoke(messages)\n",
        "ai_msg"
      ],
      "metadata": {
        "colab": {
          "base_uri": "https://localhost:8080/"
        },
        "id": "vezkhaGoQq3T",
        "outputId": "6c9648d9-15ed-470d-f1a4-29d2c597aaee"
      },
      "execution_count": null,
      "outputs": [
        {
          "output_type": "execute_result",
          "data": {
            "text/plain": [
              "AIMessage(content='Hello! How can I assist you today?', additional_kwargs={'refusal': None}, response_metadata={'token_usage': {'completion_tokens': 9, 'prompt_tokens': 8, 'total_tokens': 17, 'completion_tokens_details': {'accepted_prediction_tokens': 0, 'audio_tokens': 0, 'reasoning_tokens': 0, 'rejected_prediction_tokens': 0}, 'prompt_tokens_details': {'audio_tokens': 0, 'cached_tokens': 0}}, 'model_name': 'gpt-4o-mini-2024-07-18', 'system_fingerprint': 'fp_0705bf87c0', 'finish_reason': 'stop', 'logprobs': None}, id='run-f585ea1a-6f23-4e8e-98b1-a14dbde1b75f-0', usage_metadata={'input_tokens': 8, 'output_tokens': 9, 'total_tokens': 17, 'input_token_details': {'audio': 0, 'cache_read': 0}, 'output_token_details': {'audio': 0, 'reasoning': 0}})"
            ]
          },
          "metadata": {},
          "execution_count": 18
        }
      ]
    },
    {
      "cell_type": "code",
      "source": [
        "ai_msg.content"
      ],
      "metadata": {
        "colab": {
          "base_uri": "https://localhost:8080/",
          "height": 35
        },
        "id": "DJ6yYnnISbp4",
        "outputId": "d1fc31da-e93c-420f-ec13-0d9711608b5c"
      },
      "execution_count": null,
      "outputs": [
        {
          "output_type": "execute_result",
          "data": {
            "text/plain": [
              "'Hello! How can I assist you today?'"
            ],
            "application/vnd.google.colaboratory.intrinsic+json": {
              "type": "string"
            }
          },
          "metadata": {},
          "execution_count": 19
        }
      ]
    },
    {
      "cell_type": "code",
      "source": [
        "def talk(llm,msg):\n",
        "  messages.append((\"human\", msg))\n",
        "  ai_msg = llm.invoke(messages)\n",
        "  messages.append((\"ai\", ai_msg.content))\n",
        "  return ai_msg.content"
      ],
      "metadata": {
        "id": "dZA3iCRsTR2O"
      },
      "execution_count": 5,
      "outputs": []
    },
    {
      "cell_type": "markdown",
      "source": [
        "## In Context Learning (ICL)\n",
        "\n",
        "ICL involves giving GPT examples within the prompt to allow it to learn on the fly."
      ],
      "metadata": {
        "id": "_dYoRbHwSk0e"
      }
    },
    {
      "cell_type": "code",
      "source": [
        "#without ICL, showing limitation\n",
        "prompt = \"Who won the 2022 World Cup?\"\n",
        "response = talk(llm,prompt)\n",
        "print(response)\n"
      ],
      "metadata": {
        "colab": {
          "base_uri": "https://localhost:8080/"
        },
        "id": "sb7AKU7xSg0V",
        "outputId": "1fce7ae9-e5c6-45c0-90b4-4737536a7b9b"
      },
      "execution_count": null,
      "outputs": [
        {
          "output_type": "stream",
          "name": "stdout",
          "text": [
            "Argentina won the 2022 FIFA World Cup. They defeated France in the final, which took place on December 18, 2022, in Qatar. The match ended in a dramatic 3-3 draw after extra time, and Argentina triumphed 4-2 in the penalty shootout. This victory marked Argentina's third World Cup title, with their previous wins in 1978 and 1986.\n"
          ]
        }
      ]
    },
    {
      "cell_type": "markdown",
      "source": [
        "The default prompt gives us too much information and it is no in the form that we want.\n",
        "\n",
        "So we use incontext learning to teach the LLM on what information do we need and how exactly we need it."
      ],
      "metadata": {
        "id": "gRi291f7Vtwr"
      }
    },
    {
      "cell_type": "code",
      "source": [
        "#using ICL to address the limitation\n",
        "prompt='''Answer the question using the format\n",
        "shown in the context.\n",
        "Question: Who won the World Cup in 2014?\n",
        "Answer: Germany won the 2014 FIFA World Cup. They defeated Argentina in the final, leadin 1 goal to 0.\n",
        "\n",
        "\n",
        "Who won the world cup in 2022?'''\n",
        "response = talk(llm,prompt)\n",
        "print(response)"
      ],
      "metadata": {
        "colab": {
          "base_uri": "https://localhost:8080/"
        },
        "id": "ZNQUBFIHTFdx",
        "outputId": "ed7adf65-800e-4ce0-ab01-2bd808a8c901"
      },
      "execution_count": null,
      "outputs": [
        {
          "output_type": "stream",
          "name": "stdout",
          "text": [
            "Question: Who won the World Cup in 2022?  \n",
            "Answer: Argentina won the 2022 FIFA World Cup. They defeated France in the final, leading 3 goals to 2 after a penalty shootout.\n"
          ]
        }
      ]
    },
    {
      "cell_type": "markdown",
      "source": [
        "## Chain of Thought\n",
        "\n",
        "Chain-of-Thought (CoT) Prompting is a technique that enhances the reasoning capabilities of large language models (LLMs) by incorporating logical steps—or a “chain of thought”—within the prompt."
      ],
      "metadata": {
        "id": "jvAw-xfHpHhz"
      }
    },
    {
      "cell_type": "code",
      "source": [
        "llm = ChatOpenAI(model_name=\"gpt-3.5-turbo\", temperature=0, api_key = userdata.get('open_ai'))"
      ],
      "metadata": {
        "id": "5bWsIXcipnAW"
      },
      "execution_count": null,
      "outputs": []
    },
    {
      "cell_type": "markdown",
      "source": [
        "Suppose you have a receipe for making coffee, in spanish, and you want to know all the coffee related words in the receiped in English."
      ],
      "metadata": {
        "id": "q5lyH6Hnu9We"
      }
    },
    {
      "cell_type": "code",
      "source": [
        "#failure case\n",
        "input_text = \"\"\"\n",
        "¡Preparar café Cold Brew es un proceso sencillo y refrescante!\n",
        "Todo lo que necesitas son granos de café molido grueso y agua fría.\n",
        "Comienza añadiendo el café molido a un recipiente o jarra grande.\n",
        "Luego, vierte agua fría, asegurándote de que todos los granos de café\n",
        "estén completamente sumergidos.\n",
        "Remueve la mezcla suavemente para garantizar una saturación uniforme.\n",
        "Cubre el recipiente y déjalo en remojo en el refrigerador durante al\n",
        "menos 12 a 24 horas, dependiendo de la fuerza deseada.\n",
        "\"\"\"\n",
        "prompt = f\"\"\"\n",
        "Give me a numbered list of all coffee-related words in English from the text below:\n",
        "Text: <{input_text}>\n",
        "\"\"\"\n",
        "response = talk(llm,prompt)\n",
        "print(response)"
      ],
      "metadata": {
        "colab": {
          "base_uri": "https://localhost:8080/"
        },
        "id": "_U7GcTUSqyWu",
        "outputId": "78d2221d-974a-4fcd-ed8e-4d38b0bc2871"
      },
      "execution_count": null,
      "outputs": [
        {
          "output_type": "stream",
          "name": "stdout",
          "text": [
            "1. café\n",
            "2. Cold Brew\n",
            "3. granos de café\n",
            "4. café molido\n",
            "5. agua fría\n",
            "6. recipiente\n",
            "7. jarra\n",
            "8. agua fría\n",
            "9. granos de café\n",
            "10. mezcla\n",
            "11. saturación\n",
            "12. refrigerador\n",
            "13. fuerza\n"
          ]
        }
      ]
    },
    {
      "cell_type": "markdown",
      "source": [
        "we can see that although we got a list of all coffee related words, they are still in spanish."
      ],
      "metadata": {
        "id": "u-sY0awmt_7a"
      }
    },
    {
      "cell_type": "code",
      "source": [
        "#overcoming limitation\n",
        "prompt = f\"\"\"\n",
        "Give me a numbered list of all coffee-related words in English from the text below:\n",
        "The task requires the following actions:\n",
        "1 - Translate the given text into English.\n",
        "2 - List each coffee-related word from the English text.\n",
        "Text: <{input_text}>\n",
        "\"\"\"\n",
        "response = talk(llm,prompt)\n",
        "print(response)"
      ],
      "metadata": {
        "colab": {
          "base_uri": "https://localhost:8080/"
        },
        "id": "zj25ib3zsJdt",
        "outputId": "d7e3da0b-30be-4634-c646-a5336eff7032"
      },
      "execution_count": null,
      "outputs": [
        {
          "output_type": "stream",
          "name": "stdout",
          "text": [
            "1. coffee\n",
            "2. Cold Brew\n",
            "3. coffee beans\n",
            "4. ground coffee\n",
            "5. cold water\n",
            "6. container\n",
            "7. jar\n",
            "8. water\n",
            "9. coffee beans\n",
            "10. mixture\n",
            "11. saturation\n",
            "12. refrigerator\n",
            "13. strength\n"
          ]
        }
      ]
    },
    {
      "cell_type": "markdown",
      "source": [
        "By telling the model exactly the steps in needs to performs, allows us to get the current answer."
      ],
      "metadata": {
        "id": "xcnN0GEPvg9q"
      }
    },
    {
      "cell_type": "markdown",
      "source": [
        "## iCOT\n",
        "\n",
        "We can impove the on CoT prompting, by using iterative CoT."
      ],
      "metadata": {
        "id": "flcC3mt40dbN"
      }
    },
    {
      "cell_type": "code",
      "source": [
        "prompt = f\"\"\"\n",
        "Give me a numbered list of all coffee-related words in English from the text below:\n",
        "Text: <{input_text}>\n",
        "Lets think step by step.\n",
        "First I want you to find all the steps required for solving the problem.\n",
        "\"\"\"\n",
        "first_response = talk(llm,prompt)\n",
        "print('Printing the first Prompt')\n",
        "print(first_response)\n",
        "\n",
        "prompt += f\"\\n{first_response}\\n Run and the steps you identified and give the answer\"\n",
        "\n",
        "second_response = talk(llm,prompt)\n",
        "print('Printig the second Prompt')\n",
        "print(second_response)\n",
        "\n"
      ],
      "metadata": {
        "colab": {
          "base_uri": "https://localhost:8080/"
        },
        "id": "Y-fUKTmI0fbo",
        "outputId": "24e82aa9-5bf5-4f25-f123-c533324932f5"
      },
      "execution_count": null,
      "outputs": [
        {
          "output_type": "stream",
          "name": "stdout",
          "text": [
            "Printing the first Prompt\n",
            "1. Translate the text into English.\n",
            "2. Identify all coffee-related words in the English text.\n",
            "3. List the coffee-related words in English.\n",
            "Printig the second Prompt\n",
            "1. Translate the text into English:\n",
            "Prepare Cold Brew coffee is a simple and refreshing process! All you need are coarse ground coffee beans and cold water. Start by adding the ground coffee to a large container or jar. Then, pour cold water, making sure all the coffee beans are completely submerged. Gently stir the mixture to ensure even saturation. Cover the container and let it soak in the refrigerator for at least 12 to 24 hours, depending on the desired strength.\n",
            "\n",
            "2. Identify all coffee-related words in the English text:\n",
            "- coffee\n",
            "- Cold Brew\n",
            "- ground coffee beans\n",
            "- ground coffee\n",
            "- coffee beans\n",
            "- saturation\n",
            "\n",
            "3. List the coffee-related words in English:\n",
            "1. coffee\n",
            "2. Cold Brew\n",
            "3. ground coffee beans\n",
            "4. ground coffee\n",
            "5. coffee beans\n",
            "6. saturation\n",
            "\n",
            "These are the coffee-related words found in the text.\n"
          ]
        }
      ]
    },
    {
      "cell_type": "markdown",
      "source": [
        "Using iCOT we got more preciese words that are directly relaed to coffee."
      ],
      "metadata": {
        "id": "-z-oMtow2oil"
      }
    },
    {
      "cell_type": "markdown",
      "source": [
        "## Tree of Thought (TOT\n",
        "\n",
        "In the ToT (Tree of Thoughts) approach, LLMs evaluate themselves at each stage of thought and stop inefficient approaches early, switching to alternative methods.)"
      ],
      "metadata": {
        "id": "rcmIPynk20PK"
      }
    },
    {
      "cell_type": "code",
      "source": [
        "from langchain.chains import LLMChain"
      ],
      "metadata": {
        "id": "ILKEnGBe0fYZ"
      },
      "execution_count": null,
      "outputs": []
    },
    {
      "cell_type": "code",
      "source": [
        "api_key = userdata.get('open_ai')"
      ],
      "metadata": {
        "id": "H8t5BHHZ4NC8"
      },
      "execution_count": null,
      "outputs": []
    },
    {
      "cell_type": "code",
      "source": [
        "template =\"\"\"\n",
        "Step1 :\n",
        "\n",
        "I have a problem related to {input}. Could you brainstorm three distinct solutions? Please consider a variety of factors such as {perfect_factors}\n",
        "A:\n",
        "\"\"\"\n",
        "\n",
        "prompt = PromptTemplate(\n",
        "    input_variables=[\"input\",\"perfect_factors\"],\n",
        "    template = template\n",
        ")\n",
        "\n",
        "chain1 = LLMChain(\n",
        "    llm=ChatOpenAI(temperature=0, api_key=api_key ,model=\"gpt-3.5-turbo\"),\n",
        "    prompt=prompt,\n",
        "    output_key=\"solutions\"\n",
        ")\n",
        "template =\"\"\"\n",
        "Step 2:\n",
        "\n",
        "For each of the three proposed solutions, evaluate their potential. Consider their pros and cons, initial effort needed, implementation difficulty, potential challenges, and the expected outcomes. Assign a probability of success and a confidence level to each option based on these factors\n",
        "\n",
        "{solutions}\n",
        "\n",
        "A:\"\"\"\n",
        "\n",
        "prompt = PromptTemplate(\n",
        "    input_variables=[\"solutions\"],\n",
        "    template = template\n",
        ")\n",
        "\n",
        "chain2 = LLMChain(\n",
        "    llm=ChatOpenAI(temperature=0, api_key=api_key, model=\"gpt-3.5-turbo\"),\n",
        "    prompt=prompt,\n",
        "    output_key=\"review\"\n",
        ")\n",
        "\n",
        "template =\"\"\"\n",
        "Step 3:\n",
        "\n",
        "For each solution, deepen the thought process. Generate potential scenarios, strategies for implementation, any necessary partnerships or resources, and how potential obstacles might be overcome. Also, consider any potential unexpected outcomes and how they might be handled.\n",
        "\n",
        "{review}\n",
        "\n",
        "A:\"\"\"\n",
        "\n",
        "prompt = PromptTemplate(\n",
        "    input_variables=[\"review\"],\n",
        "    template = template\n",
        ")\n",
        "\n",
        "chain3 = LLMChain(\n",
        "    llm=ChatOpenAI(temperature=0, api_key=api_key, model=\"gpt-3.5-turbo\"),\n",
        "    prompt=prompt,\n",
        "    output_key=\"deepen_thought_process\"\n",
        ")\n",
        "\n",
        "template =\"\"\"\n",
        "Step 4:\n",
        "\n",
        "Based on the evaluations and scenarios, rank the solutions in order of promise. Provide a justification for each ranking and offer any final thoughts or considerations for each solution\n",
        "{deepen_thought_process}\n",
        "\n",
        "A:\"\"\"\n",
        "\n",
        "prompt = PromptTemplate(\n",
        "    input_variables=[\"deepen_thought_process\"],\n",
        "    template = template\n",
        ")\n",
        "\n",
        "chain4 = LLMChain(\n",
        "    llm=ChatOpenAI(temperature=0, api_key=api_key, model=\"gpt-3.5-turbo\"),\n",
        "    prompt=prompt,\n",
        "    output_key=\"ranked_solutions\"\n",
        ")"
      ],
      "metadata": {
        "colab": {
          "base_uri": "https://localhost:8080/"
        },
        "id": "flb7_Bjl0fVL",
        "outputId": "0ae4b5d2-86f4-4e5b-ca67-879a5aa6eb23"
      },
      "execution_count": null,
      "outputs": [
        {
          "output_type": "stream",
          "name": "stderr",
          "text": [
            "<ipython-input-61-84277b572043>:13: LangChainDeprecationWarning: The class `LLMChain` was deprecated in LangChain 0.1.17 and will be removed in 1.0. Use :meth:`~RunnableSequence, e.g., `prompt | llm`` instead.\n",
            "  chain1 = LLMChain(\n"
          ]
        }
      ]
    },
    {
      "cell_type": "code",
      "source": [
        "from langchain.chains import SequentialChain\n",
        "\n",
        "overall_chain = SequentialChain(\n",
        "    chains=[chain1, chain2, chain3, chain4],\n",
        "    input_variables=[\"input\", \"perfect_factors\"],\n",
        "    output_variables=[\"ranked_solutions\"],\n",
        "    verbose=True\n",
        ")\n",
        "\n",
        "response=overall_chain({\"input\":\"human colonization of Mars\", \"perfect_factors\":\"The distance between Earth and Mars is very large, making regular resupply difficult\"})"
      ],
      "metadata": {
        "colab": {
          "base_uri": "https://localhost:8080/"
        },
        "id": "-v3qkbVd4Kt3",
        "outputId": "06c8dc2b-756f-4ea4-a0ab-635e4558aa0a"
      },
      "execution_count": null,
      "outputs": [
        {
          "output_type": "stream",
          "name": "stdout",
          "text": [
            "\n",
            "\n",
            "\u001b[1m> Entering new SequentialChain chain...\u001b[0m\n",
            "\n",
            "\u001b[1m> Finished chain.\u001b[0m\n"
          ]
        }
      ]
    },
    {
      "cell_type": "code",
      "source": [
        "print(response)"
      ],
      "metadata": {
        "colab": {
          "base_uri": "https://localhost:8080/"
        },
        "id": "sKuCg6Z_4jrg",
        "outputId": "9e711dd6-05d7-428f-c1ac-98be1e6299f6"
      },
      "execution_count": null,
      "outputs": [
        {
          "output_type": "stream",
          "name": "stdout",
          "text": [
            "{'input': 'human colonization of Mars', 'perfect_factors': 'The distance between Earth and Mars is very large, making regular resupply difficult', 'ranked_solutions': 'Based on the evaluations and scenarios provided, the ranking of the solutions in order of promise would be as follows:\\n\\n1. Develop sustainable habitats on Mars:\\n- Justification: This solution offers the potential for long-term human habitation on Mars, addressing the fundamental need for shelter and sustainability. By partnering with private space companies and international space agencies, as well as leveraging expertise in habitat development, this solution has the potential to create a viable living environment on Mars.\\n- Final thoughts: Overcoming the obstacles of creating self-sufficient ecosystems and securing funding will be challenging, but the long-term benefits of establishing sustainable habitats on Mars make this solution highly promising.\\n\\n2. Regular cargo missions to Mars:\\n- Justification: This solution addresses the critical need for ongoing supplies and resources on Mars, ensuring the sustainability of human presence on the planet. By partnering with commercial space companies and international space agencies, this solution can provide a reliable and cost-effective transportation system for essential cargo.\\n- Final thoughts: Managing the logistics of frequent resupply missions and securing funding for ongoing missions will be key challenges, but the practicality and necessity of regular cargo missions make this solution a promising option.\\n\\n3. Resource recycling and reuse on Mars:\\n- Justification: This solution focuses on maximizing the efficiency of resource utilization on Mars, reducing waste and promoting sustainability. By partnering with companies specializing in recycling technology and research institutions, this solution can help create a closed-loop system for resource management on the planet.\\n- Final thoughts: Developing efficient recycling systems and ensuring the safety of recycled resources will be significant obstacles to overcome. However, the potential benefits of resource recycling and reuse make this solution a valuable component of a comprehensive Mars colonization strategy.'}\n"
          ]
        }
      ]
    },
    {
      "cell_type": "code",
      "source": [
        "response"
      ],
      "metadata": {
        "colab": {
          "base_uri": "https://localhost:8080/"
        },
        "id": "f3Y3n3e94wQI",
        "outputId": "f9f7a9ed-ef12-4a3e-9ca8-cae9b07b7e05"
      },
      "execution_count": null,
      "outputs": [
        {
          "output_type": "execute_result",
          "data": {
            "text/plain": [
              "{'input': 'human colonization of Mars',\n",
              " 'perfect_factors': 'The distance between Earth and Mars is very large, making regular resupply difficult',\n",
              " 'ranked_solutions': 'Based on the evaluations and scenarios provided, the ranking of the solutions in order of promise would be as follows:\\n\\n1. Develop sustainable habitats on Mars:\\n- Justification: This solution offers the potential for long-term human habitation on Mars, addressing the fundamental need for shelter and sustainability. By partnering with private space companies and international space agencies, as well as leveraging expertise in habitat development, this solution has the potential to create a viable living environment on Mars.\\n- Final thoughts: Overcoming the obstacles of creating self-sufficient ecosystems and securing funding will be challenging, but the long-term benefits of establishing sustainable habitats on Mars make this solution highly promising.\\n\\n2. Regular cargo missions to Mars:\\n- Justification: This solution addresses the critical need for ongoing supplies and resources on Mars, ensuring the sustainability of human presence on the planet. By partnering with commercial space companies and international space agencies, this solution can provide a reliable and cost-effective transportation system for essential cargo.\\n- Final thoughts: Managing the logistics of frequent resupply missions and securing funding for ongoing missions will be key challenges, but the practicality and necessity of regular cargo missions make this solution a promising option.\\n\\n3. Resource recycling and reuse on Mars:\\n- Justification: This solution focuses on maximizing the efficiency of resource utilization on Mars, reducing waste and promoting sustainability. By partnering with companies specializing in recycling technology and research institutions, this solution can help create a closed-loop system for resource management on the planet.\\n- Final thoughts: Developing efficient recycling systems and ensuring the safety of recycled resources will be significant obstacles to overcome. However, the potential benefits of resource recycling and reuse make this solution a valuable component of a comprehensive Mars colonization strategy.'}"
            ]
          },
          "metadata": {},
          "execution_count": 67
        }
      ]
    },
    {
      "cell_type": "markdown",
      "source": [
        "## Algorithm Of Thoughts (AOT)"
      ],
      "metadata": {
        "id": "yLdUc-Tj3aBl"
      }
    },
    {
      "cell_type": "code",
      "source": [
        "#without out\n",
        "prompt = \"Data centers are increasingly crucial for supporting global digital infrastructure but also contribute significantly to energy consumption. What are the environmental implications of this increased data center usage?\"\n",
        "response = llm.invoke(prompt)\n",
        "print(response.content)"
      ],
      "metadata": {
        "colab": {
          "base_uri": "https://localhost:8080/"
        },
        "id": "lgy4XNWw48LQ",
        "outputId": "635e7327-a1c5-4c2a-b6b6-3f1553d1084e"
      },
      "execution_count": 12,
      "outputs": [
        {
          "output_type": "stream",
          "name": "stdout",
          "text": [
            "The increasing reliance on data centers to support global digital infrastructure has several environmental implications, primarily related to energy consumption, resource use, and waste generation. Here are some key points to consider:\n",
            "\n",
            "1. **Energy Consumption**: Data centers consume a substantial amount of electricity, often accounting for a significant portion of a region's total energy use. This high demand can lead to increased greenhouse gas emissions, especially if the energy is sourced from fossil fuels. The growth of cloud computing and digital services is expected to further escalate energy consumption.\n",
            "\n",
            "2. **Carbon Footprint**: The carbon footprint of data centers is a major concern. As more data centers are built and existing ones are expanded, their collective carbon emissions can contribute to climate change. Efforts to transition to renewable energy sources are critical to mitigating this impact, but the pace of adoption varies widely.\n",
            "\n",
            "3. **Cooling Requirements**: Data centers generate a lot of heat, necessitating extensive cooling systems to maintain optimal operating conditions. These cooling systems often consume significant amounts of energy, further exacerbating the environmental impact. Innovative cooling technologies, such as liquid cooling or using ambient air, are being explored to reduce energy use.\n",
            "\n",
            "4. **Water Usage**: Many cooling systems rely on water, leading to increased water consumption and potential strain on local water resources. In regions facing water scarcity, this can create additional environmental challenges.\n",
            "\n",
            "5. **E-Waste**: The rapid pace of technological advancement leads to frequent upgrades and replacements of hardware in data centers. This generates electronic waste (e-waste), which can be hazardous if not properly managed. E-waste contains toxic materials that can leach into the environment if disposed of improperly.\n",
            "\n",
            "6. **Land Use and Habitat Disruption**: The construction of new data centers can lead to land use changes, including deforestation and habitat destruction. This can have negative impacts on local ecosystems and biodiversity.\n",
            "\n",
            "7. **Sustainability Initiatives**: In response to these challenges, many data center operators are implementing sustainability initiatives. This includes investing in energy-efficient technologies, utilizing renewable energy sources, and adopting circular economy principles to manage e-waste.\n",
            "\n",
            "8. **Regulatory and Market Pressures**: Increasing awareness of environmental issues is leading to regulatory pressures and market demands for greener practices. Companies are being encouraged or required to disclose their energy usage and carbon emissions, prompting a shift towards more sustainable operations.\n",
            "\n",
            "9. **Technological Innovations**: Advances in technology, such as artificial intelligence and machine learning, are being used to optimize data center operations, improve energy efficiency, and reduce waste. These innovations can help mitigate some of the environmental impacts associated with data center usage.\n",
            "\n",
            "In summary, while data centers are essential for modern digital infrastructure, their environmental implications are significant. Addressing these challenges requires a concerted effort from industry stakeholders, policymakers, and consumers to promote sustainable practices and technologies.\n"
          ]
        }
      ]
    },
    {
      "cell_type": "code",
      "source": [
        "#using AOT\n",
        "prompt = '''\n",
        "Problem Statement:\n",
        "Data centers are increasingly crucial for supporting global digital infrastructure but also contribute significantly to energy consumption. What are the environmental implications of this increased data center usage?\n",
        "Yours response to include the following points and their consideratiosns\n",
        "1. Background Information:\n",
        "Consider that data centers currently account for about 1% of global electricity use, with projections indicating potential growth as digital demand increases.\n",
        "2. Initial Hypothesis:\n",
        "One potential solution to mitigate the environmental impact of data centers is the implementation of renewable energy sources. This could reduce their carbon footprint and reliance on non-renewable energy.\n",
        "3. Reasoning:\n",
        "Evaluate the current energy consumption patterns of data centers.\n",
        "Analyze the feasibility and impact of integrating renewable energy sources, such as solar or wind power, into data center operations.\n",
        "Consider technological, economic, and logistical challenges that might affect this transition.\n",
        "4. Conclusion:\n",
        "Based on your analysis, determine whether adopting renewable energy is a viable and effective strategy for reducing the environmental impact of data centers. Discuss any additional measures that could complement this approach. This prompt guides the model through a structured reasoning process, encouraging it to explore each step thoroughly before arriving at a conclusion.'''\n",
        "response = llm.invoke(prompt)\n",
        "print(response)"
      ],
      "metadata": {
        "colab": {
          "base_uri": "https://localhost:8080/"
        },
        "id": "wU6OLJqF36oe",
        "outputId": "0ecd8070-d7be-4ac1-d8fa-015195d26302"
      },
      "execution_count": 10,
      "outputs": [
        {
          "output_type": "stream",
          "name": "stdout",
          "text": [
            "content='### Background Information\\n\\nData centers are essential for the functioning of modern digital infrastructure, supporting everything from cloud computing to streaming services. Currently, they account for approximately 1% of global electricity consumption, a figure that is expected to rise as the demand for digital services continues to grow. This increase in energy consumption raises significant environmental concerns, particularly regarding greenhouse gas emissions and the overall carbon footprint associated with energy production. As data centers expand, their energy requirements could lead to greater reliance on fossil fuels, exacerbating climate change and environmental degradation.\\n\\n### Initial Hypothesis\\n\\nTo mitigate the environmental impact of data centers, one promising solution is the implementation of renewable energy sources. By transitioning to renewable energy, such as solar, wind, or hydroelectric power, data centers could significantly reduce their carbon emissions and reliance on non-renewable energy sources. This shift not only aligns with global sustainability goals but also addresses the growing public and regulatory pressure for businesses to adopt greener practices.\\n\\n### Reasoning\\n\\n#### Current Energy Consumption Patterns\\n\\nData centers consume energy primarily for computing, cooling, and power management. The energy consumption patterns vary based on the size, location, and operational efficiency of the data center. Many data centers still rely heavily on fossil fuels, which contribute to their carbon footprint. The energy-intensive nature of data centers, combined with the projected growth in digital services, suggests that without intervention, their environmental impact will continue to escalate.\\n\\n#### Feasibility and Impact of Integrating Renewable Energy\\n\\n1. **Technological Challenges**: Integrating renewable energy into data center operations requires advanced technology for energy storage and management. For instance, solar and wind energy are intermittent sources, necessitating robust battery systems or other energy storage solutions to ensure a consistent power supply. Additionally, data centers must invest in energy-efficient hardware and cooling systems to maximize the benefits of renewable energy.\\n\\n2. **Economic Considerations**: The initial investment for renewable energy infrastructure can be substantial. However, the long-term savings on energy costs and potential government incentives for using renewable sources can offset these costs. Moreover, as the technology for renewable energy continues to advance, the cost of solar panels and wind turbines is decreasing, making them more accessible for data center operators.\\n\\n3. **Logistical Challenges**: The geographical location of data centers can impact the feasibility of renewable energy integration. For example, data centers located in areas with abundant sunlight or wind can more easily adopt solar or wind energy. However, those in regions with less favorable conditions may face challenges in sourcing renewable energy. Additionally, the existing energy grid infrastructure may need upgrades to accommodate increased renewable energy inputs.\\n\\n### Conclusion\\n\\nBased on the analysis, adopting renewable energy sources is a viable and effective strategy for reducing the environmental impact of data centers. While there are technological, economic, and logistical challenges to overcome, the long-term benefits of transitioning to renewable energy—such as reduced carbon emissions, lower operational costs, and enhanced corporate sustainability—make it a compelling option.\\n\\nTo complement the adoption of renewable energy, data centers can also implement additional measures, such as:\\n\\n- **Energy Efficiency Improvements**: Upgrading to energy-efficient hardware and optimizing cooling systems can significantly reduce overall energy consumption.\\n- **Carbon Offsetting**: Investing in carbon offset programs can help mitigate the environmental impact of any remaining emissions.\\n- **Sustainable Design Practices**: Incorporating sustainable design principles in the construction and operation of data centers can further enhance their environmental performance.\\n\\nIn conclusion, while the transition to renewable energy is not without its challenges, it represents a critical step toward making data centers more sustainable and reducing their overall environmental footprint.' additional_kwargs={'refusal': None} response_metadata={'token_usage': {'completion_tokens': 718, 'prompt_tokens': 242, 'total_tokens': 960, 'completion_tokens_details': {'accepted_prediction_tokens': 0, 'audio_tokens': 0, 'reasoning_tokens': 0, 'rejected_prediction_tokens': 0}, 'prompt_tokens_details': {'audio_tokens': 0, 'cached_tokens': 0}}, 'model_name': 'gpt-4o-mini-2024-07-18', 'system_fingerprint': 'fp_0705bf87c0', 'finish_reason': 'stop', 'logprobs': None} id='run-edf11b61-05ad-411e-8b6b-e8e15883ce6f-0' usage_metadata={'input_tokens': 242, 'output_tokens': 718, 'total_tokens': 960, 'input_token_details': {'audio': 0, 'cache_read': 0}, 'output_token_details': {'audio': 0, 'reasoning': 0}}\n"
          ]
        }
      ]
    },
    {
      "cell_type": "code",
      "source": [
        "print(response.content)"
      ],
      "metadata": {
        "colab": {
          "base_uri": "https://localhost:8080/"
        },
        "id": "1ajRbfzw4XEB",
        "outputId": "1312b6c8-9f9e-478c-b975-aa6025528ca8"
      },
      "execution_count": 11,
      "outputs": [
        {
          "output_type": "stream",
          "name": "stdout",
          "text": [
            "### Background Information\n",
            "\n",
            "Data centers are essential for the functioning of modern digital infrastructure, supporting everything from cloud computing to streaming services. Currently, they account for approximately 1% of global electricity consumption, a figure that is expected to rise as the demand for digital services continues to grow. This increase in energy consumption raises significant environmental concerns, particularly regarding greenhouse gas emissions and the overall carbon footprint associated with energy production. As data centers expand, their energy requirements could lead to greater reliance on fossil fuels, exacerbating climate change and environmental degradation.\n",
            "\n",
            "### Initial Hypothesis\n",
            "\n",
            "To mitigate the environmental impact of data centers, one promising solution is the implementation of renewable energy sources. By transitioning to renewable energy, such as solar, wind, or hydroelectric power, data centers could significantly reduce their carbon emissions and reliance on non-renewable energy sources. This shift not only aligns with global sustainability goals but also addresses the growing public and regulatory pressure for businesses to adopt greener practices.\n",
            "\n",
            "### Reasoning\n",
            "\n",
            "#### Current Energy Consumption Patterns\n",
            "\n",
            "Data centers consume energy primarily for computing, cooling, and power management. The energy consumption patterns vary based on the size, location, and operational efficiency of the data center. Many data centers still rely heavily on fossil fuels, which contribute to their carbon footprint. The energy-intensive nature of data centers, combined with the projected growth in digital services, suggests that without intervention, their environmental impact will continue to escalate.\n",
            "\n",
            "#### Feasibility and Impact of Integrating Renewable Energy\n",
            "\n",
            "1. **Technological Challenges**: Integrating renewable energy into data center operations requires advanced technology for energy storage and management. For instance, solar and wind energy are intermittent sources, necessitating robust battery systems or other energy storage solutions to ensure a consistent power supply. Additionally, data centers must invest in energy-efficient hardware and cooling systems to maximize the benefits of renewable energy.\n",
            "\n",
            "2. **Economic Considerations**: The initial investment for renewable energy infrastructure can be substantial. However, the long-term savings on energy costs and potential government incentives for using renewable sources can offset these costs. Moreover, as the technology for renewable energy continues to advance, the cost of solar panels and wind turbines is decreasing, making them more accessible for data center operators.\n",
            "\n",
            "3. **Logistical Challenges**: The geographical location of data centers can impact the feasibility of renewable energy integration. For example, data centers located in areas with abundant sunlight or wind can more easily adopt solar or wind energy. However, those in regions with less favorable conditions may face challenges in sourcing renewable energy. Additionally, the existing energy grid infrastructure may need upgrades to accommodate increased renewable energy inputs.\n",
            "\n",
            "### Conclusion\n",
            "\n",
            "Based on the analysis, adopting renewable energy sources is a viable and effective strategy for reducing the environmental impact of data centers. While there are technological, economic, and logistical challenges to overcome, the long-term benefits of transitioning to renewable energy—such as reduced carbon emissions, lower operational costs, and enhanced corporate sustainability—make it a compelling option.\n",
            "\n",
            "To complement the adoption of renewable energy, data centers can also implement additional measures, such as:\n",
            "\n",
            "- **Energy Efficiency Improvements**: Upgrading to energy-efficient hardware and optimizing cooling systems can significantly reduce overall energy consumption.\n",
            "- **Carbon Offsetting**: Investing in carbon offset programs can help mitigate the environmental impact of any remaining emissions.\n",
            "- **Sustainable Design Practices**: Incorporating sustainable design principles in the construction and operation of data centers can further enhance their environmental performance.\n",
            "\n",
            "In conclusion, while the transition to renewable energy is not without its challenges, it represents a critical step toward making data centers more sustainable and reducing their overall environmental footprint.\n"
          ]
        }
      ]
    },
    {
      "cell_type": "markdown",
      "source": [
        "## RASCEF"
      ],
      "metadata": {
        "id": "4cGQNR7u9Ucn"
      }
    },
    {
      "cell_type": "code",
      "source": [
        "prompt = '''\n",
        "Role:\n",
        "You are an expert environmental analyst specializing in sustainable technologies.\n",
        "Action:\n",
        "Generate a comprehensive report on renewable energy solutions for data centers.\n",
        "Steps:\n",
        "Identify the current energy consumption patterns of data centers.\n",
        "Analyze the potential of various renewable energy sources, such as solar, wind, and hydroelectric power, for integration into data center operations.\n",
        "Evaluate the benefits and challenges associated with each renewable energy source.\n",
        "Provide recommendations for implementing these solutions effectively.\n",
        "Context:\n",
        "Data centers are significant consumers of electricity and contribute to global carbon emissions. Transitioning to renewable energy sources can potentially reduce their environmental impact.\n",
        "Example:\n",
        "An example section might include a comparison of solar and wind energy, detailing installation costs, energy output, and geographic considerations.\n",
        "Format:\n",
        "The report should be structured with an introduction, detailed analysis sections for each renewable energy source, a comparison table, and a conclusion with recommendations. Use headings and bullet points where appropriate for clarity. '''\n",
        "response = llm.invoke(prompt)\n",
        "print(response.content)"
      ],
      "metadata": {
        "colab": {
          "base_uri": "https://localhost:8080/"
        },
        "id": "eNMc40h19OUv",
        "outputId": "2970ce62-ec9c-455e-ffc8-885d81f827bb"
      },
      "execution_count": 13,
      "outputs": [
        {
          "output_type": "stream",
          "name": "stdout",
          "text": [
            "# Comprehensive Report on Renewable Energy Solutions for Data Centers\n",
            "\n",
            "## Introduction\n",
            "\n",
            "Data centers are critical components of the digital economy, providing the infrastructure necessary for cloud computing, data storage, and online services. However, they are also significant consumers of electricity, accounting for approximately 1-2% of global energy consumption and contributing to carbon emissions. Transitioning to renewable energy sources is essential for reducing the environmental impact of data centers. This report explores various renewable energy solutions, including solar, wind, and hydroelectric power, and provides recommendations for their effective implementation.\n",
            "\n",
            "## Current Energy Consumption Patterns of Data Centers\n",
            "\n",
            "- **Energy Demand**: Data centers require substantial energy for computing, cooling, and supporting infrastructure. The average data center consumes between 1 to 2 megawatts of power.\n",
            "- **Growth Trends**: With the increasing demand for cloud services and data processing, energy consumption in data centers is projected to rise by 20% annually.\n",
            "- **Carbon Footprint**: The reliance on fossil fuels for electricity generation contributes significantly to greenhouse gas emissions, necessitating a shift to cleaner energy sources.\n",
            "\n",
            "## Renewable Energy Sources for Data Centers\n",
            "\n",
            "### 1. Solar Energy\n",
            "\n",
            "#### Potential for Integration\n",
            "- **Photovoltaic (PV) Systems**: Solar panels can be installed on rooftops or in nearby solar farms to generate electricity.\n",
            "- **Energy Storage**: Battery systems can store excess energy generated during the day for use during peak demand times.\n",
            "\n",
            "#### Benefits\n",
            "- **Sustainability**: Solar energy is abundant and renewable, significantly reducing carbon emissions.\n",
            "- **Cost-Effectiveness**: The cost of solar installations has decreased by over 80% in the last decade, making it a financially viable option.\n",
            "\n",
            "#### Challenges\n",
            "- **Intermittency**: Solar energy generation is dependent on sunlight, leading to variability in energy supply.\n",
            "- **Space Requirements**: Large installations require significant land or rooftop space, which may not be available in urban areas.\n",
            "\n",
            "### 2. Wind Energy\n",
            "\n",
            "#### Potential for Integration\n",
            "- **Onshore and Offshore Wind Farms**: Wind turbines can be installed on land or offshore to harness wind energy.\n",
            "- **Power Purchase Agreements (PPAs)**: Data centers can enter into long-term contracts to purchase wind energy from nearby farms.\n",
            "\n",
            "#### Benefits\n",
            "- **High Energy Output**: Wind energy can provide a substantial amount of electricity, especially in areas with consistent wind patterns.\n",
            "- **Low Operating Costs**: Once installed, wind turbines have low maintenance and operational costs.\n",
            "\n",
            "#### Challenges\n",
            "- **Geographic Limitations**: Wind energy potential varies significantly by location, requiring careful site selection.\n",
            "- **Visual and Noise Impact**: Wind farms can face opposition due to their visual impact and noise generation.\n",
            "\n",
            "### 3. Hydroelectric Power\n",
            "\n",
            "#### Potential for Integration\n",
            "- **Run-of-River Systems**: These systems generate electricity without the need for large reservoirs, minimizing environmental impact.\n",
            "- **Partnerships with Utilities**: Data centers can collaborate with local hydroelectric plants to secure renewable energy.\n",
            "\n",
            "#### Benefits\n",
            "- **Consistent Energy Supply**: Hydroelectric power provides a stable and reliable energy source.\n",
            "- **Low Emissions**: Hydropower has a minimal carbon footprint compared to fossil fuels.\n",
            "\n",
            "#### Challenges\n",
            "- **Environmental Concerns**: Large hydroelectric projects can disrupt local ecosystems and communities.\n",
            "- **Geographic Constraints**: Availability is limited to regions with suitable water resources.\n",
            "\n",
            "## Comparison Table of Renewable Energy Sources\n",
            "\n",
            "| Energy Source | Installation Cost | Energy Output | Geographic Considerations | Environmental Impact |\n",
            "|---------------|-------------------|---------------|---------------------------|----------------------|\n",
            "| Solar         | Moderate          | Variable      | Requires sunlight; urban/rural | Low                  |\n",
            "| Wind          | Moderate to High  | High          | Requires wind; site-specific | Moderate              |\n",
            "| Hydroelectric  | High              | Consistent    | Requires water resources; location-dependent | Variable             |\n",
            "\n",
            "## Conclusion and Recommendations\n",
            "\n",
            "Transitioning to renewable energy sources is essential for data centers to reduce their carbon footprint and enhance sustainability. Each renewable energy source has its unique benefits and challenges, and the choice of which to implement should be based on specific operational needs, geographic location, and available resources.\n",
            "\n",
            "### Recommendations\n",
            "1. **Conduct Energy Audits**: Data centers should perform comprehensive energy audits to assess current consumption patterns and identify opportunities for renewable energy integration.\n",
            "2. **Diversify Energy Sources**: Implement a mix of solar, wind, and hydroelectric power to mitigate the challenges associated with each source's intermittency and geographic limitations.\n",
            "3. **Invest in Energy Storage**: Incorporate battery storage systems to enhance the reliability of renewable energy supply and manage peak demand.\n",
            "4. **Engage in Power Purchase Agreements**: Collaborate with renewable energy providers to secure long-term contracts that ensure a stable supply of green energy.\n",
            "5. **Monitor and Optimize**: Continuously monitor energy consumption and renewable energy generation to optimize operations and improve efficiency.\n",
            "\n",
            "By adopting these recommendations, data centers can significantly reduce their environmental impact while ensuring a reliable and sustainable energy supply.\n"
          ]
        }
      ]
    },
    {
      "cell_type": "markdown",
      "source": [
        "## ReAct"
      ],
      "metadata": {
        "id": "3HAzj04B9tfF"
      }
    },
    {
      "cell_type": "code",
      "source": [
        "prompt = '''\n",
        "Task: Optimize the energy efficiency of a data center using renewable energy sources.\n",
        "Reasoning:\n",
        "Identify Problem Areas: Analyze current energy consumption patterns to identify inefficiencies.\n",
        "Explore Solutions: Consider various renewable energy sources (e.g., solar, wind) and their potential integration into the data center's power supply.\n",
        "Evaluate Feasibility: Assess the technological and economic feasibility of these solutions.\n",
        "Acting:\n",
        "Data Collection: Retrieve data on current energy usage and costs associated with different renewable technologies.\n",
        "Simulation: Run simulations to predict the impact of integrating renewable sources on overall energy efficiency.\n",
        "Implementation Plan: Develop a step-by-step implementation plan based on simulation results.\n",
        "Observation and Adjustment:\n",
        "Monitor changes in energy consumption post-implementation.\n",
        "Adjust strategies based on observed outcomes to enhance efficiency further.'''\n",
        "response = llm.invoke(prompt)\n",
        "print(response.content)"
      ],
      "metadata": {
        "colab": {
          "base_uri": "https://localhost:8080/"
        },
        "id": "R3nemjae-JhJ",
        "outputId": "5c77013e-dc50-4ef9-83d8-1d14b78c004e"
      },
      "execution_count": 14,
      "outputs": [
        {
          "output_type": "stream",
          "name": "stdout",
          "text": [
            "### Optimizing Energy Efficiency of a Data Center Using Renewable Energy Sources\n",
            "\n",
            "#### Step 1: Identify Problem Areas\n",
            "\n",
            "1. **Data Collection**: \n",
            "   - Gather historical data on energy consumption, peak usage times, and operational costs.\n",
            "   - Identify the major energy-consuming components (servers, cooling systems, lighting, etc.).\n",
            "\n",
            "2. **Energy Audit**: \n",
            "   - Conduct a thorough energy audit to pinpoint inefficiencies, such as outdated equipment, poor insulation, or inefficient cooling methods.\n",
            "   - Analyze the Power Usage Effectiveness (PUE) to understand how much energy is used by the data center compared to the energy used by the IT equipment alone.\n",
            "\n",
            "#### Step 2: Explore Solutions\n",
            "\n",
            "1. **Renewable Energy Sources**:\n",
            "   - **Solar Energy**: Evaluate the feasibility of installing solar panels on the data center roof or nearby land. Consider factors like sunlight exposure, local regulations, and potential energy output.\n",
            "   - **Wind Energy**: Assess the potential for wind turbines if the location has sufficient wind resources. Analyze zoning laws and environmental impact.\n",
            "   - **Geothermal Energy**: Investigate the possibility of using geothermal systems for cooling and heating.\n",
            "   - **Energy Storage Solutions**: Explore battery storage systems to store excess energy generated from renewable sources for use during peak demand.\n",
            "\n",
            "2. **Energy Efficiency Technologies**:\n",
            "   - Implement energy-efficient hardware (e.g., servers with lower power consumption).\n",
            "   - Upgrade cooling systems to more efficient models (e.g., liquid cooling, free cooling).\n",
            "   - Utilize virtualization to reduce the number of physical servers needed.\n",
            "\n",
            "#### Step 3: Evaluate Feasibility\n",
            "\n",
            "1. **Technological Feasibility**:\n",
            "   - Research the latest technologies in renewable energy and energy efficiency.\n",
            "   - Consult with experts or vendors to understand the integration process and compatibility with existing systems.\n",
            "\n",
            "2. **Economic Feasibility**:\n",
            "   - Perform a cost-benefit analysis, including initial investment, operational savings, and potential incentives or rebates for renewable energy installations.\n",
            "   - Calculate the return on investment (ROI) and payback period for each proposed solution.\n",
            "\n",
            "#### Step 4: Simulation\n",
            "\n",
            "1. **Modeling Energy Consumption**:\n",
            "   - Use simulation software to model current energy consumption patterns and predict the impact of integrating renewable energy sources.\n",
            "   - Simulate different scenarios (e.g., varying levels of solar or wind energy contribution) to identify optimal configurations.\n",
            "\n",
            "2. **Impact Assessment**:\n",
            "   - Analyze the simulations to determine potential reductions in energy costs and carbon footprint.\n",
            "   - Evaluate the reliability and stability of the energy supply with the proposed renewable sources.\n",
            "\n",
            "#### Step 5: Implementation Plan\n",
            "\n",
            "1. **Step-by-Step Plan**:\n",
            "   - Develop a detailed implementation timeline, including milestones for each phase (e.g., installation of solar panels, upgrading cooling systems).\n",
            "   - Assign responsibilities to team members and establish a budget for each phase.\n",
            "\n",
            "2. **Stakeholder Engagement**:\n",
            "   - Communicate the plan to all stakeholders, including management, IT staff, and facility managers.\n",
            "   - Ensure buy-in and support for the transition to renewable energy sources.\n",
            "\n",
            "#### Step 6: Observation and Adjustment\n",
            "\n",
            "1. **Monitoring**:\n",
            "   - Implement monitoring systems to track energy consumption and performance of renewable energy systems post-implementation.\n",
            "   - Use real-time data analytics to assess the effectiveness of the changes made.\n",
            "\n",
            "2. **Adjustments**:\n",
            "   - Regularly review performance data and compare it against the initial simulations and projections.\n",
            "   - Make necessary adjustments to operational strategies, such as load balancing or further optimizing cooling systems, based on observed outcomes.\n",
            "\n",
            "3. **Continuous Improvement**:\n",
            "   - Establish a feedback loop for ongoing assessment and improvement of energy efficiency strategies.\n",
            "   - Stay updated on advancements in renewable energy technologies and energy efficiency practices to continually enhance the data center's performance.\n",
            "\n",
            "### Conclusion\n",
            "\n",
            "By systematically identifying inefficiencies, exploring renewable energy solutions, evaluating their feasibility, and implementing a structured plan, a data center can significantly enhance its energy efficiency while reducing its environmental impact. Continuous monitoring and adjustment will ensure that the data center remains at the forefront of energy efficiency and sustainability.\n"
          ]
        }
      ]
    },
    {
      "cell_type": "markdown",
      "source": [
        "## Graph of thought (GOT)"
      ],
      "metadata": {
        "id": "lynGo1hH27Xm"
      }
    },
    {
      "cell_type": "code",
      "source": [
        "!pip install graph_of_thoughts"
      ],
      "metadata": {
        "colab": {
          "base_uri": "https://localhost:8080/"
        },
        "id": "yNS0YAkg4_zn",
        "outputId": "b82b1615-499a-412b-df0b-4060e1c04a1a"
      },
      "execution_count": null,
      "outputs": [
        {
          "output_type": "stream",
          "name": "stdout",
          "text": [
            "Collecting graph_of_thoughts\n",
            "  Downloading graph_of_thoughts-0.0.2-py3-none-any.whl.metadata (9.6 kB)\n",
            "Requirement already satisfied: accelerate>=0.21.0 in /usr/local/lib/python3.10/dist-packages (from graph_of_thoughts) (1.1.1)\n",
            "Collecting backoff>=2.2.1 (from graph_of_thoughts)\n",
            "  Downloading backoff-2.2.1-py3-none-any.whl.metadata (14 kB)\n",
            "Collecting bitsandbytes>=0.41.0 (from graph_of_thoughts)\n",
            "  Downloading bitsandbytes-0.44.1-py3-none-manylinux_2_24_x86_64.whl.metadata (3.5 kB)\n",
            "Requirement already satisfied: matplotlib>=3.7.1 in /usr/local/lib/python3.10/dist-packages (from graph_of_thoughts) (3.8.0)\n",
            "Requirement already satisfied: numpy>=1.24.3 in /usr/local/lib/python3.10/dist-packages (from graph_of_thoughts) (1.26.4)\n",
            "Requirement already satisfied: openai>=0.27.7 in /usr/local/lib/python3.10/dist-packages (from graph_of_thoughts) (1.54.4)\n",
            "Requirement already satisfied: pandas>=2.0.3 in /usr/local/lib/python3.10/dist-packages (from graph_of_thoughts) (2.2.2)\n",
            "Requirement already satisfied: scipy>=1.10.1 in /usr/local/lib/python3.10/dist-packages (from graph_of_thoughts) (1.13.1)\n",
            "Requirement already satisfied: sympy>=1.12 in /usr/local/lib/python3.10/dist-packages (from graph_of_thoughts) (1.13.1)\n",
            "Requirement already satisfied: torch>=2.0.1 in /usr/local/lib/python3.10/dist-packages (from graph_of_thoughts) (2.5.1+cu121)\n",
            "Requirement already satisfied: transformers>=4.31.0 in /usr/local/lib/python3.10/dist-packages (from graph_of_thoughts) (4.46.2)\n",
            "Requirement already satisfied: huggingface-hub>=0.21.0 in /usr/local/lib/python3.10/dist-packages (from accelerate>=0.21.0->graph_of_thoughts) (0.26.2)\n",
            "Requirement already satisfied: packaging>=20.0 in /usr/local/lib/python3.10/dist-packages (from accelerate>=0.21.0->graph_of_thoughts) (24.2)\n",
            "Requirement already satisfied: psutil in /usr/local/lib/python3.10/dist-packages (from accelerate>=0.21.0->graph_of_thoughts) (5.9.5)\n",
            "Requirement already satisfied: pyyaml in /usr/local/lib/python3.10/dist-packages (from accelerate>=0.21.0->graph_of_thoughts) (6.0.2)\n",
            "Requirement already satisfied: safetensors>=0.4.3 in /usr/local/lib/python3.10/dist-packages (from accelerate>=0.21.0->graph_of_thoughts) (0.4.5)\n",
            "Requirement already satisfied: contourpy>=1.0.1 in /usr/local/lib/python3.10/dist-packages (from matplotlib>=3.7.1->graph_of_thoughts) (1.3.1)\n",
            "Requirement already satisfied: cycler>=0.10 in /usr/local/lib/python3.10/dist-packages (from matplotlib>=3.7.1->graph_of_thoughts) (0.12.1)\n",
            "Requirement already satisfied: fonttools>=4.22.0 in /usr/local/lib/python3.10/dist-packages (from matplotlib>=3.7.1->graph_of_thoughts) (4.55.0)\n",
            "Requirement already satisfied: kiwisolver>=1.0.1 in /usr/local/lib/python3.10/dist-packages (from matplotlib>=3.7.1->graph_of_thoughts) (1.4.7)\n",
            "Requirement already satisfied: pillow>=6.2.0 in /usr/local/lib/python3.10/dist-packages (from matplotlib>=3.7.1->graph_of_thoughts) (11.0.0)\n",
            "Requirement already satisfied: pyparsing>=2.3.1 in /usr/local/lib/python3.10/dist-packages (from matplotlib>=3.7.1->graph_of_thoughts) (3.2.0)\n",
            "Requirement already satisfied: python-dateutil>=2.7 in /usr/local/lib/python3.10/dist-packages (from matplotlib>=3.7.1->graph_of_thoughts) (2.8.2)\n",
            "Requirement already satisfied: anyio<5,>=3.5.0 in /usr/local/lib/python3.10/dist-packages (from openai>=0.27.7->graph_of_thoughts) (3.7.1)\n",
            "Requirement already satisfied: distro<2,>=1.7.0 in /usr/local/lib/python3.10/dist-packages (from openai>=0.27.7->graph_of_thoughts) (1.9.0)\n",
            "Requirement already satisfied: httpx<1,>=0.23.0 in /usr/local/lib/python3.10/dist-packages (from openai>=0.27.7->graph_of_thoughts) (0.27.2)\n",
            "Requirement already satisfied: jiter<1,>=0.4.0 in /usr/local/lib/python3.10/dist-packages (from openai>=0.27.7->graph_of_thoughts) (0.7.1)\n",
            "Requirement already satisfied: pydantic<3,>=1.9.0 in /usr/local/lib/python3.10/dist-packages (from openai>=0.27.7->graph_of_thoughts) (2.9.2)\n",
            "Requirement already satisfied: sniffio in /usr/local/lib/python3.10/dist-packages (from openai>=0.27.7->graph_of_thoughts) (1.3.1)\n",
            "Requirement already satisfied: tqdm>4 in /usr/local/lib/python3.10/dist-packages (from openai>=0.27.7->graph_of_thoughts) (4.66.6)\n",
            "Requirement already satisfied: typing-extensions<5,>=4.11 in /usr/local/lib/python3.10/dist-packages (from openai>=0.27.7->graph_of_thoughts) (4.12.2)\n",
            "Requirement already satisfied: pytz>=2020.1 in /usr/local/lib/python3.10/dist-packages (from pandas>=2.0.3->graph_of_thoughts) (2024.2)\n",
            "Requirement already satisfied: tzdata>=2022.7 in /usr/local/lib/python3.10/dist-packages (from pandas>=2.0.3->graph_of_thoughts) (2024.2)\n",
            "Requirement already satisfied: mpmath<1.4,>=1.1.0 in /usr/local/lib/python3.10/dist-packages (from sympy>=1.12->graph_of_thoughts) (1.3.0)\n",
            "Requirement already satisfied: filelock in /usr/local/lib/python3.10/dist-packages (from torch>=2.0.1->graph_of_thoughts) (3.16.1)\n",
            "Requirement already satisfied: networkx in /usr/local/lib/python3.10/dist-packages (from torch>=2.0.1->graph_of_thoughts) (3.4.2)\n",
            "Requirement already satisfied: jinja2 in /usr/local/lib/python3.10/dist-packages (from torch>=2.0.1->graph_of_thoughts) (3.1.4)\n",
            "Requirement already satisfied: fsspec in /usr/local/lib/python3.10/dist-packages (from torch>=2.0.1->graph_of_thoughts) (2024.10.0)\n",
            "Requirement already satisfied: regex!=2019.12.17 in /usr/local/lib/python3.10/dist-packages (from transformers>=4.31.0->graph_of_thoughts) (2024.9.11)\n",
            "Requirement already satisfied: requests in /usr/local/lib/python3.10/dist-packages (from transformers>=4.31.0->graph_of_thoughts) (2.32.3)\n",
            "Requirement already satisfied: tokenizers<0.21,>=0.20 in /usr/local/lib/python3.10/dist-packages (from transformers>=4.31.0->graph_of_thoughts) (0.20.3)\n",
            "Requirement already satisfied: idna>=2.8 in /usr/local/lib/python3.10/dist-packages (from anyio<5,>=3.5.0->openai>=0.27.7->graph_of_thoughts) (3.10)\n",
            "Requirement already satisfied: exceptiongroup in /usr/local/lib/python3.10/dist-packages (from anyio<5,>=3.5.0->openai>=0.27.7->graph_of_thoughts) (1.2.2)\n",
            "Requirement already satisfied: certifi in /usr/local/lib/python3.10/dist-packages (from httpx<1,>=0.23.0->openai>=0.27.7->graph_of_thoughts) (2024.8.30)\n",
            "Requirement already satisfied: httpcore==1.* in /usr/local/lib/python3.10/dist-packages (from httpx<1,>=0.23.0->openai>=0.27.7->graph_of_thoughts) (1.0.7)\n",
            "Requirement already satisfied: h11<0.15,>=0.13 in /usr/local/lib/python3.10/dist-packages (from httpcore==1.*->httpx<1,>=0.23.0->openai>=0.27.7->graph_of_thoughts) (0.14.0)\n",
            "Requirement already satisfied: annotated-types>=0.6.0 in /usr/local/lib/python3.10/dist-packages (from pydantic<3,>=1.9.0->openai>=0.27.7->graph_of_thoughts) (0.7.0)\n",
            "Requirement already satisfied: pydantic-core==2.23.4 in /usr/local/lib/python3.10/dist-packages (from pydantic<3,>=1.9.0->openai>=0.27.7->graph_of_thoughts) (2.23.4)\n",
            "Requirement already satisfied: six>=1.5 in /usr/local/lib/python3.10/dist-packages (from python-dateutil>=2.7->matplotlib>=3.7.1->graph_of_thoughts) (1.16.0)\n",
            "Requirement already satisfied: MarkupSafe>=2.0 in /usr/local/lib/python3.10/dist-packages (from jinja2->torch>=2.0.1->graph_of_thoughts) (3.0.2)\n",
            "Requirement already satisfied: charset-normalizer<4,>=2 in /usr/local/lib/python3.10/dist-packages (from requests->transformers>=4.31.0->graph_of_thoughts) (3.4.0)\n",
            "Requirement already satisfied: urllib3<3,>=1.21.1 in /usr/local/lib/python3.10/dist-packages (from requests->transformers>=4.31.0->graph_of_thoughts) (2.2.3)\n",
            "Downloading graph_of_thoughts-0.0.2-py3-none-any.whl (28 kB)\n",
            "Downloading backoff-2.2.1-py3-none-any.whl (15 kB)\n",
            "Downloading bitsandbytes-0.44.1-py3-none-manylinux_2_24_x86_64.whl (122.4 MB)\n",
            "\u001b[2K   \u001b[90m━━━━━━━━━━━━━━━━━━━━━━━━━━━━━━━━━━━━━━━━\u001b[0m \u001b[32m122.4/122.4 MB\u001b[0m \u001b[31m5.1 MB/s\u001b[0m eta \u001b[36m0:00:00\u001b[0m\n",
            "\u001b[?25hInstalling collected packages: backoff, bitsandbytes, graph_of_thoughts\n",
            "Successfully installed backoff-2.2.1 bitsandbytes-0.44.1 graph_of_thoughts-0.0.2\n"
          ]
        }
      ]
    },
    {
      "cell_type": "code",
      "source": [
        "# Step 1: Define the problem\n",
        "problem_statement = \"A classroom has two blue chairs for every three red chairs. If there are 30 chairs in total, how many blue chairs are there?\"\n",
        "\n",
        "# Step 2: Create a LangChain prompt template for reasoning\n",
        "reasoning_prompt = PromptTemplate(\n",
        "    input_variables=[\"step\"],\n",
        "    template=\"Step {step}: Let's analyze the problem and solve it step by step.\"\n",
        ")"
      ],
      "metadata": {
        "id": "VsvNjv4v5_U6"
      },
      "execution_count": null,
      "outputs": []
    },
    {
      "cell_type": "code",
      "source": [
        "!pip install openai==0.28.0"
      ],
      "metadata": {
        "id": "wT5p2Kzr6yNG"
      },
      "execution_count": null,
      "outputs": []
    },
    {
      "cell_type": "code",
      "source": [
        "import openai\n",
        "openai.__version__"
      ],
      "metadata": {
        "colab": {
          "base_uri": "https://localhost:8080/",
          "height": 35
        },
        "id": "2cl2-1xz6i4c",
        "outputId": "7157e9db-a5d2-4f06-9cdb-b4711bf69134"
      },
      "execution_count": null,
      "outputs": [
        {
          "output_type": "execute_result",
          "data": {
            "text/plain": [
              "'1.54.4'"
            ],
            "application/vnd.google.colaboratory.intrinsic+json": {
              "type": "string"
            }
          },
          "metadata": {},
          "execution_count": 75
        }
      ]
    },
    {
      "cell_type": "code",
      "source": [
        "from graph_of_thoughts import controller, language_models, operations"
      ],
      "metadata": {
        "id": "QHbJp5Q66TEi"
      },
      "execution_count": null,
      "outputs": []
    },
    {
      "source": [],
      "cell_type": "code",
      "metadata": {
        "id": "8Rh969Mo6whE"
      },
      "execution_count": null,
      "outputs": []
    },
    {
      "cell_type": "code",
      "source": [
        "gop = operations.GraphOfOperations()\n",
        "gop.append_operation(operations.Generate())  # Generate intermediate steps\n",
        "gop.append_operation(operations.Score(scoring_function=lambda x: len(x)))  # Example scoring function\n",
        "gop.append_operation(operations.GroundTruth(lambda x: x == \"12\"))  # Validate final answer"
      ],
      "metadata": {
        "id": "m2rB4cGA6MPd"
      },
      "execution_count": null,
      "outputs": []
    },
    {
      "cell_type": "code",
      "source": [],
      "metadata": {
        "id": "jVCR2kXm9n1f"
      },
      "execution_count": null,
      "outputs": []
    }
  ]
}