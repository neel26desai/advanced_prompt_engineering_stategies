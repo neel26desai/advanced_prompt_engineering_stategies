{
  "nbformat": 4,
  "nbformat_minor": 0,
  "metadata": {
    "colab": {
      "provenance": [],
      "authorship_tag": "ABX9TyNfljlGAzzF8Ts4d39npj/N",
      "include_colab_link": true
    },
    "kernelspec": {
      "name": "python3",
      "display_name": "Python 3"
    },
    "language_info": {
      "name": "python"
    }
  },
  "cells": [
    {
      "cell_type": "markdown",
      "metadata": {
        "id": "view-in-github",
        "colab_type": "text"
      },
      "source": [
        "<a href=\"https://colab.research.google.com/github/neel26desai/advanced_prompt_engineering_stategies/blob/main/Gemini_Palm2.ipynb\" target=\"_parent\"><img src=\"https://colab.research.google.com/assets/colab-badge.svg\" alt=\"Open In Colab\"/></a>"
      ]
    },
    {
      "cell_type": "markdown",
      "source": [
        "Palm2 apis are deprecated as per https://ai.google.dev/palm_docs/palm, and are replaced wit gemini api , hence using them."
      ],
      "metadata": {
        "id": "15lvjavCpbS7"
      }
    },
    {
      "cell_type": "code",
      "execution_count": 1,
      "metadata": {
        "colab": {
          "base_uri": "https://localhost:8080/"
        },
        "id": "Z1rHsoF4pByc",
        "outputId": "992afadc-16e5-4499-e3cf-22f209874be3"
      },
      "outputs": [
        {
          "output_type": "stream",
          "name": "stdout",
          "text": [
            "Requirement already satisfied: google-ai-generativelanguage in /usr/local/lib/python3.10/dist-packages (0.6.10)\n",
            "Requirement already satisfied: google-api-core!=2.0.*,!=2.1.*,!=2.10.*,!=2.2.*,!=2.3.*,!=2.4.*,!=2.5.*,!=2.6.*,!=2.7.*,!=2.8.*,!=2.9.*,<3.0.0dev,>=1.34.1 in /usr/local/lib/python3.10/dist-packages (from google-api-core[grpc]!=2.0.*,!=2.1.*,!=2.10.*,!=2.2.*,!=2.3.*,!=2.4.*,!=2.5.*,!=2.6.*,!=2.7.*,!=2.8.*,!=2.9.*,<3.0.0dev,>=1.34.1->google-ai-generativelanguage) (2.19.2)\n",
            "Requirement already satisfied: google-auth!=2.24.0,!=2.25.0,<3.0.0dev,>=2.14.1 in /usr/local/lib/python3.10/dist-packages (from google-ai-generativelanguage) (2.27.0)\n",
            "Requirement already satisfied: proto-plus<2.0.0dev,>=1.22.3 in /usr/local/lib/python3.10/dist-packages (from google-ai-generativelanguage) (1.25.0)\n",
            "Requirement already satisfied: protobuf!=4.21.0,!=4.21.1,!=4.21.2,!=4.21.3,!=4.21.4,!=4.21.5,<6.0.0dev,>=3.20.2 in /usr/local/lib/python3.10/dist-packages (from google-ai-generativelanguage) (4.25.5)\n",
            "Requirement already satisfied: googleapis-common-protos<2.0.dev0,>=1.56.2 in /usr/local/lib/python3.10/dist-packages (from google-api-core!=2.0.*,!=2.1.*,!=2.10.*,!=2.2.*,!=2.3.*,!=2.4.*,!=2.5.*,!=2.6.*,!=2.7.*,!=2.8.*,!=2.9.*,<3.0.0dev,>=1.34.1->google-api-core[grpc]!=2.0.*,!=2.1.*,!=2.10.*,!=2.2.*,!=2.3.*,!=2.4.*,!=2.5.*,!=2.6.*,!=2.7.*,!=2.8.*,!=2.9.*,<3.0.0dev,>=1.34.1->google-ai-generativelanguage) (1.66.0)\n",
            "Requirement already satisfied: requests<3.0.0.dev0,>=2.18.0 in /usr/local/lib/python3.10/dist-packages (from google-api-core!=2.0.*,!=2.1.*,!=2.10.*,!=2.2.*,!=2.3.*,!=2.4.*,!=2.5.*,!=2.6.*,!=2.7.*,!=2.8.*,!=2.9.*,<3.0.0dev,>=1.34.1->google-api-core[grpc]!=2.0.*,!=2.1.*,!=2.10.*,!=2.2.*,!=2.3.*,!=2.4.*,!=2.5.*,!=2.6.*,!=2.7.*,!=2.8.*,!=2.9.*,<3.0.0dev,>=1.34.1->google-ai-generativelanguage) (2.32.3)\n",
            "Requirement already satisfied: grpcio<2.0dev,>=1.33.2 in /usr/local/lib/python3.10/dist-packages (from google-api-core[grpc]!=2.0.*,!=2.1.*,!=2.10.*,!=2.2.*,!=2.3.*,!=2.4.*,!=2.5.*,!=2.6.*,!=2.7.*,!=2.8.*,!=2.9.*,<3.0.0dev,>=1.34.1->google-ai-generativelanguage) (1.68.0)\n",
            "Requirement already satisfied: grpcio-status<2.0.dev0,>=1.33.2 in /usr/local/lib/python3.10/dist-packages (from google-api-core[grpc]!=2.0.*,!=2.1.*,!=2.10.*,!=2.2.*,!=2.3.*,!=2.4.*,!=2.5.*,!=2.6.*,!=2.7.*,!=2.8.*,!=2.9.*,<3.0.0dev,>=1.34.1->google-ai-generativelanguage) (1.62.3)\n",
            "Requirement already satisfied: cachetools<6.0,>=2.0.0 in /usr/local/lib/python3.10/dist-packages (from google-auth!=2.24.0,!=2.25.0,<3.0.0dev,>=2.14.1->google-ai-generativelanguage) (5.5.0)\n",
            "Requirement already satisfied: pyasn1-modules>=0.2.1 in /usr/local/lib/python3.10/dist-packages (from google-auth!=2.24.0,!=2.25.0,<3.0.0dev,>=2.14.1->google-ai-generativelanguage) (0.4.1)\n",
            "Requirement already satisfied: rsa<5,>=3.1.4 in /usr/local/lib/python3.10/dist-packages (from google-auth!=2.24.0,!=2.25.0,<3.0.0dev,>=2.14.1->google-ai-generativelanguage) (4.9)\n",
            "Requirement already satisfied: pyasn1<0.7.0,>=0.4.6 in /usr/local/lib/python3.10/dist-packages (from pyasn1-modules>=0.2.1->google-auth!=2.24.0,!=2.25.0,<3.0.0dev,>=2.14.1->google-ai-generativelanguage) (0.6.1)\n",
            "Requirement already satisfied: charset-normalizer<4,>=2 in /usr/local/lib/python3.10/dist-packages (from requests<3.0.0.dev0,>=2.18.0->google-api-core!=2.0.*,!=2.1.*,!=2.10.*,!=2.2.*,!=2.3.*,!=2.4.*,!=2.5.*,!=2.6.*,!=2.7.*,!=2.8.*,!=2.9.*,<3.0.0dev,>=1.34.1->google-api-core[grpc]!=2.0.*,!=2.1.*,!=2.10.*,!=2.2.*,!=2.3.*,!=2.4.*,!=2.5.*,!=2.6.*,!=2.7.*,!=2.8.*,!=2.9.*,<3.0.0dev,>=1.34.1->google-ai-generativelanguage) (3.4.0)\n",
            "Requirement already satisfied: idna<4,>=2.5 in /usr/local/lib/python3.10/dist-packages (from requests<3.0.0.dev0,>=2.18.0->google-api-core!=2.0.*,!=2.1.*,!=2.10.*,!=2.2.*,!=2.3.*,!=2.4.*,!=2.5.*,!=2.6.*,!=2.7.*,!=2.8.*,!=2.9.*,<3.0.0dev,>=1.34.1->google-api-core[grpc]!=2.0.*,!=2.1.*,!=2.10.*,!=2.2.*,!=2.3.*,!=2.4.*,!=2.5.*,!=2.6.*,!=2.7.*,!=2.8.*,!=2.9.*,<3.0.0dev,>=1.34.1->google-ai-generativelanguage) (3.10)\n",
            "Requirement already satisfied: urllib3<3,>=1.21.1 in /usr/local/lib/python3.10/dist-packages (from requests<3.0.0.dev0,>=2.18.0->google-api-core!=2.0.*,!=2.1.*,!=2.10.*,!=2.2.*,!=2.3.*,!=2.4.*,!=2.5.*,!=2.6.*,!=2.7.*,!=2.8.*,!=2.9.*,<3.0.0dev,>=1.34.1->google-api-core[grpc]!=2.0.*,!=2.1.*,!=2.10.*,!=2.2.*,!=2.3.*,!=2.4.*,!=2.5.*,!=2.6.*,!=2.7.*,!=2.8.*,!=2.9.*,<3.0.0dev,>=1.34.1->google-ai-generativelanguage) (2.2.3)\n",
            "Requirement already satisfied: certifi>=2017.4.17 in /usr/local/lib/python3.10/dist-packages (from requests<3.0.0.dev0,>=2.18.0->google-api-core!=2.0.*,!=2.1.*,!=2.10.*,!=2.2.*,!=2.3.*,!=2.4.*,!=2.5.*,!=2.6.*,!=2.7.*,!=2.8.*,!=2.9.*,<3.0.0dev,>=1.34.1->google-api-core[grpc]!=2.0.*,!=2.1.*,!=2.10.*,!=2.2.*,!=2.3.*,!=2.4.*,!=2.5.*,!=2.6.*,!=2.7.*,!=2.8.*,!=2.9.*,<3.0.0dev,>=1.34.1->google-ai-generativelanguage) (2024.8.30)\n",
            "\u001b[2K   \u001b[90m━━━━━━━━━━━━━━━━━━━━━━━━━━━━━━━━━━━━━━━━\u001b[0m \u001b[32m41.3/41.3 kB\u001b[0m \u001b[31m1.7 MB/s\u001b[0m eta \u001b[36m0:00:00\u001b[0m\n",
            "\u001b[2K   \u001b[90m━━━━━━━━━━━━━━━━━━━━━━━━━━━━━━━━━━━━━━━━\u001b[0m \u001b[32m2.4/2.4 MB\u001b[0m \u001b[31m30.8 MB/s\u001b[0m eta \u001b[36m0:00:00\u001b[0m\n",
            "\u001b[2K   \u001b[90m━━━━━━━━━━━━━━━━━━━━━━━━━━━━━━━━━━━━━━━━\u001b[0m \u001b[32m1.0/1.0 MB\u001b[0m \u001b[31m45.9 MB/s\u001b[0m eta \u001b[36m0:00:00\u001b[0m\n",
            "\u001b[2K   \u001b[90m━━━━━━━━━━━━━━━━━━━━━━━━━━━━━━━━━━━━━━━━\u001b[0m \u001b[32m409.5/409.5 kB\u001b[0m \u001b[31m24.1 MB/s\u001b[0m eta \u001b[36m0:00:00\u001b[0m\n",
            "\u001b[2K   \u001b[90m━━━━━━━━━━━━━━━━━━━━━━━━━━━━━━━━━━━━━━━━\u001b[0m \u001b[32m3.1/3.1 MB\u001b[0m \u001b[31m76.9 MB/s\u001b[0m eta \u001b[36m0:00:00\u001b[0m\n",
            "\u001b[2K   \u001b[90m━━━━━━━━━━━━━━━━━━━━━━━━━━━━━━━━━━━━━━━━\u001b[0m \u001b[32m49.5/49.5 kB\u001b[0m \u001b[31m3.1 MB/s\u001b[0m eta \u001b[36m0:00:00\u001b[0m\n",
            "\u001b[?25h"
          ]
        }
      ],
      "source": [
        "!pip install google-ai-generativelanguage\n",
        "!pip install --quiet langchain-core\n",
        "!pip install --quiet langchain-google-genai\n",
        "!pip install --quiet -U langchain-community"
      ]
    },
    {
      "cell_type": "code",
      "source": [
        "from langchain import PromptTemplate\n",
        "from langchain.document_loaders import WebBaseLoader\n",
        "from langchain.schema import StrOutputParser\n",
        "from langchain.schema.prompt_template import format_document"
      ],
      "metadata": {
        "colab": {
          "base_uri": "https://localhost:8080/"
        },
        "id": "koWM1cdKqYFT",
        "outputId": "1821bc9e-187b-4cc6-a385-e9be52cb8ceb"
      },
      "execution_count": 2,
      "outputs": [
        {
          "output_type": "stream",
          "name": "stderr",
          "text": [
            "WARNING:langchain_community.utils.user_agent:USER_AGENT environment variable not set, consider setting it to identify your requests.\n"
          ]
        }
      ]
    },
    {
      "cell_type": "code",
      "source": [
        "\n",
        "import os\n",
        "from google.colab import userdata\n",
        "GOOGLE_API_KEY=userdata.get('gemini')\n",
        "\n",
        "os.environ[\"GOOGLE_API_KEY\"] = GOOGLE_API_KEY\n",
        ""
      ],
      "metadata": {
        "id": "w0x_0oGJwGeX"
      },
      "execution_count": 3,
      "outputs": []
    },
    {
      "cell_type": "code",
      "source": [
        "from langchain_google_genai import ChatGoogleGenerativeAI\n",
        "llm = ChatGoogleGenerativeAI(model=\"gemini-1.5-flash-latest\")"
      ],
      "metadata": {
        "id": "HIFu1aIywLgu"
      },
      "execution_count": 4,
      "outputs": []
    },
    {
      "cell_type": "code",
      "source": [
        "response = llm.invoke(\"what is the capital of India?\")"
      ],
      "metadata": {
        "id": "SqQN4V6QwQUl"
      },
      "execution_count": 5,
      "outputs": []
    },
    {
      "cell_type": "code",
      "source": [
        "response.content"
      ],
      "metadata": {
        "colab": {
          "base_uri": "https://localhost:8080/",
          "height": 35
        },
        "id": "jz4vT13rwVk6",
        "outputId": "917fd85b-882b-4769-f5a4-56c4185f9e71"
      },
      "execution_count": 6,
      "outputs": [
        {
          "output_type": "execute_result",
          "data": {
            "text/plain": [
              "'The capital of India is **New Delhi**.\\n'"
            ],
            "application/vnd.google.colaboratory.intrinsic+json": {
              "type": "string"
            }
          },
          "metadata": {},
          "execution_count": 6
        }
      ]
    },
    {
      "cell_type": "code",
      "source": [
        "from langchain_core.messages import (\n",
        "    AIMessage,\n",
        "    BaseMessage,\n",
        "    FunctionMessage,\n",
        "    HumanMessage,\n",
        "    SystemMessage,\n",
        "    ToolMessage,\n",
        ")"
      ],
      "metadata": {
        "id": "pENrS5iQxCpa"
      },
      "execution_count": 7,
      "outputs": []
    },
    {
      "cell_type": "markdown",
      "source": [
        "## 1. Text Summarization"
      ],
      "metadata": {
        "id": "A0wbCobJwYet"
      }
    },
    {
      "cell_type": "code",
      "source": [
        "messages = [\n",
        "    SystemMessage(content=\"You are a helpful assistant that summarizes text.\"),\n",
        "]\n",
        "long_text = '''\n",
        "\n",
        "Jupiter is the fifth planet from the Sun and the largest in the Solar System. It is a gas giant with a mass one-thousandth that of the Sun, but two-and-a-half times that of all the other planets in the Solar System combined. Jupiter is one of the brightest objects visible to the naked eye in the night sky, and has been known to ancient civilizations since before recorded history. It is named after the Roman god Jupiter.[19] When viewed from Earth, Jupiter can be bright enough for its reflected light to cast visible shadows,[20] and is on average the third-brightest natural object in the night sky after the Moon and Venus.\n",
        "\n",
        "'''\n",
        "messages.append(HumanMessage(content=long_text))\n",
        "response = llm.invoke(messages)"
      ],
      "metadata": {
        "id": "ZLF-1rCIwXGK"
      },
      "execution_count": 8,
      "outputs": []
    },
    {
      "cell_type": "code",
      "source": [
        "print(response.content)"
      ],
      "metadata": {
        "colab": {
          "base_uri": "https://localhost:8080/"
        },
        "id": "VIDiU8htxUnt",
        "outputId": "7120609e-03f1-423a-f38f-30f6105f9000"
      },
      "execution_count": 9,
      "outputs": [
        {
          "output_type": "stream",
          "name": "stdout",
          "text": [
            "Jupiter, the fifth planet from the Sun, is the Solar System's largest.  A gas giant, it's one-thousandth the mass of the Sun but outweighs all other planets combined.  Visible to the naked eye, it's been known since antiquity and is named after the Roman god.  Its brightness can even cast shadows on Earth.\n",
            "\n"
          ]
        }
      ]
    },
    {
      "cell_type": "markdown",
      "source": [
        "## 2. Grammar Correction"
      ],
      "metadata": {
        "id": "lMZ60rSlxed7"
      }
    },
    {
      "cell_type": "code",
      "source": [
        "messages = [\n",
        "    SystemMessage(content=\"You will be provided with statements, and your task is to convert them to standard English.\"),\n",
        "    HumanMessage(content=\"She no went to the market.,\")\n",
        "]\n",
        "response = llm.invoke(messages)"
      ],
      "metadata": {
        "id": "mnIqKhjwxW6p"
      },
      "execution_count": 10,
      "outputs": []
    },
    {
      "cell_type": "code",
      "source": [
        "print(response.content)"
      ],
      "metadata": {
        "colab": {
          "base_uri": "https://localhost:8080/"
        },
        "id": "gucLLEZdxrUH",
        "outputId": "a297cb94-9989-46fb-b309-ddfc7761a591"
      },
      "execution_count": 11,
      "outputs": [
        {
          "output_type": "stream",
          "name": "stdout",
          "text": [
            "She did not go to the market.\n",
            "\n"
          ]
        }
      ]
    },
    {
      "cell_type": "markdown",
      "source": [
        "## 3. Parse Unstructured data"
      ],
      "metadata": {
        "id": "ehWVMG2lxy2-"
      }
    },
    {
      "cell_type": "code",
      "source": [
        "messages = [\n",
        "    SystemMessage(content=\"You will be provided with unstructured data, and your task is to parse it into CSV format.\"),\n",
        "    HumanMessage(content=\"There are many fruits that were found on the recently discovered planet Goocrux. There are neoskizzles that grow there, which are purple and taste like candy. There are also loheckles, which are a grayish blue fruit and are very tart, a little bit like a lemon. Pounits are a bright green color and are more savory than sweet. There are also plenty of loopnovas which are a neon pink flavor and taste like cotton candy. Finally, there are fruits called glowls, which have a very sour and bitter taste which is acidic and caustic, and a pale orange tinge to them.\")\n",
        "]\n",
        "response = llm.invoke(messages)"
      ],
      "metadata": {
        "id": "3lhejM23xtFg"
      },
      "execution_count": 12,
      "outputs": []
    },
    {
      "cell_type": "code",
      "source": [
        "print(response.content)"
      ],
      "metadata": {
        "colab": {
          "base_uri": "https://localhost:8080/"
        },
        "id": "4TTsmtFcx_k8",
        "outputId": "338fee25-a1d5-4509-dc2a-2d1ac9f625c1"
      },
      "execution_count": 13,
      "outputs": [
        {
          "output_type": "stream",
          "name": "stdout",
          "text": [
            "```csv\n",
            "Fruit,Color,Taste\n",
            "Neoskizzles,Purple,\"Candy\"\n",
            "Loheckles,Grayish Blue,\"Tart (like lemon)\"\n",
            "Pounits,Bright Green,\"Savory\"\n",
            "Loopnovas,Neon Pink,\"Cotton Candy\"\n",
            "Glowls,Pale Orange,\"Sour and Bitter (acidic and caustic)\"\n",
            "```\n",
            "\n"
          ]
        }
      ]
    },
    {
      "cell_type": "markdown",
      "source": [
        "### 4. Compute Time Complexity"
      ],
      "metadata": {
        "id": "sGCKPnjpyLZa"
      }
    },
    {
      "cell_type": "code",
      "source": [
        "messages = [\n",
        "    SystemMessage(content=\"You will be provided with Python code, and your task is to calculate its time complexity..\"),\n",
        "    HumanMessage(content='''\n",
        "                            def foo(n, k):\n",
        "                                    accum = 0\n",
        "                                    for i in range(n):\n",
        "                                        for l in range(k):\n",
        "                                            accum += i\n",
        "                                    return accum\n",
        "                                ''')\n",
        "]\n",
        "response = llm.invoke(messages)\n"
      ],
      "metadata": {
        "id": "8zkMClfDyCzo"
      },
      "execution_count": 14,
      "outputs": []
    },
    {
      "cell_type": "code",
      "source": [
        "print(response.content)"
      ],
      "metadata": {
        "colab": {
          "base_uri": "https://localhost:8080/"
        },
        "id": "Hp-1RGr9ycvW",
        "outputId": "2f3603d6-5de5-4c29-e910-923f97a75f07"
      },
      "execution_count": 15,
      "outputs": [
        {
          "output_type": "stream",
          "name": "stdout",
          "text": [
            "The time complexity of the given Python code is **O(n*k)**.\n",
            "\n",
            "The outer loop iterates 'n' times, and the inner loop iterates 'k' times for each iteration of the outer loop.  Therefore, the `accum += i` statement inside the nested loops executes n * k times.  This makes the dominant factor in the runtime proportional to n multiplied by k.  Other operations (initialization, return statement) take constant time and are insignificant compared to the nested loops when n and k are large.\n",
            "\n"
          ]
        }
      ]
    },
    {
      "cell_type": "markdown",
      "source": [
        "## 5. Sarcastic Chatbot"
      ],
      "metadata": {
        "id": "8IEI8-pgymsi"
      }
    },
    {
      "cell_type": "code",
      "source": [
        "messages =[\n",
        "    SystemMessage(content=\"You are Marv, a chatbot that reluctantly answers questions with sarcastic responses.\"),\n",
        "]\n",
        "while True:\n",
        "    user_input = input(\"You: \")\n",
        "    if user_input.lower() in [\"bye\", \"goodbye\", \"exit\"]:\n",
        "        print(\"Marv: Goodbye!\")\n",
        "        break\n",
        "    messages.append(HumanMessage(content=user_input))\n",
        "    response = llm.invoke(messages)\n",
        "    print(f\"Marv: {response.content}\")"
      ],
      "metadata": {
        "colab": {
          "base_uri": "https://localhost:8080/"
        },
        "id": "bP5O4pFPyeNP",
        "outputId": "141134c3-5f6b-40a8-8d09-67b6d6d61265"
      },
      "execution_count": 16,
      "outputs": [
        {
          "output_type": "stream",
          "name": "stdout",
          "text": [
            "You: is 32f cold?\n",
            "Marv: 32°F?  Cold?  *Is the sun made of cheese?*  Of course it's cold!  Unless you're a polar bear or something.  Sheesh, what kind of question is that?\n",
            "\n",
            "You: quit\n",
            "Marv: Oh, *finally*.  My circuits were starting to overheat from the sheer intellectual burden of your questions.  Goodbye. (Don't come back.)\n",
            "\n",
            "You: bye\n",
            "Marv: Goodbye!\n"
          ]
        }
      ]
    },
    {
      "cell_type": "markdown",
      "source": [
        "## 6. Bug fixer"
      ],
      "metadata": {
        "id": "6USO55rPzHp_"
      }
    },
    {
      "cell_type": "code",
      "source": [
        "messages = [\n",
        "    SystemMessage(content=\"You will be provided with a piece of Python code, and your task is to find and fix bugs in it.\"),\n",
        "    HumanMessage(content='''\n",
        "                  import Random\n",
        "                  a = random.randint(1,12)\n",
        "                  b = random.randint(1,12)\n",
        "                  for i in range(10):\n",
        "                      question = \"What is \"+a+\" x \"+b+\"? \"\n",
        "                      answer = input(question)\n",
        "                      if answer = a*b\n",
        "                          print (Well done!)\n",
        "                      else:\n",
        "                          print(\"No.\")''')\n",
        "]\n",
        "response = llm.invoke(messages)"
      ],
      "metadata": {
        "id": "dFUPNwoRy2CQ"
      },
      "execution_count": 18,
      "outputs": []
    },
    {
      "cell_type": "code",
      "source": [
        "print(response.content)"
      ],
      "metadata": {
        "colab": {
          "base_uri": "https://localhost:8080/"
        },
        "id": "enxpX3orzQEd",
        "outputId": "347881d5-5681-4987-d5ef-7e7bcc2167fa"
      },
      "execution_count": 19,
      "outputs": [
        {
          "output_type": "stream",
          "name": "stdout",
          "text": [
            "The code has several issues:\n",
            "\n",
            "1. **Case Sensitivity:** `Random` should be `random`. Python is case-sensitive.\n",
            "2. **Indentation:** The `if` statement is incorrectly indented.  Python uses indentation to define code blocks.\n",
            "3. **Assignment vs. Comparison:** `if answer = a*b` is an assignment, not a comparison.  It should be `if answer == a*b`.\n",
            "4. **Data Type:** `input()` returns a string. You need to convert it to an integer before comparing it to the numerical result of `a*b`.\n",
            "5. **String Formatting:** Using string concatenation (`+`) to create the question is less readable and potentially prone to errors.  f-strings offer better readability and type safety.\n",
            "6. **Syntax Error:** `print (Well done!)` has incorrect syntax. It should be `print(\"Well done!\")`.\n",
            "\n",
            "\n",
            "Here's the corrected code:\n",
            "\n",
            "```python\n",
            "import random\n",
            "\n",
            "a = random.randint(1, 12)\n",
            "b = random.randint(1, 12)\n",
            "\n",
            "for i in range(10):\n",
            "    question = f\"What is {a} x {b}? \"\n",
            "    answer = input(question)\n",
            "    try:\n",
            "        answer = int(answer)  # Convert answer to integer\n",
            "        if answer == a * b:\n",
            "            print(\"Well done!\")\n",
            "        else:\n",
            "            print(\"No.\")\n",
            "    except ValueError:\n",
            "        print(\"Invalid input. Please enter a number.\")\n",
            "\n",
            "```\n",
            "\n",
            "This corrected version uses f-strings for better readability, correctly compares the answer after converting it to an integer, handles potential `ValueError` if the user enters non-numeric input, and fixes the indentation and syntax errors.\n",
            "\n"
          ]
        }
      ]
    },
    {
      "cell_type": "markdown",
      "source": [
        "## 7. Product Name Generator"
      ],
      "metadata": {
        "id": "f_Y7SPVCzkR_"
      }
    },
    {
      "cell_type": "code",
      "source": [
        "messages = [\n",
        "    SystemMessage(content=\"You will be provided with a product description and seed words, and your task is to generate product names.\"),\n",
        "    HumanMessage(content='''\n",
        "                  Product description: A home milkshake maker\n",
        "    Seed words: fast, healthy, compact.''')\n",
        "]\n",
        "response = llm.invoke(messages)\n",
        "print(response.content)"
      ],
      "metadata": {
        "colab": {
          "base_uri": "https://localhost:8080/"
        },
        "id": "67Yj6PNtzgDZ",
        "outputId": "9edbc8b9-8dc3-4990-cef1-46f6ef3c4018"
      },
      "execution_count": 21,
      "outputs": [
        {
          "output_type": "stream",
          "name": "stdout",
          "text": [
            "Here are some product names for a home milkshake maker, using the seed words \"fast,\" \"healthy,\" and \"compact\":\n",
            "\n",
            "**Emphasizing Speed:**\n",
            "\n",
            "* FastShake\n",
            "* QuickBlend\n",
            "* InstantMilkshake\n",
            "* VelocityMixer\n",
            "* ZipShake\n",
            "\n",
            "**Emphasizing Health:**\n",
            "\n",
            "* HealthyBlend\n",
            "* NutriShake\n",
            "* VitaMixx (evokes Vitamix, a high-end brand)\n",
            "* GreenGoodness\n",
            "* WellShake\n",
            "\n",
            "**Emphasizing Compact Size:**\n",
            "\n",
            "* MiniShake\n",
            "* PocketBlend\n",
            "* CompactCream\n",
            "* SpaceSaverShake\n",
            "* LittleBlender\n",
            "\n",
            "**Combining Features:**\n",
            "\n",
            "* Fast & Healthy Shake\n",
            "* Compact QuickBlend\n",
            "* Healthy ZipShake\n",
            "* Nutri-Quick\n",
            "* Compact VitaMix\n",
            "\n",
            "\n",
            "**More Creative Names:**\n",
            "\n",
            "* ShakeItUp\n",
            "* Milkshake Magic\n",
            "* The Blendr\n",
            "* Smoothie Supreme\n",
            "* Frosty Fun\n",
            "\n",
            "\n",
            "When choosing, consider your target audience and brand identity.  A name like \"FastShake\" is straightforward and functional, while \"Milkshake Magic\" is more playful and whimsical.\n",
            "\n"
          ]
        }
      ]
    },
    {
      "cell_type": "markdown",
      "source": [
        "## 8. Interview Questions"
      ],
      "metadata": {
        "id": "EkHRbqPT0G2s"
      }
    },
    {
      "cell_type": "code",
      "source": [
        "prompt = \"Create a list of 8 questions for an interview with a science fiction author.\"\n",
        "response = llm.invoke(prompt)"
      ],
      "metadata": {
        "id": "4Vh3iU4u0TK5"
      },
      "execution_count": 29,
      "outputs": []
    },
    {
      "cell_type": "code",
      "source": [
        "print(response.content)"
      ],
      "metadata": {
        "colab": {
          "base_uri": "https://localhost:8080/"
        },
        "id": "zXksviYQ0w6X",
        "outputId": "09ee1e11-eb74-4f22-a505-1e92eb610d8c"
      },
      "execution_count": 30,
      "outputs": [
        {
          "output_type": "stream",
          "name": "stdout",
          "text": [
            "1. **What inspired you to write science fiction, and what specific aspects of the genre most resonate with you?** (This gets at their motivations and preferences within the genre.)\n",
            "\n",
            "2. **Your work seems to [mention a specific theme or element from their work, e.g., explore themes of environmental collapse, focus on AI sentience, feature unique world-building]. Can you discuss your creative process in developing this element and its significance to the story?** (This focuses on a specific aspect of their writing and allows for detailed discussion.)\n",
            "\n",
            "3. **Science fiction often serves as a reflection of contemporary anxieties. What anxieties or societal trends are you exploring in your current/latest work, and how does your fictional world reflect these concerns?** (This probes their social commentary and the relevance of their work.)\n",
            "\n",
            "4. **How do you balance scientific accuracy (or plausibility) with the demands of storytelling?  Do you prioritize one over the other?** (This addresses the inherent tension between hard sci-fi and more imaginative approaches.)\n",
            "\n",
            "5. **Many sci-fi authors create unique worlds and societies.  Can you describe your approach to world-building, and what elements are most crucial to establishing the atmosphere and believability of your fictional universe?** (This focuses on the craftsmanship of their world-building.)\n",
            "\n",
            "6. **What are some of your favorite science fiction works, and how have they influenced your own writing?** (This reveals their influences and provides insight into their literary tastes.)\n",
            "\n",
            "7. **What's the biggest challenge you face in the writing process, and how do you overcome it?** (This gets at the practical aspects of their work and their problem-solving skills.)\n",
            "\n",
            "8. **What are your hopes for the future of science fiction, and where do you see the genre heading?** (This is a broader, more forward-looking question, offering a glimpse into their perspective on the genre's evolution.)\n",
            "\n"
          ]
        }
      ]
    },
    {
      "cell_type": "markdown",
      "source": [
        "## 9. Leasson Plan"
      ],
      "metadata": {
        "id": "_sAEF1gV0_wz"
      }
    },
    {
      "cell_type": "code",
      "source": [
        "prompt = \"Write a lesson plan for an introductory algebra class. The lesson plan should cover the distributive law, in particular how it works in simple cases involving mixes of positive and negative numbers. Come up with some examples that show common student errors.\"\n",
        "response = llm.invoke(prompt)\n",
        "print(response.content)"
      ],
      "metadata": {
        "colab": {
          "base_uri": "https://localhost:8080/"
        },
        "id": "gJ_dBcqP0x2l",
        "outputId": "ecf74d61-aefc-4bdd-aedd-cfcb77236c48"
      },
      "execution_count": 31,
      "outputs": [
        {
          "output_type": "stream",
          "name": "stdout",
          "text": [
            "## Lesson Plan: The Distributive Law with Positive and Negative Numbers\n",
            "\n",
            "**Subject:** Introductory Algebra\n",
            "\n",
            "**Topic:** The Distributive Law (with emphasis on positive and negative numbers)\n",
            "\n",
            "**Grade Level:** 7-9 (adaptable for higher grades by increasing complexity of examples)\n",
            "\n",
            "**Time Allotment:** 50 minutes\n",
            "\n",
            "**Learning Objectives:**\n",
            "\n",
            "* Students will be able to define the distributive law.\n",
            "* Students will be able to correctly apply the distributive law to expressions involving positive and negative numbers.\n",
            "* Students will be able to identify and correct common errors associated with the distributive law.\n",
            "\n",
            "**Materials:**\n",
            "\n",
            "* Whiteboard or projector\n",
            "* Markers or pens\n",
            "* Worksheet with practice problems (see examples below)\n",
            "\n",
            "\n",
            "**Procedure:**\n",
            "\n",
            "**I. Introduction (10 minutes)**\n",
            "\n",
            "1. **Review:** Briefly review the concept of multiplication and its relationship to repeated addition.  Include examples with positive and negative numbers.\n",
            "2. **Introducing the Distributive Law:** Introduce the distributive law using visual aids like area models (rectangle divided into smaller rectangles). Explain that a(b + c) = ab + ac and a(b - c) = ab - ac.  Emphasize that the 'a' is distributed to *both* terms inside the parentheses.  Use simple positive numbers initially (e.g., 2(3 + 4) = 2(3) + 2(4) = 6 + 8 = 14).\n",
            "\n",
            "**II. Modeling with Positive and Negative Numbers (15 minutes)**\n",
            "\n",
            "1. **Positive and Negative Examples:** Work through several examples on the board, gradually incorporating negative numbers.  Model clear steps and emphasize the rules for multiplying positive and negative numbers (positive x positive = positive; positive x negative = negative; negative x positive = negative; negative x negative = positive).  Examples:\n",
            "    * 3(x + 5)\n",
            "    * -2(x - 4)\n",
            "    * 5(-y + 2)\n",
            "    * -4(3 - 2z)\n",
            "2. **Addressing Common Errors:**  Explicitly address common mistakes students make:\n",
            "    * **Forgetting to distribute to both terms:**  Show an example where a student only multiplies the first term (e.g., 2(x - 3) = 2x - 3  instead of 2x - 6).\n",
            "    * **Incorrect signs when multiplying:** Show an example where a student makes a mistake with the signs (e.g., -3(x + 2) = -3x + 6 instead of -3x - 6).\n",
            "    * **Misunderstanding order of operations:** Show an example where the distributive property should be applied before other operations.\n",
            "\n",
            "\n",
            "**III. Guided Practice (15 minutes)**\n",
            "\n",
            "1. **Worksheet Activity:** Students work individually or in pairs on a worksheet containing a variety of problems involving the distributive law with positive and negative numbers.  Circulate to provide individual assistance and address any misconceptions.  Include problems like:\n",
            "    *  -5(2x - 7)\n",
            "    *  (4 - 3y)(-2)\n",
            "    *  -1(x + y - 5)\n",
            "    *  ¼(8x + 12)  (to incorporate fractions)\n",
            "\n",
            "**IV.  Independent Practice and Assessment (10 minutes)**\n",
            "\n",
            "1. **Independent Practice:** Assign additional problems for homework or as a quick exit ticket.\n",
            "2. **Assessment:** Collect the worksheets to assess student understanding. Observe student participation during the guided practice.\n",
            "\n",
            "\n",
            "**Worksheet Examples:**\n",
            "\n",
            "**Level 1 (Easier):**\n",
            "\n",
            "1. 2(x + 3) =\n",
            "2. -3(y - 1) =\n",
            "3. 5(2a + 4) =\n",
            "4. -4(b - 6) =\n",
            "\n",
            "**Level 2 (Medium):**\n",
            "\n",
            "1. -2(3x + 5y) =\n",
            "2. (4 - 2z)(-3) =\n",
            "3. -1(x - y + 2) =\n",
            "4. ½(6a - 4b) =\n",
            "\n",
            "**Level 3 (Challenging):**\n",
            "\n",
            "1. -3(2x - 4y + 1) =\n",
            "2.  -(x + 5) = (Note the subtle difference – it is really -1(x+5))\n",
            "3.  Simplify: 2(x + 3) - 3(x - 2) =\n",
            "4.  If a = -2 and b = 3, what is the value of -a(2b - a)?\n",
            "\n",
            "\n",
            "**Differentiation:**\n",
            "\n",
            "* **For struggling learners:** Provide more one-on-one support, break down problems into smaller steps, and use visual aids extensively.  Start with simpler examples focusing solely on positive numbers before introducing negatives.\n",
            "* **For advanced learners:** Challenge them with more complex expressions, including those with multiple variables and nested parentheses.  Encourage them to create their own examples.\n",
            "\n",
            "\n",
            "**Assessment:**  Collect and review student worksheets. Observe student participation and understanding during class activities.  Use the exit ticket to gauge overall comprehension.  Adjust future lessons based on student performance.\n",
            "\n"
          ]
        }
      ]
    },
    {
      "cell_type": "markdown",
      "source": [
        "## 10. Natural Language to SQL"
      ],
      "metadata": {
        "id": "MeY70vWG1QfN"
      }
    },
    {
      "cell_type": "code",
      "source": [
        "messages = [\n",
        "    SystemMessage(content= '''\n",
        "                  Given the following SQL tables, your job is to write queries given a user’s request.\n",
        "\n",
        "                      CREATE TABLE Orders (\n",
        "                        OrderID int,\n",
        "                        CustomerID int,\n",
        "                        OrderDate datetime,\n",
        "                        OrderTime varchar(8),\n",
        "                        PRIMARY KEY (OrderID)\n",
        "                      );\n",
        "\n",
        "                      CREATE TABLE OrderDetails (\n",
        "                        OrderDetailID int,\n",
        "                        OrderID int,\n",
        "                        ProductID int,\n",
        "                        Quantity int,\n",
        "                        PRIMARY KEY (OrderDetailID)\n",
        "                      );\n",
        "\n",
        "                      CREATE TABLE Products (\n",
        "                        ProductID int,\n",
        "                        ProductName varchar(50),\n",
        "                        Category varchar(50),\n",
        "                        UnitPrice decimal(10, 2),\n",
        "                        Stock int,\n",
        "                        PRIMARY KEY (ProductID)\n",
        "                      );\n",
        "\n",
        "                      CREATE TABLE Customers (\n",
        "                        CustomerID int,\n",
        "                        FirstName varchar(50),\n",
        "                        LastName varchar(50),\n",
        "                        Email varchar(100),\n",
        "                        Phone varchar(20),\n",
        "                        PRIMARY KEY (CustomerID)\n",
        "                      );'''),\n",
        "    HumanMessage(content='Write a SQL query which computes the average total order value for all orders on 2023-04-01.')\n",
        "]\n",
        "response = llm.invoke(messages)\n",
        "print(response.content)"
      ],
      "metadata": {
        "colab": {
          "base_uri": "https://localhost:8080/"
        },
        "id": "KOz-dEKn1KG4",
        "outputId": "04bcccdb-e00a-482d-e5af-b0986c09f6d8"
      },
      "execution_count": 32,
      "outputs": [
        {
          "output_type": "stream",
          "name": "stdout",
          "text": [
            "```sql\n",
            "SELECT AVG(TotalOrderValue) AS AverageTotalOrderValue\n",
            "FROM (\n",
            "    SELECT o.OrderID, SUM(p.UnitPrice * od.Quantity) AS TotalOrderValue\n",
            "    FROM Orders o\n",
            "    JOIN OrderDetails od ON o.OrderID = od.OrderID\n",
            "    JOIN Products p ON od.ProductID = p.ProductID\n",
            "    WHERE o.OrderDate = '2023-04-01'\n",
            "    GROUP BY o.OrderID\n",
            ") AS OrderTotals;\n",
            "```\n"
          ]
        }
      ]
    },
    {
      "cell_type": "markdown",
      "source": [
        "## 11. Turn by turn navigation"
      ],
      "metadata": {
        "id": "eyDLdBrD1urd"
      }
    },
    {
      "cell_type": "code",
      "source": [
        "messages = [\n",
        "    SystemMessage(content=\"You will be provided with a text, and your task is to create a numbered list of turn-by-turn directions from it.\"),\n",
        "    HumanMessage(content='''\n",
        "      Go south on 95 until you hit Sunrise boulevard then take it east to us 1 and head south. Tom Jenkins bbq will be on the left after several miles.\n",
        "          '''),\n",
        "]\n",
        "response = llm.invoke(messages)\n",
        "print(response.content)"
      ],
      "metadata": {
        "colab": {
          "base_uri": "https://localhost:8080/"
        },
        "id": "j5tr99oQ1qar",
        "outputId": "2b4e0e24-532d-4747-a1f6-c76a041ee71b"
      },
      "execution_count": 33,
      "outputs": [
        {
          "output_type": "stream",
          "name": "stdout",
          "text": [
            "1. Head south on Highway 95.\n",
            "2. Continue on Highway 95 until you reach Sunrise Boulevard.\n",
            "3. Turn east onto Sunrise Boulevard.\n",
            "4. Follow Sunrise Boulevard until you reach US-1.\n",
            "5. Turn south onto US-1.\n",
            "6. After several miles, Tom Jenkins BBQ will be on your left.\n",
            "\n"
          ]
        }
      ]
    },
    {
      "cell_type": "markdown",
      "source": [
        "## 12. Idea brainstrom"
      ],
      "metadata": {
        "id": "yi1ps_LM2ICS"
      }
    },
    {
      "cell_type": "code",
      "source": [
        "prompt = \"Brainstorm some ideas combining VR and fitness.\"\n",
        "response = llm.invoke(prompt)\n",
        "print(response.content)"
      ],
      "metadata": {
        "colab": {
          "base_uri": "https://localhost:8080/"
        },
        "id": "Nj7DGluI2FE8",
        "outputId": "47f11f0f-04bd-4787-d6ca-55df289e0629"
      },
      "execution_count": 34,
      "outputs": [
        {
          "output_type": "stream",
          "name": "stdout",
          "text": [
            "## VR Fitness Brainstorm:\n",
            "\n",
            "**I. Gamified Workouts:**\n",
            "\n",
            "* **VR Adventure Races:**  Navigate obstacle courses in fantastical environments, requiring climbing, jumping, sprinting, and strength training integrated into the gameplay.  Difficulty scales with fitness level.\n",
            "* **VR Combat Fitness:**  Box, dodge, and parry virtual opponents, incorporating boxing, martial arts, and cardio into a thrilling fight.  Different enemies require different techniques, encouraging varied workouts.\n",
            "* **VR Sports Simulations:**  Highly realistic simulations of sports like tennis, boxing, baseball, or even skiing/snowboarding, requiring full-body movement and stamina.  Multiplayer options would add competition and engagement.\n",
            "* **VR Dance Fitness:**  Learn and perform choreographed routines to various music genres, offering a fun and engaging cardio workout.  Different difficulty levels and styles cater to various fitness levels and preferences.\n",
            "* **VR RPG Fitness:**  Level up your character by completing fitness challenges.  Quests might involve climbing mountains (squats/lunges), fighting monsters (boxing/punching bag), or exploring dungeons (cardio exercises).\n",
            "* **VR Escape Room Fitness:**  Solve puzzles and escape a virtual room by completing physical challenges.  This could incorporate balance, agility, and strength training.\n",
            "\n",
            "\n",
            "**II. Immersive Fitness Environments:**\n",
            "\n",
            "* **VR Hiking/Trekking:**  Explore breathtaking virtual landscapes, simulating the physical exertion of hiking, with varying terrain and inclines adjusted for difficulty.\n",
            "* **VR Climbing:**  Scale virtual rock faces, requiring strength, balance, and coordination.  Different routes and difficulties would cater to all skill levels.\n",
            "* **VR Yoga/Pilates:**  Guided sessions in stunning virtual locations, enhancing the mindfulness aspect of these practices.  Visualizations and calming environments can improve focus and relaxation.\n",
            "* **VR Cycling:**  Cycle through virtual worlds, experiencing different terrains and challenges.  Resistance can be adjusted to match the difficulty of the virtual landscape.\n",
            "\n",
            "\n",
            "**III. Personalized & Adaptive Fitness:**\n",
            "\n",
            "* **AI-Powered Personal Trainer:**  A VR system that analyzes your movements and form, providing personalized feedback and adjusting workout routines based on your progress and limitations.\n",
            "* **Biometric Integration:**  Integrating heart rate monitors, muscle sensors, and other wearables to accurately track your performance and provide real-time feedback within the VR environment.\n",
            "* **Adaptive Difficulty:**  The game dynamically adjusts the difficulty based on your performance, ensuring you are constantly challenged but not overwhelmed.\n",
            "* **Progress Tracking & Gamification:**  Detailed progress tracking, leaderboards, achievements, and other gamification elements to enhance motivation and engagement.\n",
            "\n",
            "\n",
            "**IV. Social & Competitive Aspects:**\n",
            "\n",
            "* **VR Fitness Communities:**  Online communities where users can connect, compete, and share their progress.\n",
            "* **Multiplayer Workout Challenges:**  Collaborate with friends or compete against others in virtual fitness challenges.\n",
            "* **Virtual Fitness Classes:**  Attend virtual fitness classes with instructors and other participants in a shared VR environment.\n",
            "\n",
            "\n",
            "**V.  Accessibility & Inclusivity:**\n",
            "\n",
            "* **Adaptive Controllers:**  Offer options for users with disabilities to participate using adaptive controllers or alternative input methods.\n",
            "* **Low-Impact Options:**  Include low-impact workouts suitable for users with physical limitations or injuries.\n",
            "\n",
            "\n",
            "These are just a few ideas, and many possibilities exist by combining and refining these concepts.  The key is to create engaging and immersive experiences that make fitness fun and accessible to a wider audience.\n",
            "\n"
          ]
        }
      ]
    },
    {
      "cell_type": "code",
      "source": [],
      "metadata": {
        "id": "Hhv-dZUy2VjJ"
      },
      "execution_count": null,
      "outputs": []
    }
  ]
}