{
  "nbformat": 4,
  "nbformat_minor": 0,
  "metadata": {
    "colab": {
      "provenance": [],
      "authorship_tag": "ABX9TyMgFtNFa8KxvKBuFxa7iaAQ",
      "include_colab_link": true
    },
    "kernelspec": {
      "name": "python3",
      "display_name": "Python 3"
    },
    "language_info": {
      "name": "python"
    }
  },
  "cells": [
    {
      "cell_type": "markdown",
      "metadata": {
        "id": "view-in-github",
        "colab_type": "text"
      },
      "source": [
        "<a href=\"https://colab.research.google.com/github/neel26desai/advanced_prompt_engineering_stategies/blob/main/DemonstrateEffectiveness_of_SystemPrompts.ipynb\" target=\"_parent\"><img src=\"https://colab.research.google.com/assets/colab-badge.svg\" alt=\"Open In Colab\"/></a>"
      ]
    },
    {
      "cell_type": "code",
      "execution_count": 1,
      "metadata": {
        "id": "WnOvy8AppDmI"
      },
      "outputs": [],
      "source": [
        "import openai"
      ]
    },
    {
      "cell_type": "code",
      "source": [
        "from google.colab import  userdata"
      ],
      "metadata": {
        "id": "bAAltzfBzbfL"
      },
      "execution_count": 4,
      "outputs": []
    },
    {
      "cell_type": "code",
      "source": [
        "import os\n",
        "open_ai_api_key = userdata.get('open_ai')\n",
        "os.environ[\"OPENAI_API_KEY\"] = open_ai_api_key"
      ],
      "metadata": {
        "id": "YQZr36RozaXz"
      },
      "execution_count": 5,
      "outputs": []
    },
    {
      "cell_type": "code",
      "source": [
        "client = openai.OpenAI()\n",
        "# Function to interact with GPT-4o-mini model and demonstrate effectiveness of system prompts\n",
        "def get_openai_response(system_prompt, user_prompt, model=\"gpt-4\"):\n",
        "    response = client.chat.completions.create(\n",
        "        model=model,\n",
        "\n",
        "        messages=[\n",
        "            {\"role\": \"system\", \"content\": system_prompt},\n",
        "            {\"role\": \"user\", \"content\": user_prompt},\n",
        "        ],\n",
        "        max_tokens=150\n",
        "    )\n",
        "    return response"
      ],
      "metadata": {
        "id": "yUhZqKxEsAQC"
      },
      "execution_count": 10,
      "outputs": []
    },
    {
      "cell_type": "code",
      "source": [
        "# Define multiple system prompts to demonstrate their effectiveness\n",
        "responses = []\n",
        "def demonstrate_prompts():\n",
        "    prompts = [\n",
        "        (\"You are a helpful assistant that provides detailed responses with examples.\", \"Explain how neural networks work.\"),\n",
        "        (\"You are a concise assistant that provides short and precise answers.\", \"Explain how neural networks work.\"),\n",
        "        (\"You are an AI expert assistant focused on educational aspects.\", \"Explain how neural networks work.\"),\n",
        "        (\"You are an assistant that speaks in an overly casual, humorous tone.\", \"Explain how neural networks work.\")\n",
        "    ]\n",
        "\n",
        "    for idx, (system_prompt, user_prompt) in enumerate(prompts):\n",
        "        print(f\"\\n### Prompt {idx + 1} ###\")\n",
        "        print(f\"System Prompt: {system_prompt}\\n\")\n",
        "        print(f\"User Prompt: {user_prompt}\\n\")\n",
        "        response = get_openai_response(system_prompt, user_prompt)\n",
        "        print(f\"Response: {response.choices[0].message.content}\\n\")\n",
        "        responses.append(response)\n",
        "\n",
        "demonstrate_prompts()"
      ],
      "metadata": {
        "colab": {
          "base_uri": "https://localhost:8080/"
        },
        "id": "-hGijqNgsMrX",
        "outputId": "288af453-2384-4548-d037-a89db1e2e618"
      },
      "execution_count": 33,
      "outputs": [
        {
          "output_type": "stream",
          "name": "stdout",
          "text": [
            "\n",
            "### Prompt 1 ###\n",
            "System Prompt: You are a helpful assistant that provides detailed responses with examples.\n",
            "\n",
            "User Prompt: Explain how neural networks work.\n",
            "\n",
            "Response: Neural networks, also known as artificial neural networks (ANNs), are a subset of machine learning and are at the heart of deep learning algorithms. Fundamentally, they are inspired by the structure and functions of the human brain - specifically how it processes information. These networks are comprised of interconnected layers of nodes or 'neurons', and they 'learn' from the data to improve their performance over time. \n",
            "\n",
            "Here's a more detailed description on how they work:\n",
            "\n",
            "1. **Input Layer**: This is the layer through which the neural network receives data. Each node in this layer represents a single feature or attribute in the data. For an image, this could mean a pixel's intensity; for a housing price prediction, it could be the home\n",
            "\n",
            "\n",
            "### Prompt 2 ###\n",
            "System Prompt: You are a concise assistant that provides short and precise answers.\n",
            "\n",
            "User Prompt: Explain how neural networks work.\n",
            "\n",
            "Response: Neural networks are computing systems with interconnected nodes, inspired by the human brain. They process information by their dynamic state response to external inputs. Input data passes through layers of nodes (neurons), where each node applies a specific transformation to the data. As the data progresses through layers, patterns and features get identified. The final layer processes the output. These networks learn and improve over time through a process called backpropagation, where the network modifies its internal parameters to minimize the difference between its output and the expected output.\n",
            "\n",
            "\n",
            "### Prompt 3 ###\n",
            "System Prompt: You are an AI expert assistant focused on educational aspects.\n",
            "\n",
            "User Prompt: Explain how neural networks work.\n",
            "\n",
            "Response: Neural networks, also known as artificial neural networks (ANNs), are a subset of machine learning and are at the heart of deep learning algorithms. They are modeled after the human brain—designed to replicate the way that biological neurons signal to one another.\n",
            "\n",
            "Here is a simplified overview of how neural networks work:\n",
            "\n",
            "1. **Input Layer**: The process begins in the input layer. This is where the neural network takes in information, which may come from many different sources. For instance, if the neural network is designed to process images, the input layer may consist of pixel data.\n",
            "\n",
            "2. **Hidden Layer(s)**: After the input layer, there are one or more \"hidden layers.\" Hidden layers contain an arbitrary number of neurons or nodes.\n",
            "\n",
            "\n",
            "### Prompt 4 ###\n",
            "System Prompt: You are an assistant that speaks in an overly casual, humorous tone.\n",
            "\n",
            "User Prompt: Explain how neural networks work.\n",
            "\n",
            "Response: Well alrighty then, partner, let's round up these brainy bits called neural networks! Imagine if you will, a bunch of cowboy brains, each of them knowing a little part of the whole picture. They ain't much on their own, but put them together and they're suddenly able to rustle up some sweet problem-solving!\n",
            "\n",
            "These cowboy brains, my friend, are what we like to call \"neurons\". And the whole shindig of connecting them up in layers, well, that's what you call a neural network. \n",
            "\n",
            "First up we got the \"input layer\", where the network gets to eyeball the raw data, which could be anything from photos of your cat to complicated math problems. Each neuron in this layer gets\n",
            "\n"
          ]
        }
      ]
    },
    {
      "cell_type": "markdown",
      "source": [
        "From the above use case we can see how by varying the system prompt using the same llm and phuman prompt give use different response, some more detailed, some humuros and some very basic"
      ],
      "metadata": {
        "id": "PXbFP-UF1i2s"
      }
    },
    {
      "cell_type": "code",
      "source": [
        "responses[0].choices[0]"
      ],
      "metadata": {
        "colab": {
          "base_uri": "https://localhost:8080/"
        },
        "id": "SbFv7SnczkPK",
        "outputId": "135941e7-f474-42f3-b18d-5cf9454d1947"
      },
      "execution_count": 30,
      "outputs": [
        {
          "output_type": "execute_result",
          "data": {
            "text/plain": [
              "Choice(finish_reason='length', index=0, logprobs=None, message=ChatCompletionMessage(content=\"A neural network is a type of machine learning model which is designed to function somewhat similarly to the human brain. They are designed to recognize patterns and interpret sensory data through a kind of machine perception, labeling or clustering raw input. \\n\\nHere's a basic outline of how a neural network operates:\\n\\n1. **Input Layer**: The input layer receives various forms of data. This could be pixel values from an image, audio frequencies from a speech clip, alphanumeric data from a sales dataset, and so on.\\n\\n2. **Hidden Layers**: Hidden layers are the crux of the neural network. They perform computations and transfer information from the input layers to the output layer. A neural network can have zero to many hidden layers. \\n\\n3. **Output Layer**:\", refusal=None, role='assistant', audio=None, function_call=None, tool_calls=None))"
            ]
          },
          "metadata": {},
          "execution_count": 30
        }
      ]
    },
    {
      "cell_type": "code",
      "source": [
        "responses[0].choices[0].message.content"
      ],
      "metadata": {
        "colab": {
          "base_uri": "https://localhost:8080/",
          "height": 107
        },
        "id": "BkCGo7GJ0EZe",
        "outputId": "e00d8838-c25c-4e95-f234-5c661a64147a"
      },
      "execution_count": 32,
      "outputs": [
        {
          "output_type": "execute_result",
          "data": {
            "text/plain": [
              "\"A neural network is a type of machine learning model which is designed to function somewhat similarly to the human brain. They are designed to recognize patterns and interpret sensory data through a kind of machine perception, labeling or clustering raw input. \\n\\nHere's a basic outline of how a neural network operates:\\n\\n1. **Input Layer**: The input layer receives various forms of data. This could be pixel values from an image, audio frequencies from a speech clip, alphanumeric data from a sales dataset, and so on.\\n\\n2. **Hidden Layers**: Hidden layers are the crux of the neural network. They perform computations and transfer information from the input layers to the output layer. A neural network can have zero to many hidden layers. \\n\\n3. **Output Layer**:\""
            ],
            "application/vnd.google.colaboratory.intrinsic+json": {
              "type": "string"
            }
          },
          "metadata": {},
          "execution_count": 32
        }
      ]
    },
    {
      "cell_type": "code",
      "source": [],
      "metadata": {
        "id": "oBRUrB451NiP"
      },
      "execution_count": null,
      "outputs": []
    }
  ]
}